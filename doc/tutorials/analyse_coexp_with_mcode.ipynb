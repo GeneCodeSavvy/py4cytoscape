{
 "cells": [
  {
   "cell_type": "code",
   "execution_count": null,
   "metadata": {},
   "outputs": [],
   "source": [
    "!pip install python-igraph requests pandas networkx\n",
    "!pip install git+https://github.com/bdemchak/py4cytoscape"
   ]
  },
  {
   "cell_type": "code",
   "execution_count": 1,
   "metadata": {},
   "outputs": [],
   "source": [
    "import py4cytoscape as py4\n",
    "import pandas as pd\n",
    "import os\n",
    "import uuid\n",
    "from logging import getLogger, INFO\n",
    "from concurrent_log_handler import ConcurrentRotatingFileHandler\n",
    "from IPython.display import Image\n",
    "from time import sleep\n",
    "%config InlineBackend.figure_format = 'svg'"
   ]
  },
  {
   "cell_type": "markdown",
   "metadata": {},
   "source": [
    "#### Clear all networks at the begining"
   ]
  },
  {
   "cell_type": "code",
   "execution_count": 2,
   "metadata": {},
   "outputs": [
    {
     "data": {
      "text/plain": [
       "{}"
      ]
     },
     "execution_count": 2,
     "metadata": {},
     "output_type": "execute_result"
    }
   ],
   "source": [
    "py4.session.close_session(False)"
   ]
  },
  {
   "cell_type": "markdown",
   "metadata": {},
   "source": [
    "#### Import Co-Exp Data and Rename columns"
   ]
  },
  {
   "cell_type": "code",
   "execution_count": 3,
   "metadata": {},
   "outputs": [],
   "source": [
    "results = pd.read_excel('input_data/co_exp_result.xlsx')\n",
    "results = results.rename(columns={'gene1': 'source', 'gene2': 'target'})"
   ]
  },
  {
   "cell_type": "markdown",
   "metadata": {},
   "source": [
    "#### Create network with co-exp data and give random network name"
   ]
  },
  {
   "cell_type": "code",
   "execution_count": 4,
   "metadata": {},
   "outputs": [
    {
     "data": {
      "text/plain": [
       "{'networkSUID': 29135}"
      ]
     },
     "execution_count": 4,
     "metadata": {},
     "output_type": "execute_result"
    }
   ],
   "source": [
    "network_name = uuid.uuid4().hex\n",
    "network_suid = py4.networks.create_network_from_data_frames(\n",
    "    edges=results, \n",
    "    title= network_name,\n",
    "    collection= network_name + '_collection'\n",
    ")"
   ]
  },
  {
   "cell_type": "markdown",
   "metadata": {},
   "source": [
    "#### Run analyze command so your network will be one way directed"
   ]
  },
  {
   "cell_type": "code",
   "execution_count": 5,
   "metadata": {},
   "outputs": [
    {
     "data": {
      "text/plain": [
       "{'networkTitle': '1f6423c99b1045c39ecfbf5e271ac9c4 (undirected)',\n",
       " 'nodeCount': '197',\n",
       " 'edgeCount': '1122',\n",
       " 'avNeighbors': '11.86096256684492',\n",
       " 'diameter': '8',\n",
       " 'radius': '5',\n",
       " 'avSpl': '3.271634753608188',\n",
       " 'cc': '0.5249889291420875',\n",
       " 'density': '0.06376861595077914',\n",
       " 'heterogeneity': '0.8353654292197396',\n",
       " 'centralization': '0.16378959604766055',\n",
       " 'ncc': '4',\n",
       " 'time': '0.043'}"
      ]
     },
     "execution_count": 5,
     "metadata": {},
     "output_type": "execute_result"
    }
   ],
   "source": [
    "analyze = py4.commands.commands_post('analyzer/analyze')"
   ]
  },
  {
   "cell_type": "markdown",
   "metadata": {},
   "source": [
    "#### Run mcode command with options (you can change network settings)"
   ]
  },
  {
   "cell_type": "code",
   "execution_count": null,
   "metadata": {},
   "outputs": [],
   "source": [
    "mcode = py4.commands.commands_post('mcode cluster degreeCutoff=2 fluff=false fluffNodeDensityCutoff=0.1 haircut=true includeLoops=false kCore=2 maxDepthFromStart=100 network=current nodeScoreCutoff=0.2 scope=NETWORK')\n",
    "sleep(5)"
   ]
  },
  {
   "cell_type": "markdown",
   "metadata": {},
   "source": [
    "#### Mcode created clusters, we need big clusters which is node count bigger than 20 (you can change threshold)"
   ]
  },
  {
   "cell_type": "code",
   "execution_count": 7,
   "metadata": {},
   "outputs": [
    {
     "data": {
      "text/plain": [
       "[0, 1, 2]"
      ]
     },
     "execution_count": 7,
     "metadata": {},
     "output_type": "execute_result"
    }
   ],
   "source": [
    "big_clusters = [i for i in range(len(mcode['clusters'])) if len(mcode['clusters'][i]['nodes']) >= 20]"
   ]
  },
  {
   "cell_type": "markdown",
   "metadata": {},
   "source": [
    "#### Create empty list and append cluster tables to in it\n",
    "#### Create cluster images as a png and network file as a .cyjs so you are able to use in cytoscape.js"
   ]
  },
  {
   "cell_type": "code",
   "execution_count": 8,
   "metadata": {},
   "outputs": [],
   "source": [
    "clusters = []\n",
    "for i in range(len(big_clusters)):\n",
    "    view_id = py4.commands.commands_post('mcode view id=1 rank=' + str(i+1) )\n",
    "    clusters.append( py4.tables.get_table_columns() \\\n",
    "                  .drop(columns=['id','name','selected','MCODE_Cluster','SUID']) \\\n",
    "                  .sort_values(by=['MCODE_Score'], ascending=False) \\\n",
    "                 .reset_index(drop=True) )\n",
    "    \n",
    "    py4.network_views.get_network_view_suid()\n",
    "    img_name = uuid.uuid4().hex\n",
    "    py4.export_image(str(img_name))\n",
    "    py4.export_network(img_name,'cyjs')\n",
    "    Image(img_name+'.png')"
   ]
  },
  {
   "cell_type": "code",
   "execution_count": null,
   "metadata": {},
   "outputs": [],
   "source": []
  }
 ],
 "metadata": {
  "kernelspec": {
   "display_name": "Python 3",
   "language": "python",
   "name": "python3"
  },
  "language_info": {
   "codemirror_mode": {
    "name": "ipython",
    "version": 3
   },
   "file_extension": ".py",
   "mimetype": "text/x-python",
   "name": "python",
   "nbconvert_exporter": "python",
   "pygments_lexer": "ipython3",
   "version": "3.8.3"
  }
 },
 "nbformat": 4,
 "nbformat_minor": 4
}
