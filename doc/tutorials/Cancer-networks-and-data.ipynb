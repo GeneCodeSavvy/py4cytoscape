{
 "cells": [
  {
   "cell_type": "markdown",
   "id": "c5e1d088-2119-4d2e-a046-05fb8c3022b2",
   "metadata": {
    "tags": []
   },
   "source": [
    "# Cancer networks and data\n",
    "\n",
    "This notebook will demonstrate network retrieval from the STRING database, basic analysis, TCGA data loading and visualization in Cytoscape from Python using the py4cytoscape package.\n",
    "\n",
    "[![Open In Colab](https://colab.research.google.com/assets/colab-badge.svg)](https://colab.research.google.com/github/cytoscape/py4cytoscape/blob/0.0.11/doc/tutorials/Cancer-networks-and-data.ipynb)\n",
    "\n",
    "**by Kozo Nishida, Alexander Pico, Barry Demchak**\n",
    "\n",
    "**py4cytoscape 0.0.11**\n",
    "\n",
    "## Prerequisites\n",
    "In addition to this package (py4cytoscape), you will need:\n",
    "\n",
    "- Cytoscape 3.8 or greater, which can be downloaded from https://cytoscape.org/download.html. Simply follow the installation instructions on screen.\n",
    "- Complete installation wizard\n",
    "- Launch Cytoscape\n",
    "- If your Cytoscape is 3.8.2 or earlier, install **FileTransfer App** (Follow [here](https://py4cytoscape.readthedocs.io/en/0.0.10/tutorials/index.html) to do it.)\n",
    "\n",
    "**NOTE: To run this notebook, you must manually start Cytoscape first – don’t proceed until you have started Cytoscape.**\n",
    "\n",
    "### Setup required only in a remote notebook environment\n",
    "\n",
    "If you’re using a remote Jupyter Notebook environment such as Google Colab, run the cell below. (If you’re running a local Jupyter Notebook server on the desktop machine same with Cytoscape, you don’t need to do that.)\n"
   ]
  },
  {
   "cell_type": "code",
   "execution_count": null,
   "id": "7e08f09c-a13d-42d5-a218-ee00e21ff566",
   "metadata": {},
   "outputs": [],
   "source": [
    "_PY4CYTOSCAPE = 'git+https://github.com/cytoscape/py4cytoscape@0.0.11'\n",
    "import requests\n",
    "exec(requests.get(\"https://raw.githubusercontent.com/cytoscape/jupyter-bridge/master/client/p4c_init.py\").text)\n",
    "IPython.display.Javascript(_PY4CYTOSCAPE_BROWSER_CLIENT_JS) # Start browser client"
   ]
  },
  {
   "cell_type": "markdown",
   "id": "49cd81e6",
   "metadata": {},
   "source": [
    "Note that to use the current py4cytoscape release (instead of v0.0.11), remove the _PY4CYTOSCAPE= line in the snippet above.\n",
    "\n",
    "\n",
    "### Sanity test to verify Cytoscape connection\n",
    "By now, the connection to Cytoscape should be up and available. To verify this, try a simple operation that doesn't alter the state of Cytoscape, but verifies that you have everything installed."
   ]
  },
  {
   "cell_type": "code",
   "execution_count": 1,
   "id": "d07aa616",
   "metadata": {
    "pycharm": {
     "name": "#%%\n"
    }
   },
   "outputs": [],
   "source": [
    "import py4cytoscape as p4c"
   ]
  },
  {
   "cell_type": "code",
   "execution_count": 2,
   "id": "bee0512d-7373-4318-82b6-904c2e01df5a",
   "metadata": {},
   "outputs": [
    {
     "name": "stdout",
     "output_type": "stream",
     "text": [
      "You are connected to Cytoscape!\n"
     ]
    },
    {
     "data": {
      "text/plain": [
       "'You are connected to Cytoscape!'"
      ]
     },
     "execution_count": 2,
     "metadata": {},
     "output_type": "execute_result"
    }
   ],
   "source": [
    "p4c.cytoscape_ping()"
   ]
  },
  {
   "cell_type": "code",
   "execution_count": 3,
   "id": "b127f4de-2046-48c0-af53-8372378d2b31",
   "metadata": {},
   "outputs": [
    {
     "name": "stderr",
     "output_type": "stream",
     "text": [
      "In commands_post(): java.lang.NullPointerException\n"
     ]
    },
    {
     "ename": "CyError",
     "evalue": "In commands_post(): java.lang.NullPointerException",
     "output_type": "error",
     "traceback": [
      "\u001B[1;31m---------------------------------------------------------------------------\u001B[0m",
      "\u001B[1;31mHTTPError\u001B[0m                                 Traceback (most recent call last)",
      "\u001B[1;32m~\\anaconda3\\lib\\site-packages\\py4cytoscape\\commands.py\u001B[0m in \u001B[0;36mcommands_post\u001B[1;34m(cmd, base_url)\u001B[0m\n\u001B[0;32m    389\u001B[0m         \u001B[0mr\u001B[0m \u001B[1;33m=\u001B[0m \u001B[0m_do_request\u001B[0m\u001B[1;33m(\u001B[0m\u001B[1;34m'POST'\u001B[0m\u001B[1;33m,\u001B[0m \u001B[0mpost_url\u001B[0m\u001B[1;33m,\u001B[0m \u001B[0mjson\u001B[0m\u001B[1;33m=\u001B[0m\u001B[0mpost_body\u001B[0m\u001B[1;33m,\u001B[0m \u001B[0mheaders\u001B[0m\u001B[1;33m=\u001B[0m\u001B[0mheaders\u001B[0m\u001B[1;33m,\u001B[0m \u001B[0mbase_url\u001B[0m\u001B[1;33m=\u001B[0m\u001B[0mbase_url\u001B[0m\u001B[1;33m)\u001B[0m\u001B[1;33m\u001B[0m\u001B[1;33m\u001B[0m\u001B[0m\n\u001B[1;32m--> 390\u001B[1;33m         \u001B[0mr\u001B[0m\u001B[1;33m.\u001B[0m\u001B[0mraise_for_status\u001B[0m\u001B[1;33m(\u001B[0m\u001B[1;33m)\u001B[0m\u001B[1;33m\u001B[0m\u001B[1;33m\u001B[0m\u001B[0m\n\u001B[0m\u001B[0;32m    391\u001B[0m         \u001B[0mres\u001B[0m \u001B[1;33m=\u001B[0m \u001B[0mjson\u001B[0m\u001B[1;33m.\u001B[0m\u001B[0mloads\u001B[0m\u001B[1;33m(\u001B[0m\u001B[0mr\u001B[0m\u001B[1;33m.\u001B[0m\u001B[0mtext\u001B[0m\u001B[1;33m)\u001B[0m\u001B[1;33m\u001B[0m\u001B[1;33m\u001B[0m\u001B[0m\n",
      "\u001B[1;32m~\\anaconda3\\lib\\site-packages\\requests\\models.py\u001B[0m in \u001B[0;36mraise_for_status\u001B[1;34m(self)\u001B[0m\n\u001B[0;32m    942\u001B[0m         \u001B[1;32mif\u001B[0m \u001B[0mhttp_error_msg\u001B[0m\u001B[1;33m:\u001B[0m\u001B[1;33m\u001B[0m\u001B[1;33m\u001B[0m\u001B[0m\n\u001B[1;32m--> 943\u001B[1;33m             \u001B[1;32mraise\u001B[0m \u001B[0mHTTPError\u001B[0m\u001B[1;33m(\u001B[0m\u001B[0mhttp_error_msg\u001B[0m\u001B[1;33m,\u001B[0m \u001B[0mresponse\u001B[0m\u001B[1;33m=\u001B[0m\u001B[0mself\u001B[0m\u001B[1;33m)\u001B[0m\u001B[1;33m\u001B[0m\u001B[1;33m\u001B[0m\u001B[0m\n\u001B[0m\u001B[0;32m    944\u001B[0m \u001B[1;33m\u001B[0m\u001B[0m\n",
      "\u001B[1;31mHTTPError\u001B[0m: 500 Server Error: Internal Server Error for url: http://127.0.0.1:1234/v1/commands/apps/install",
      "\nDuring handling of the above exception, another exception occurred:\n",
      "\u001B[1;31mCyError\u001B[0m                                   Traceback (most recent call last)",
      "\u001B[1;32m<ipython-input-3-677f1db4cf8d>\u001B[0m in \u001B[0;36m<module>\u001B[1;34m\u001B[0m\n\u001B[1;32m----> 1\u001B[1;33m \u001B[0mp4c\u001B[0m\u001B[1;33m.\u001B[0m\u001B[0minstall_app\u001B[0m\u001B[1;33m(\u001B[0m\u001B[1;34m'STRINGapp'\u001B[0m\u001B[1;33m)\u001B[0m\u001B[1;33m\u001B[0m\u001B[1;33m\u001B[0m\u001B[0m\n\u001B[0m",
      "\u001B[1;32m~\\anaconda3\\lib\\site-packages\\py4cytoscape\\py4cytoscape_logger.py\u001B[0m in \u001B[0;36mwrapper_log\u001B[1;34m(*args, **kwargs)\u001B[0m\n\u001B[0;32m    131\u001B[0m             \u001B[1;32mreturn\u001B[0m \u001B[0mlog_return\u001B[0m\u001B[1;33m(\u001B[0m\u001B[0mfunc\u001B[0m\u001B[1;33m,\u001B[0m \u001B[0mvalue\u001B[0m\u001B[1;33m)\u001B[0m\u001B[1;33m\u001B[0m\u001B[1;33m\u001B[0m\u001B[0m\n\u001B[0;32m    132\u001B[0m         \u001B[1;32mexcept\u001B[0m \u001B[0mException\u001B[0m \u001B[1;32mas\u001B[0m \u001B[0me\u001B[0m\u001B[1;33m:\u001B[0m\u001B[1;33m\u001B[0m\u001B[1;33m\u001B[0m\u001B[0m\n\u001B[1;32m--> 133\u001B[1;33m             \u001B[0mlog_exception\u001B[0m\u001B[1;33m(\u001B[0m\u001B[0mfunc\u001B[0m\u001B[1;33m,\u001B[0m \u001B[0me\u001B[0m\u001B[1;33m)\u001B[0m\u001B[1;33m\u001B[0m\u001B[1;33m\u001B[0m\u001B[0m\n\u001B[0m\u001B[0;32m    134\u001B[0m         \u001B[1;32mfinally\u001B[0m\u001B[1;33m:\u001B[0m\u001B[1;33m\u001B[0m\u001B[1;33m\u001B[0m\u001B[0m\n\u001B[0;32m    135\u001B[0m             \u001B[0mlog_finally\u001B[0m\u001B[1;33m(\u001B[0m\u001B[1;33m)\u001B[0m\u001B[1;33m\u001B[0m\u001B[1;33m\u001B[0m\u001B[0m\n",
      "\u001B[1;32m~\\anaconda3\\lib\\site-packages\\py4cytoscape\\py4cytoscape_logger.py\u001B[0m in \u001B[0;36mwrapper_log\u001B[1;34m(*args, **kwargs)\u001B[0m\n\u001B[0;32m    128\u001B[0m         \u001B[0mlog_incoming\u001B[0m\u001B[1;33m(\u001B[0m\u001B[0mfunc\u001B[0m\u001B[1;33m,\u001B[0m \u001B[1;33m*\u001B[0m\u001B[0margs\u001B[0m\u001B[1;33m,\u001B[0m \u001B[1;33m**\u001B[0m\u001B[0mkwargs\u001B[0m\u001B[1;33m)\u001B[0m\u001B[1;33m\u001B[0m\u001B[1;33m\u001B[0m\u001B[0m\n\u001B[0;32m    129\u001B[0m         \u001B[1;32mtry\u001B[0m\u001B[1;33m:\u001B[0m\u001B[1;33m\u001B[0m\u001B[1;33m\u001B[0m\u001B[0m\n\u001B[1;32m--> 130\u001B[1;33m             \u001B[0mvalue\u001B[0m \u001B[1;33m=\u001B[0m \u001B[0mfunc\u001B[0m\u001B[1;33m(\u001B[0m\u001B[1;33m*\u001B[0m\u001B[0margs\u001B[0m\u001B[1;33m,\u001B[0m \u001B[1;33m**\u001B[0m\u001B[0mkwargs\u001B[0m\u001B[1;33m)\u001B[0m \u001B[1;31m# Call function being logged\u001B[0m\u001B[1;33m\u001B[0m\u001B[1;33m\u001B[0m\u001B[0m\n\u001B[0m\u001B[0;32m    131\u001B[0m             \u001B[1;32mreturn\u001B[0m \u001B[0mlog_return\u001B[0m\u001B[1;33m(\u001B[0m\u001B[0mfunc\u001B[0m\u001B[1;33m,\u001B[0m \u001B[0mvalue\u001B[0m\u001B[1;33m)\u001B[0m\u001B[1;33m\u001B[0m\u001B[1;33m\u001B[0m\u001B[0m\n\u001B[0;32m    132\u001B[0m         \u001B[1;32mexcept\u001B[0m \u001B[0mException\u001B[0m \u001B[1;32mas\u001B[0m \u001B[0me\u001B[0m\u001B[1;33m:\u001B[0m\u001B[1;33m\u001B[0m\u001B[1;33m\u001B[0m\u001B[0m\n",
      "\u001B[1;32m~\\anaconda3\\lib\\site-packages\\py4cytoscape\\apps.py\u001B[0m in \u001B[0;36minstall_app\u001B[1;34m(app, base_url)\u001B[0m\n\u001B[0;32m    133\u001B[0m     \"\"\"\n\u001B[0;32m    134\u001B[0m     \u001B[0mverify_supported_versions\u001B[0m\u001B[1;33m(\u001B[0m\u001B[1;36m1\u001B[0m\u001B[1;33m,\u001B[0m \u001B[1;36m3.7\u001B[0m\u001B[1;33m,\u001B[0m \u001B[0mbase_url\u001B[0m\u001B[1;33m=\u001B[0m\u001B[0mbase_url\u001B[0m\u001B[1;33m)\u001B[0m\u001B[1;33m\u001B[0m\u001B[1;33m\u001B[0m\u001B[0m\n\u001B[1;32m--> 135\u001B[1;33m     \u001B[0mres\u001B[0m \u001B[1;33m=\u001B[0m \u001B[0mcommands\u001B[0m\u001B[1;33m.\u001B[0m\u001B[0mcommands_post\u001B[0m\u001B[1;33m(\u001B[0m\u001B[1;34mf'apps install app=\"{app}\"'\u001B[0m\u001B[1;33m,\u001B[0m \u001B[0mbase_url\u001B[0m\u001B[1;33m=\u001B[0m\u001B[0mbase_url\u001B[0m\u001B[1;33m)\u001B[0m\u001B[1;33m\u001B[0m\u001B[1;33m\u001B[0m\u001B[0m\n\u001B[0m\u001B[0;32m    136\u001B[0m     \u001B[1;32mreturn\u001B[0m \u001B[0mnarrate\u001B[0m\u001B[1;33m(\u001B[0m\u001B[0mres\u001B[0m\u001B[1;33m)\u001B[0m\u001B[1;33m\u001B[0m\u001B[1;33m\u001B[0m\u001B[0m\n\u001B[0;32m    137\u001B[0m \u001B[1;33m\u001B[0m\u001B[0m\n",
      "\u001B[1;32m~\\anaconda3\\lib\\site-packages\\py4cytoscape\\py4cytoscape_logger.py\u001B[0m in \u001B[0;36mwrapper_log\u001B[1;34m(*args, **kwargs)\u001B[0m\n\u001B[0;32m    131\u001B[0m             \u001B[1;32mreturn\u001B[0m \u001B[0mlog_return\u001B[0m\u001B[1;33m(\u001B[0m\u001B[0mfunc\u001B[0m\u001B[1;33m,\u001B[0m \u001B[0mvalue\u001B[0m\u001B[1;33m)\u001B[0m\u001B[1;33m\u001B[0m\u001B[1;33m\u001B[0m\u001B[0m\n\u001B[0;32m    132\u001B[0m         \u001B[1;32mexcept\u001B[0m \u001B[0mException\u001B[0m \u001B[1;32mas\u001B[0m \u001B[0me\u001B[0m\u001B[1;33m:\u001B[0m\u001B[1;33m\u001B[0m\u001B[1;33m\u001B[0m\u001B[0m\n\u001B[1;32m--> 133\u001B[1;33m             \u001B[0mlog_exception\u001B[0m\u001B[1;33m(\u001B[0m\u001B[0mfunc\u001B[0m\u001B[1;33m,\u001B[0m \u001B[0me\u001B[0m\u001B[1;33m)\u001B[0m\u001B[1;33m\u001B[0m\u001B[1;33m\u001B[0m\u001B[0m\n\u001B[0m\u001B[0;32m    134\u001B[0m         \u001B[1;32mfinally\u001B[0m\u001B[1;33m:\u001B[0m\u001B[1;33m\u001B[0m\u001B[1;33m\u001B[0m\u001B[0m\n\u001B[0;32m    135\u001B[0m             \u001B[0mlog_finally\u001B[0m\u001B[1;33m(\u001B[0m\u001B[1;33m)\u001B[0m\u001B[1;33m\u001B[0m\u001B[1;33m\u001B[0m\u001B[0m\n",
      "\u001B[1;32m~\\anaconda3\\lib\\site-packages\\py4cytoscape\\py4cytoscape_logger.py\u001B[0m in \u001B[0;36mwrapper_log\u001B[1;34m(*args, **kwargs)\u001B[0m\n\u001B[0;32m    128\u001B[0m         \u001B[0mlog_incoming\u001B[0m\u001B[1;33m(\u001B[0m\u001B[0mfunc\u001B[0m\u001B[1;33m,\u001B[0m \u001B[1;33m*\u001B[0m\u001B[0margs\u001B[0m\u001B[1;33m,\u001B[0m \u001B[1;33m**\u001B[0m\u001B[0mkwargs\u001B[0m\u001B[1;33m)\u001B[0m\u001B[1;33m\u001B[0m\u001B[1;33m\u001B[0m\u001B[0m\n\u001B[0;32m    129\u001B[0m         \u001B[1;32mtry\u001B[0m\u001B[1;33m:\u001B[0m\u001B[1;33m\u001B[0m\u001B[1;33m\u001B[0m\u001B[0m\n\u001B[1;32m--> 130\u001B[1;33m             \u001B[0mvalue\u001B[0m \u001B[1;33m=\u001B[0m \u001B[0mfunc\u001B[0m\u001B[1;33m(\u001B[0m\u001B[1;33m*\u001B[0m\u001B[0margs\u001B[0m\u001B[1;33m,\u001B[0m \u001B[1;33m**\u001B[0m\u001B[0mkwargs\u001B[0m\u001B[1;33m)\u001B[0m \u001B[1;31m# Call function being logged\u001B[0m\u001B[1;33m\u001B[0m\u001B[1;33m\u001B[0m\u001B[0m\n\u001B[0m\u001B[0;32m    131\u001B[0m             \u001B[1;32mreturn\u001B[0m \u001B[0mlog_return\u001B[0m\u001B[1;33m(\u001B[0m\u001B[0mfunc\u001B[0m\u001B[1;33m,\u001B[0m \u001B[0mvalue\u001B[0m\u001B[1;33m)\u001B[0m\u001B[1;33m\u001B[0m\u001B[1;33m\u001B[0m\u001B[0m\n\u001B[0;32m    132\u001B[0m         \u001B[1;32mexcept\u001B[0m \u001B[0mException\u001B[0m \u001B[1;32mas\u001B[0m \u001B[0me\u001B[0m\u001B[1;33m:\u001B[0m\u001B[1;33m\u001B[0m\u001B[1;33m\u001B[0m\u001B[0m\n",
      "\u001B[1;32m~\\anaconda3\\lib\\site-packages\\py4cytoscape\\commands.py\u001B[0m in \u001B[0;36mcommands_post\u001B[1;34m(cmd, base_url)\u001B[0m\n\u001B[0;32m    394\u001B[0m         \u001B[1;32mreturn\u001B[0m \u001B[0mres\u001B[0m\u001B[1;33m[\u001B[0m\u001B[1;34m'data'\u001B[0m\u001B[1;33m]\u001B[0m\u001B[1;33m\u001B[0m\u001B[1;33m\u001B[0m\u001B[0m\n\u001B[0;32m    395\u001B[0m     \u001B[1;32mexcept\u001B[0m \u001B[0mrequests\u001B[0m\u001B[1;33m.\u001B[0m\u001B[0mexceptions\u001B[0m\u001B[1;33m.\u001B[0m\u001B[0mRequestException\u001B[0m \u001B[1;32mas\u001B[0m \u001B[0me\u001B[0m\u001B[1;33m:\u001B[0m\u001B[1;33m\u001B[0m\u001B[1;33m\u001B[0m\u001B[0m\n\u001B[1;32m--> 396\u001B[1;33m         \u001B[0m_handle_error\u001B[0m\u001B[1;33m(\u001B[0m\u001B[0me\u001B[0m\u001B[1;33m)\u001B[0m\u001B[1;33m\u001B[0m\u001B[1;33m\u001B[0m\u001B[0m\n\u001B[0m\u001B[0;32m    397\u001B[0m \u001B[1;33m\u001B[0m\u001B[0m\n\u001B[0;32m    398\u001B[0m \u001B[1;33m\u001B[0m\u001B[0m\n",
      "\u001B[1;32m~\\anaconda3\\lib\\site-packages\\py4cytoscape\\commands.py\u001B[0m in \u001B[0;36m_handle_error\u001B[1;34m(e, force_cy_error)\u001B[0m\n\u001B[0;32m    680\u001B[0m             \u001B[1;32melse\u001B[0m\u001B[1;33m:\u001B[0m\u001B[1;33m\u001B[0m\u001B[1;33m\u001B[0m\u001B[0m\n\u001B[0;32m    681\u001B[0m                 \u001B[0mshow_error\u001B[0m\u001B[1;33m(\u001B[0m\u001B[1;34mf'In {caller}: {e}\\n{content}'\u001B[0m\u001B[1;33m)\u001B[0m\u001B[1;33m\u001B[0m\u001B[1;33m\u001B[0m\u001B[0m\n\u001B[1;32m--> 682\u001B[1;33m         \u001B[1;32mraise\u001B[0m \u001B[0me\u001B[0m\u001B[1;33m\u001B[0m\u001B[1;33m\u001B[0m\u001B[0m\n\u001B[0m\u001B[0;32m    683\u001B[0m \u001B[1;33m\u001B[0m\u001B[0m\n\u001B[0;32m    684\u001B[0m \u001B[1;33m\u001B[0m\u001B[0m\n",
      "\u001B[1;31mCyError\u001B[0m: In commands_post(): java.lang.NullPointerException"
     ]
    }
   ],
   "source": [
    "p4c.install_app('STRINGapp')"
   ]
  },
  {
   "cell_type": "markdown",
   "id": "da4fa08d-55ff-4cea-9205-a0da34faafe4",
   "metadata": {},
   "source": [
    "## Getting Disease Networks\n",
    "\n",
    "Use Cytoscape to query the STRING database for networks of genes associated with breast cancer and ovarian cancer.\n",
    "\n",
    "**If the STRING app is not installed, no error is reported, but your network will be empty**\n",
    "\n",
    "### Query STRING database by disease to generate networks\n",
    "#### Breast cancer"
   ]
  },
  {
   "cell_type": "code",
   "execution_count": null,
   "id": "6f23fa51-e02a-4bca-872a-44d570b3fb61",
   "metadata": {},
   "outputs": [],
   "source": [
    "string_cmd = 'string disease query disease=\"breast cancer\" cutoff=0.9 species=\"Homo sapiens\" limit=150'\n",
    "p4c.commands_run(string_cmd)"
   ]
  },
  {
   "cell_type": "code",
   "execution_count": null,
   "id": "24edcc46-c2fb-44ff-94e5-43c773c793f2",
   "metadata": {},
   "outputs": [],
   "source": [
    "p4c.notebook_export_show_image()"
   ]
  },
  {
   "cell_type": "markdown",
   "id": "aeeb647e-b5ce-42f0-8cd3-271a98456670",
   "metadata": {},
   "source": [
    "Here we are using Cytoscape’s command line syntax, which can be used for any core or app automation function, and then making a GET request. Use *p4c.commands_help* to interrogate the functions and parameters available in your active Cytoscape session, including the apps you’ve installed!"
   ]
  },
  {
   "cell_type": "code",
   "execution_count": null,
   "id": "e256bd84-6696-4bf2-81ce-3fea6c877b69",
   "metadata": {},
   "outputs": [],
   "source": [
    "p4c.commands_help('string')"
   ]
  },
  {
   "cell_type": "code",
   "execution_count": null,
   "id": "d5b4d90e-bd9b-4f7f-ba97-93a131933c84",
   "metadata": {},
   "outputs": [],
   "source": [
    "p4c.commands_help('string disease query')"
   ]
  },
  {
   "cell_type": "markdown",
   "id": "3bbfc00c-992d-4d82-b19d-f5601391a702",
   "metadata": {},
   "source": [
    "#### Ovarian cancer"
   ]
  },
  {
   "cell_type": "code",
   "execution_count": null,
   "id": "2dd810ab-1ebe-4563-9420-e8974f2c76d0",
   "metadata": {},
   "outputs": [],
   "source": [
    "string_cmd = 'string disease query disease=\"ovarian cancer\" cutoff=0.9 species=\"Homo sapiens\" limit=150'\n",
    "p4c.commands_run(string_cmd)"
   ]
  },
  {
   "cell_type": "code",
   "execution_count": null,
   "id": "f13618d3-26d5-40fb-8f1c-b88f6a59fd2b",
   "metadata": {},
   "outputs": [],
   "source": [
    "p4c.notebook_export_show_image()"
   ]
  },
  {
   "cell_type": "markdown",
   "id": "1112c7c6-db0f-413e-b450-37da806b9e85",
   "metadata": {},
   "source": [
    "## Interacting with Cytoscape\n",
    "Now that we’ve got a couple networks into Cytoscape, let’s see what we can do with them from Python…\n",
    "\n",
    "### Get list of networks"
   ]
  },
  {
   "cell_type": "code",
   "execution_count": null,
   "id": "f1d3213d-5d45-4843-8216-49987cd2d46f",
   "metadata": {},
   "outputs": [],
   "source": [
    "p4c.get_network_list()"
   ]
  },
  {
   "cell_type": "markdown",
   "id": "8c9b4183-3892-4a05-a80c-4bc22956672d",
   "metadata": {},
   "source": [
    "### Layout network"
   ]
  },
  {
   "cell_type": "code",
   "execution_count": null,
   "id": "dbcb9812-c031-4345-9fcb-272e5f8b8605",
   "metadata": {},
   "outputs": [],
   "source": [
    "p4c.layout_network(layout_name='circular')"
   ]
  },
  {
   "cell_type": "code",
   "execution_count": null,
   "id": "dbc1d07b-596d-4bdb-9f21-48ed94ab1464",
   "metadata": {},
   "outputs": [],
   "source": [
    "p4c.notebook_export_show_image()"
   ]
  },
  {
   "cell_type": "markdown",
   "id": "0d3d87e6-7a74-4fe0-8676-6fdc627b4458",
   "metadata": {},
   "source": [
    "#### List of layout algorithms available"
   ]
  },
  {
   "cell_type": "code",
   "execution_count": null,
   "id": "0fe2faa1-fcf8-457d-b2a7-125e47b4efd7",
   "metadata": {},
   "outputs": [],
   "source": [
    "p4c.get_layout_names()"
   ]
  },
  {
   "cell_type": "markdown",
   "id": "95fbc2b4-555b-4d9b-8ef2-40f767ef3c1f",
   "metadata": {},
   "source": [
    "#### Layout with parameters!"
   ]
  },
  {
   "cell_type": "code",
   "execution_count": null,
   "id": "731d011a-605a-43b4-a606-935a8d4c63cc",
   "metadata": {},
   "outputs": [],
   "source": [
    "p4c.get_layout_property_names(layout_name='force-directed')"
   ]
  },
  {
   "cell_type": "code",
   "execution_count": null,
   "id": "ee3de816-6fc9-4eff-8266-5f193f0b46f3",
   "metadata": {},
   "outputs": [],
   "source": [
    "p4c.layout_network('force-directed defaultSpringCoefficient=0.0000008 defaultSpringLength=70')"
   ]
  },
  {
   "cell_type": "code",
   "execution_count": null,
   "id": "d86788e5-c842-44bf-87cb-678f77772ae4",
   "metadata": {},
   "outputs": [],
   "source": [
    "p4c.notebook_export_show_image()"
   ]
  },
  {
   "cell_type": "markdown",
   "id": "679a52b1-8f91-479a-9d6e-cb19404f35d6",
   "metadata": {},
   "source": [
    "### Get table data from network\n",
    "\n",
    "Now, let’s look at the tablular data associated with our STRING networks…"
   ]
  },
  {
   "cell_type": "code",
   "execution_count": null,
   "id": "fcff6d9e-22e9-4e65-b94b-c56d66290f4b",
   "metadata": {},
   "outputs": [],
   "source": [
    "p4c.get_table_column_names('node')"
   ]
  },
  {
   "cell_type": "markdown",
   "id": "636b3035-3a07-419c-b38c-8639d90f2b97",
   "metadata": {
    "tags": []
   },
   "source": [
    "One of the great things about the STRING database is all the node and edge attriubtes they provide. Let’s pull some of it into Python to play with…\n",
    "\n",
    "#### Retrieve disease scores\n",
    "We can retrieve any set of columns from Cytoscape and store them as a Python pandas.DataFrame keyed by SUID. In this case, let’s retrieve the disease score column from the node table. Those will be our two parameters:"
   ]
  },
  {
   "cell_type": "code",
   "execution_count": null,
   "id": "2b3c0203-3d42-407c-8aa8-e9ddbb5669ab",
   "metadata": {},
   "outputs": [],
   "source": [
    "disease_score_table = p4c.get_table_columns('node','stringdb::disease score')"
   ]
  },
  {
   "cell_type": "code",
   "execution_count": null,
   "id": "ee9f162e-2858-491c-b925-36f9817e653c",
   "metadata": {},
   "outputs": [],
   "source": [
    "disease_score_table"
   ]
  },
  {
   "cell_type": "code",
   "execution_count": null,
   "id": "80dfefd7-bd0f-4abc-9c3a-c1a4e0f67b6e",
   "metadata": {},
   "outputs": [],
   "source": [
    "disease_score = disease_score_table['stringdb::disease score'].astype('float')\n",
    "node_suid = disease_score_table.index.values.astype(str)"
   ]
  },
  {
   "cell_type": "code",
   "execution_count": null,
   "id": "dd5b96c3-4f7e-4bb2-8573-c747d0a2b65b",
   "metadata": {},
   "outputs": [],
   "source": [
    "disease_score"
   ]
  },
  {
   "cell_type": "code",
   "execution_count": null,
   "id": "9aab396b-3381-4a17-be16-cce9e10bbeff",
   "metadata": {},
   "outputs": [],
   "source": [
    "node_suid"
   ]
  },
  {
   "cell_type": "markdown",
   "id": "23a13bec-1693-4b65-852b-abad60d52c9b",
   "metadata": {},
   "source": [
    "#### Plot distribution and pick threshold\n",
    "Now you can use Python like you normally would explore the data."
   ]
  },
  {
   "cell_type": "code",
   "execution_count": null,
   "id": "a7a36c52-5cc6-4894-8fc2-e340dde329c9",
   "metadata": {},
   "outputs": [],
   "source": [
    "import matplotlib.pyplot as plt\n",
    "plt.figure(figsize=(25.6,19.2))\n",
    "plt.xticks(rotation=270)\n",
    "plt.scatter(node_suid, disease_score)"
   ]
  },
  {
   "cell_type": "code",
   "execution_count": null,
   "id": "868eabee-79ba-43fa-a762-8d736bd87d56",
   "metadata": {},
   "outputs": [],
   "source": [
    "disease_score.describe()"
   ]
  },
  {
   "cell_type": "markdown",
   "id": "12cf9497-6312-4ef1-9bd3-1a731fc33c99",
   "metadata": {},
   "source": [
    "### Generate subnetworks\n",
    "In order to reflect your exploration back onto the network, let’s generate subnetworks…\n",
    "\n",
    "…from top quartile of ‘disease score’"
   ]
  },
  {
   "cell_type": "code",
   "execution_count": null,
   "id": "9f8b70b2-3dfb-4802-b722-d2ed7cfea6c6",
   "metadata": {},
   "outputs": [],
   "source": [
    "top_quart = disease_score.quantile(q=0.75)"
   ]
  },
  {
   "cell_type": "code",
   "execution_count": null,
   "id": "8ba0aaff-a200-4177-8dd7-a055624f8b96",
   "metadata": {},
   "outputs": [],
   "source": [
    "top_quart"
   ]
  },
  {
   "cell_type": "code",
   "execution_count": null,
   "id": "4d73c86a-8a4e-4e37-8cde-d6110fa62171",
   "metadata": {},
   "outputs": [],
   "source": [
    "top_nodes = disease_score[disease_score > top_quart].index.values.astype(str)"
   ]
  },
  {
   "cell_type": "code",
   "execution_count": null,
   "id": "77b4080b-55b1-48da-9e57-39fac94c48f1",
   "metadata": {},
   "outputs": [],
   "source": [
    "top_nodes.tolist()"
   ]
  },
  {
   "cell_type": "code",
   "execution_count": null,
   "id": "6b47fa7e-8934-40c6-8fa6-249df5dc42e0",
   "metadata": {},
   "outputs": [],
   "source": [
    "p4c.create_subnetwork(top_nodes.tolist(), subnetwork_name='top disease quartile')\n",
    "#returns a Cytoscape network SUID"
   ]
  },
  {
   "cell_type": "code",
   "execution_count": null,
   "id": "b3f6f6c9-f621-448b-9e6b-2c06e1b9b94c",
   "metadata": {},
   "outputs": [],
   "source": [
    "p4c.notebook_export_show_image()"
   ]
  },
  {
   "cell_type": "markdown",
   "id": "f468d2b1-f381-4fec-b6f5-8350feadf474",
   "metadata": {},
   "source": [
    "…of connected nodes only"
   ]
  },
  {
   "cell_type": "code",
   "execution_count": null,
   "id": "1839c5e2-ae59-4ee6-8d4c-5fef53c4ccca",
   "metadata": {},
   "outputs": [],
   "source": [
    "p4c.create_subnetwork(edges='all',subnetwork_name='top disease quartile connected')  #handy way to exclude unconnected nodes!"
   ]
  },
  {
   "cell_type": "code",
   "execution_count": null,
   "id": "ee2f620f-ae02-4025-8dc9-2ed58082b2a6",
   "metadata": {},
   "outputs": [],
   "source": [
    "p4c.notebook_export_show_image()"
   ]
  },
  {
   "cell_type": "markdown",
   "id": "495c81a9-b54f-4007-92e5-fe0921198bbc",
   "metadata": {},
   "source": [
    "…from first neighbors of top disease score genes, using the network connectivity together with the data to direct discovery."
   ]
  },
  {
   "cell_type": "code",
   "execution_count": null,
   "id": "1d3343f3-e308-44f6-942b-de9774e0cd64",
   "metadata": {},
   "outputs": [],
   "source": [
    "p4c.set_current_network(network=\"STRING network - ovarian cancer\")"
   ]
  },
  {
   "cell_type": "code",
   "execution_count": null,
   "id": "70420c92-10ed-4949-bab8-65883e773b1a",
   "metadata": {},
   "outputs": [],
   "source": [
    "max(disease_score)"
   ]
  },
  {
   "cell_type": "code",
   "execution_count": null,
   "id": "7553f66f-6a4d-454f-952a-d20bb79b01da",
   "metadata": {},
   "outputs": [],
   "source": [
    "top_nodes = disease_score[disease_score==max(disease_score)].index.values.astype(str).tolist()"
   ]
  },
  {
   "cell_type": "code",
   "execution_count": null,
   "id": "0792be31-7dce-4707-a7ed-f735dbcf56a2",
   "metadata": {},
   "outputs": [],
   "source": [
    "top_nodes"
   ]
  },
  {
   "cell_type": "code",
   "execution_count": null,
   "id": "96cc248b-16b5-427d-acc0-9778f0e4022f",
   "metadata": {},
   "outputs": [],
   "source": [
    "p4c.select_nodes(nodes=top_nodes)"
   ]
  },
  {
   "cell_type": "code",
   "execution_count": null,
   "id": "73c095a9-ad71-42b9-9693-f3b5bca51252",
   "metadata": {},
   "outputs": [],
   "source": [
    "p4c.select_first_neighbors()"
   ]
  },
  {
   "cell_type": "code",
   "execution_count": null,
   "id": "0e51ba68-7515-4241-b215-2a270b21a6e6",
   "metadata": {},
   "outputs": [],
   "source": [
    "p4c.create_subnetwork('selected', subnetwork_name='top disease neighbors') # selected nodes, all connecting edges (default)"
   ]
  },
  {
   "cell_type": "code",
   "execution_count": null,
   "id": "d6bd6150-b768-469b-bdf9-8c9b5a98aa45",
   "metadata": {},
   "outputs": [],
   "source": [
    "p4c.notebook_export_show_image()"
   ]
  },
  {
   "cell_type": "markdown",
   "id": "30e11114-17f0-463f-b790-9c47a4fd4e24",
   "metadata": {},
   "source": [
    "…from diffusion algorithm starting with top disease score genes, using the network connectivity in a more subtle way than just first-degree neighbors."
   ]
  },
  {
   "cell_type": "code",
   "execution_count": null,
   "id": "d01d0466-f80a-4bf6-8bc6-3d3ada64ce4f",
   "metadata": {},
   "outputs": [],
   "source": [
    "p4c.set_current_network(network=\"STRING network - ovarian cancer\")"
   ]
  },
  {
   "cell_type": "code",
   "execution_count": null,
   "id": "c54f0688-3ba7-445d-8e9f-44bbd0b0b325",
   "metadata": {},
   "outputs": [],
   "source": [
    "p4c.select_nodes(nodes=top_nodes)"
   ]
  },
  {
   "cell_type": "code",
   "execution_count": null,
   "id": "e51c1011-5bd9-48c1-be5e-264054e01635",
   "metadata": {},
   "outputs": [],
   "source": [
    "p4c.commands_post('diffusion diffuse') # diffusion!"
   ]
  },
  {
   "cell_type": "code",
   "execution_count": null,
   "id": "db8976fa-c621-4310-a2bc-b29becfe0149",
   "metadata": {},
   "outputs": [],
   "source": [
    "p4c.create_subnetwork('selected', subnetwork_name='top disease diffusion')"
   ]
  },
  {
   "cell_type": "code",
   "execution_count": null,
   "id": "78467790-46f2-4dd7-bc78-739567977ca5",
   "metadata": {},
   "outputs": [],
   "source": [
    "p4c.notebook_export_show_image()"
   ]
  },
  {
   "cell_type": "code",
   "execution_count": null,
   "id": "c6053c1e-8827-426f-80d9-e829beded1fe",
   "metadata": {},
   "outputs": [],
   "source": [
    "p4c.layout_network('force-directed')"
   ]
  },
  {
   "cell_type": "code",
   "execution_count": null,
   "id": "6f82d0b8-93be-4e2e-aab7-98cec59df9ae",
   "metadata": {},
   "outputs": [],
   "source": [
    "p4c.notebook_export_show_image()"
   ]
  },
  {
   "cell_type": "markdown",
   "id": "8842c7f9-8977-4be3-9feb-5c63090fc43e",
   "metadata": {},
   "source": [
    "Pro-tip: don’t forget to **p4c.set_current_network()** to the correct parent network before getting table column data and making selections."
   ]
  },
  {
   "cell_type": "code",
   "execution_count": null,
   "id": "ee3b7556-596a-4900-a13e-a8818816aacf",
   "metadata": {},
   "outputs": [],
   "source": []
  }
 ],
 "metadata": {
  "kernelspec": {
   "display_name": "Python 3",
   "language": "python",
   "name": "python3"
  },
  "language_info": {
   "codemirror_mode": {
    "name": "ipython",
    "version": 3
   },
   "file_extension": ".py",
   "mimetype": "text/x-python",
   "name": "python",
   "nbconvert_exporter": "python",
   "pygments_lexer": "ipython3",
   "version": "3.8.8"
  }
 },
 "nbformat": 4,
 "nbformat_minor": 5
}