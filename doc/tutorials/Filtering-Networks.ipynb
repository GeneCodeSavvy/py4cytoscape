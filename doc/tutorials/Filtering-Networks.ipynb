{
  "nbformat": 4,
  "nbformat_minor": 0,
  "metadata": {
    "colab": {
      "name": "Filtering-Networks.ipynb",
      "private_outputs": true,
      "provenance": []
    },
    "kernelspec": {
      "name": "python3",
      "display_name": "Python 3"
    },
    "language_info": {
      "name": "python"
    }
  },
  "cells": [
    {
      "cell_type": "markdown",
      "metadata": {
        "id": "wSGNjLkoXRUO"
      },
      "source": [
        "# Filtering Networks\n",
        "***Kozo Nishida, Kristina Hanspers, Alexander Pico, Barry Demchak***\n",
        "\n",
        "**Package**\n",
        "\n",
        "py4cytoscape 0.0.9\n",
        "\n",
        "This vignette will introduce you to some techniques for filtering a network based on node properties. You will learn to:\n",
        "\n",
        "- Select a set of nodes based on node degree and attribute filters\n",
        "- Create a subnetwork based on selected nodes\n",
        "- Hide a set of nodes based on filters\n",
        "\n",
        "For this tutorial, we will use data from the STRING database (https://string-db.org/).\n",
        "\n",
        "---\n",
        "## Setup data files, py4cytoscape and Cytoscape connection\n",
        "---\n",
        "**NOTE: To run this notebook, you must manually start Cytoscape first -- don't proceed until you have started Cytoscape.**"
      ]
    },
    {
      "cell_type": "markdown",
      "metadata": {
        "id": "5Z0isdm6XUKN"
      },
      "source": [
        "---\n",
        "### Setup: Fetch latest py4cytoscape"
      ]
    },
    {
      "cell_type": "markdown",
      "metadata": {
        "id": "UIv0xlyNXjW4"
      },
      "source": [
        "**Note that you can fetch from the latest Github unreleased version by setting _PY4CYTOSCAPE to 'git+https://github.com/cytoscape/py4cytoscape' immediately before the exec() call. To fetch a particular branch, add '@' to the end (e.g., 'git+https://github.com/cytoscape/py4cytoscape@0.0.10').**\n",
        "\n",
        "To load the default (PyPI) py4cytoscape version, do not set _PY4CYTOSCAPE at all."
      ]
    },
    {
      "cell_type": "code",
      "metadata": {
        "id": "Xyura_OhXLsz"
      },
      "source": [
        "_PY4CYTOSCAPE = 'git+https://github.com/cytoscape/py4cytoscape@0.0.10' # optional\n",
        "import requests\n",
        "\n",
        "exec(requests.get(\"https://raw.githubusercontent.com/cytoscape/jupyter-bridge/master/client/p4c_init.py\").text)\n",
        "\n",
        "IPython.display.Javascript(_PY4CYTOSCAPE_BROWSER_CLIENT_JS) # Start browser client"
      ],
      "execution_count": null,
      "outputs": []
    },
    {
      "cell_type": "markdown",
      "metadata": {
        "id": "AVpV2ZR7X0fV"
      },
      "source": [
        "---\n",
        "## Setup: Sanity test to verify Cytoscape connection\n"
      ]
    },
    {
      "cell_type": "markdown",
      "metadata": {
        "id": "baZuzfvnX3wv"
      },
      "source": [
        "By now, the connection to Cytoscape should be up and available. To verify this, try a simple operation that doesn't alter the state of Cytoscape."
      ]
    },
    {
      "cell_type": "code",
      "metadata": {
        "id": "U95QR1dpXmsE"
      },
      "source": [
        "p4c.cytoscape_version_info()"
      ],
      "execution_count": null,
      "outputs": []
    },
    {
      "cell_type": "markdown",
      "metadata": {
        "id": "V7prbtYBbUm0"
      },
      "source": [
        "## Prerequisites"
      ]
    },
    {
      "cell_type": "code",
      "metadata": {
        "id": "2CssbiNbbU-n"
      },
      "source": [
        "p4c.install_app('STRINGapp')"
      ],
      "execution_count": null,
      "outputs": []
    },
    {
      "cell_type": "markdown",
      "metadata": {
        "id": "fZ8333GmYGcw"
      },
      "source": [
        "## Get network from STRING\n",
        "We are going to query the STRING Disease database for the term “breast cancer”. By default, the app pulls the top 100 human proteins associated with the disease along with edges having an evidence strength of 0.4 or greater:"
      ]
    },
    {
      "cell_type": "code",
      "metadata": {
        "id": "K-DDykm-X9gB"
      },
      "source": [
        "string_cmd = 'string disease query disease=\"breast cancer\"'\n",
        "p4c.commands_run(string_cmd)\n",
        "string_net = p4c.get_network_suid()"
      ],
      "execution_count": null,
      "outputs": []
    },
    {
      "cell_type": "code",
      "metadata": {
        "id": "Y8I_BemIYWj2"
      },
      "source": [
        "from IPython import display\n",
        "p4c.export_image(\"img1.png\")\n",
        "p4c.sandbox_get_from(\"img1.png\")\n",
        "display.Image(\"img1.png\")"
      ],
      "execution_count": null,
      "outputs": []
    },
    {
      "cell_type": "markdown",
      "metadata": {
        "id": "3RIuZU7hYbw-"
      },
      "source": [
        "## Filtering by degree\n",
        "### Creating a degree filter\n",
        "Every node in a network has a Degree property, which corresponds to the number of edges connecting the node to other nodes, either as a target or source. Filtering based on node degree is a useful way to remove nodes with too few (or too many) connections.\n",
        "\n",
        "In this example we want to exclude low degree nodes, e.g., those with only 0, 1 or 2 connections:\n"
      ]
    },
    {
      "cell_type": "code",
      "metadata": {
        "id": "Cx4JpgThYf4w"
      },
      "source": [
        "p4c.create_degree_filter('degree filter', [0,2], 'IS_NOT_BETWEEN')"
      ],
      "execution_count": null,
      "outputs": []
    },
    {
      "cell_type": "code",
      "metadata": {
        "id": "6nYucTQ2ZbN2"
      },
      "source": [
        "p4c.export_image(\"img2.png\")\n",
        "p4c.sandbox_get_from(\"img2.png\")\n",
        "display.Image(\"img2.png\")"
      ],
      "execution_count": null,
      "outputs": []
    },
    {
      "cell_type": "markdown",
      "metadata": {
        "id": "0nXzy9fVcyFz"
      },
      "source": [
        "At the bottom of the Select tab, you can see how many edges/nodes where selected.\n",
        "\n",
        "### Creating a subnetwork from a selection\n",
        "\n",
        "We can now create a new network, or subnetwork, from our selected set of nodes and all relevant edges:"
      ]
    },
    {
      "cell_type": "code",
      "metadata": {
        "id": "OLOpOJEaaACB"
      },
      "source": [
        "p4c.create_subnetwork(subnetwork_name='Breast cancer: highly connected nodes')"
      ],
      "execution_count": null,
      "outputs": []
    },
    {
      "cell_type": "code",
      "metadata": {
        "id": "K01Q19YCaAsg"
      },
      "source": [
        "p4c.export_image(\"img3.png\")\n",
        "p4c.sandbox_get_from(\"img3.png\")\n",
        "display.Image(\"img3.png\")"
      ],
      "execution_count": null,
      "outputs": []
    },
    {
      "cell_type": "markdown",
      "metadata": {
        "id": "QCMDJGuNaMrF"
      },
      "source": [
        "## Filtering by attribute\n",
        "\n",
        "### Creating a column filter\n",
        "\n",
        "We could also filter the network based on high disease score. The disease score comes from STRING and indicates the strength of the association to the disease queried.\n",
        "\n",
        "Let’s select nodes from the original network with a disease score of greater than 4 (on a scale of 1-5):"
      ]
    },
    {
      "cell_type": "code",
      "metadata": {
        "id": "SNRvDRrJaEQy"
      },
      "source": [
        "p4c.create_column_filter(filter_name='disease score filter', column='stringdb::disease score', criterion=4, predicate='GREATER_THAN', network=string_net)"
      ],
      "execution_count": null,
      "outputs": []
    },
    {
      "cell_type": "code",
      "metadata": {
        "id": "FiFBkOAEaQmg"
      },
      "source": [
        "p4c.export_image(\"img4.png\")\n",
        "p4c.sandbox_get_from(\"img4.png\")\n",
        "display.Image(\"img4.png\")"
      ],
      "execution_count": null,
      "outputs": []
    },
    {
      "cell_type": "markdown",
      "metadata": {
        "id": "gfxtlK0QaXru"
      },
      "source": [
        "Again, we can create a subnetwork from the selection:"
      ]
    },
    {
      "cell_type": "code",
      "metadata": {
        "id": "4qNoZIdiaUMY"
      },
      "source": [
        "p4c.create_subnetwork(subnetwork_name='Breast cancer: high disease score')"
      ],
      "execution_count": null,
      "outputs": []
    },
    {
      "cell_type": "code",
      "metadata": {
        "id": "jvMby5ldaa9k"
      },
      "source": [
        "p4c.export_image(\"img5.png\")\n",
        "p4c.sandbox_get_from(\"img5.png\")\n",
        "display.Image(\"img5.png\")"
      ],
      "execution_count": null,
      "outputs": []
    },
    {
      "cell_type": "markdown",
      "metadata": {
        "id": "H0r22m3OagDD"
      },
      "source": [
        "## Combining filters\n",
        "But what if we want to combine these two filters? You could apply them sequentially as individual filters, but then you’d need to be careful about the order in which you apply the filters. Alternatively, you can create a composite filter and apply the logic all at once!\n",
        "\n",
        "Let’s combine the two filters “degree filter” and “disease score” to produce one filter, then apply it to the original network and create a final subnetwork:"
      ]
    },
    {
      "cell_type": "code",
      "metadata": {
        "id": "DYeBHDXKajAI"
      },
      "source": [
        "p4c.create_composite_filter('combined filter', ['degree filter','disease score filter'], network=string_net)"
      ],
      "execution_count": null,
      "outputs": []
    },
    {
      "cell_type": "code",
      "metadata": {
        "id": "bv4rtplpemeF"
      },
      "source": [
        "p4c.create_subnetwork(subnetwork_name='final subnetwork')"
      ],
      "execution_count": null,
      "outputs": []
    },
    {
      "cell_type": "code",
      "metadata": {
        "id": "uj4eDqeoerON"
      },
      "source": [
        "p4c.export_image(\"img6.png\")\n",
        "p4c.sandbox_get_from(\"img6.png\")\n",
        "display.Image(\"img6.png\")"
      ],
      "execution_count": null,
      "outputs": []
    },
    {
      "cell_type": "markdown",
      "metadata": {
        "id": "78AdKp8Be-lf"
      },
      "source": [
        "We can apply a layout to help with interpreting the network:"
      ]
    },
    {
      "cell_type": "code",
      "metadata": {
        "id": "aW5bvZY1e4UW"
      },
      "source": [
        "p4c.layout_network('force-directed defaultSpringCoefficient=5E-6')"
      ],
      "execution_count": null,
      "outputs": []
    },
    {
      "cell_type": "code",
      "metadata": {
        "id": "dSY4DYTAfBUu"
      },
      "source": [
        "p4c.export_image(\"img7.png\")\n",
        "p4c.sandbox_get_from(\"img7.png\")\n",
        "display.Image(\"img7.png\")"
      ],
      "execution_count": null,
      "outputs": []
    },
    {
      "cell_type": "markdown",
      "metadata": {
        "id": "SRljA_XgfNmc"
      },
      "source": [
        "This final network obviously contains fewer nodes than the original, but they are the most connected and most highly associated with the disease. If you examine the network you can see several well-known breast cancer oncogenes, for example BRCA1, TP53 and PTEN, near the center of the action.\n",
        "\n",
        "## Hiding filtered nodes\n",
        "\n",
        "As a final example of the filter functions, let’s return to the orignal network once more and apply our “combined filter”. But this time let’s *hide* the filtered out nodes, rather than forming a selection. This demonstrates the *applyFilter* function and the *hide* parameter that is optional for all *createXXXFilter* functions as well."
      ]
    },
    {
      "cell_type": "code",
      "metadata": {
        "id": "TSnCnzX7fHhX"
      },
      "source": [
        "p4c.apply_filter('combined filter', hide=True, network=string_net)"
      ],
      "execution_count": null,
      "outputs": []
    },
    {
      "cell_type": "code",
      "metadata": {
        "id": "yI2N-W-yfXPy"
      },
      "source": [
        ""
      ],
      "execution_count": null,
      "outputs": []
    }
  ]
}