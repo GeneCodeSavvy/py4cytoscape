{
 "cells": [
  {
   "cell_type": "markdown",
   "metadata": {
    "id": "khjUrLor-5w_",
    "pycharm": {
     "name": "#%% md\n"
    }
   },
   "source": [
    "This is a reproduction of the [Biological Network Exploration with Cytoscape 3](https://pubmed.ncbi.nlm.nih.gov/25199793/) Basic Protocol 2, which imports data from the Goh/Barabasi human disease network and displays it for exploration.\n",
    "\n",
    "Note that this workflow executes in a Jupyter Notebook running on your workstation, and communicates with a copy of Cytoscape also running on your workstation. For a similar workflow that runs on a cloud server (e.g., Google Colab), see [here](https://github.com/bdemchak/cytoscape-jupyter/tree/main/gangsu)."
   ]
  },
  {
   "cell_type": "markdown",
   "metadata": {
    "id": "EynlCq2w336-",
    "pycharm": {
     "name": "#%% md\n"
    }
   },
   "source": [
    "---\n",
    "# Setup data files, py4cytoscape and Cytoscape connection\n",
    "**NOTE: To run this notebook, you must manually start Cytoscape first -- don't proceed until you have started Cytoscape.**\n",
    "\n",
    "\n",
    "This workflow requires five files that are located in cloud storage:\n",
    "\n",
    "* disease.net.txt (network file)\n",
    "* gene.net.txt (network file)\n",
    "* supplementary_tablesS2.txt (annotation file)\n",
    "* supplementary_tablesS3.txt (annotation file)\n",
    "* supplementary_tablesS4.txt (network file)\n",
    "\n",
    "All files reside in a Github folder, and they are downloaded by this workflow as needed. \n",
    "\n",
    "They were originally available from Barabasi Lab, but have since disappeared."
   ]
  },
  {
   "cell_type": "markdown",
   "metadata": {
    "id": "wJ9RYWAF4wF6",
    "pycharm": {
     "name": "#%% md\n"
    }
   },
   "source": [
    "## Setup: Fetch latest py4cytoscape"
   ]
  },
  {
   "cell_type": "code",
   "execution_count": 18,
   "metadata": {
    "colab": {
     "base_uri": "https://localhost:8080/",
     "height": 519
    },
    "id": "pW3Jhe2PMD9z",
    "outputId": "4aa4e900-d36b-41da-c688-3134d4ddaffa",
    "pycharm": {
     "name": "#%%\n"
    }
   },
   "outputs": [],
   "source": [
    "import py4cytoscape as p4c"
   ]
  },
  {
   "cell_type": "markdown",
   "metadata": {
    "id": "sTJwg_HN3WPH",
    "pycharm": {
     "name": "#%% md\n"
    }
   },
   "source": [
    "## Setup: Sanity test to verify Cytoscape connection\n",
    "By now, the connection to Cytoscape should be up and available. To verify this, try a simple operation that doesn't alter the state of Cytoscape."
   ]
  },
  {
   "cell_type": "code",
   "execution_count": 19,
   "metadata": {
    "colab": {
     "base_uri": "https://localhost:8080/"
    },
    "id": "sP5J_ey7C_t6",
    "outputId": "b6848904-02bd-43e0-f95f-b6aba7df2e4a",
    "pycharm": {
     "name": "#%%\n"
    }
   },
   "outputs": [
    {
     "data": {
      "text/plain": [
       "{'apiVersion': 'v1',\n",
       " 'cytoscapeVersion': '3.9.1',\n",
       " 'automationAPIVersion': '1.4.0',\n",
       " 'py4cytoscapeVersion': '1.3.0'}"
      ]
     },
     "execution_count": 19,
     "metadata": {},
     "output_type": "execute_result"
    }
   ],
   "source": [
    "p4c.cytoscape_version_info()\n"
   ]
  },
  {
   "cell_type": "markdown",
   "metadata": {
    "id": "VvaiYm7HwcsN",
    "pycharm": {
     "name": "#%% md\n"
    }
   },
   "source": [
    "\n",
    "## Setup: Create directories for source data files and output files\n",
    "Create the 'output' directory, which will be used to store files uploaded from Cytoscape.\n",
    "\n",
    "This is a good place to prepare any other system resources that might be needed by downstream Notebook cells."
   ]
  },
  {
   "cell_type": "markdown",
   "metadata": {
    "pycharm": {
     "name": "#%% md\n"
    }
   },
   "source": [
    "*Pro Tip:* The \"!\" commands in this cell are passed to the host operating system. In this example, they're correct for a Windows host. Different commands would be appropriate for a Linux or Mac host."
   ]
  },
  {
   "cell_type": "code",
   "execution_count": 20,
   "metadata": {
    "colab": {
     "base_uri": "https://localhost:8080/"
    },
    "id": "sTP9Tf7hb9g0",
    "outputId": "ba1c0348-1e53-494a-a5e2-8d4e0a7be6a8",
    "pycharm": {
     "name": "#%%\n"
    }
   },
   "outputs": [
    {
     "name": "stdout",
     "output_type": "stream",
     "text": [
      "C:\\Users\\CyDeveloper\\PycharmProjects\\py4cytoscape\\tests\\Notebooks\\Barabasi\\disease.net.txt\n",
      "Deleted file - C:\\Users\\CyDeveloper\\PycharmProjects\\py4cytoscape\\tests\\Notebooks\\Barabasi\\gene.net.txt\n",
      "Deleted file - C:\\Users\\CyDeveloper\\PycharmProjects\\py4cytoscape\\tests\\Notebooks\\Barabasi\\supplementary_tableS2.txt\n",
      "Deleted file - C:\\Users\\CyDeveloper\\PycharmProjects\\py4cytoscape\\tests\\Notebooks\\Barabasi\\supplementary_tableS3.txt\n",
      "Deleted file - C:\\Users\\CyDeveloper\\PycharmProjects\\py4cytoscape\\tests\\Notebooks\\Barabasi\\supplementary_tableS4.txt\n"
     ]
    },
    {
     "name": "stderr",
     "output_type": "stream",
     "text": [
      "The process cannot access the file because it is being used by another process.\n",
      "The directory is not empty.\n",
      "A subdirectory or file Barabasi already exists.\n"
     ]
    },
    {
     "name": "stdout",
     "output_type": "stream",
     "text": [
      "Deleted file - C:\\Users\\CyDeveloper\\PycharmProjects\\py4cytoscape\\tests\\Notebooks\\output\\Disease.pdf\n",
      " Volume in drive C has no label.\n",
      " Volume Serial Number is 50EF-8726\n",
      "\n",
      " Directory of C:\\Users\\CyDeveloper\\PycharmProjects\\py4cytoscape\\tests\\Notebooks\n",
      "\n",
      "05/18/2022  05:36 PM    <DIR>          .\n",
      "05/18/2022  05:36 PM    <DIR>          ..\n",
      "05/07/2022  03:57 PM    <DIR>          .ipynb_checkpoints\n",
      "05/18/2022  05:36 PM    <DIR>          Barabasi\n",
      "05/18/2022  04:34 PM       166,981,992 BIOGRID-ORGANISM-Saccharomyces_cerevisiae-3.2.105.mitab\n",
      "05/07/2022  05:12 PM             7,284 Cluster.png\n",
      "05/07/2022  05:13 PM            15,177 Disease.png\n",
      "05/18/2022  05:36 PM            23,517 Gang Su basic protocol 1.ipynb\n",
      "05/18/2022  05:36 PM            24,024 Gang Su Basic Protocol 2.ipynb\n",
      "05/18/2022  04:35 PM         5,536,880 GDS112_full.soft\n",
      "05/18/2022  05:33 PM             8,231 image.png\n",
      "05/18/2022  05:06 PM    <DIR>          logs\n",
      "05/18/2022  05:36 PM    <DIR>          output\n",
      "05/13/2022  05:16 PM             1,896 parse_dendogram.py\n",
      "05/07/2022  05:12 PM            11,027 WholeNetwork.png\n",
      "05/13/2022  05:19 PM    <DIR>          __pycache__\n",
      "               9 File(s)    172,610,028 bytes\n",
      "               7 Dir(s)   3,263,078,400 bytes free\n"
     ]
    }
   ],
   "source": [
    "!del /s/q/f Barabasi\n",
    "!rmdir Barabasi\n",
    "!mkdir Barabasi\n",
    "\n",
    "!del /s/q/f output\n",
    "!rmdir output\n",
    "!mkdir output\n",
    "!dir \n",
    "OUTPUT_DIR = 'output/'\n"
   ]
  },
  {
   "cell_type": "markdown",
   "metadata": {
    "id": "MgvPeSXc3iUa",
    "pycharm": {
     "name": "#%% md\n"
    }
   },
   "source": [
    "## Setup: Import and position network files into Cytoscape's current sandbox\n",
    "\n",
    "\n"
   ]
  },
  {
   "cell_type": "markdown",
   "metadata": {
    "id": "Lh0bpmiX2tXl",
    "pycharm": {
     "name": "#%% md\n"
    }
   },
   "source": [
    "The network and annotation files are in a Github folder, and this cell downloads them into the default Sandbox from where Cytoscape will access them.\n",
    "\n",
    "The files could just as well have been on any cloud resource, including Google Drive, Dropbox, Microsoft OneDrive or a private web site. Note that if a file would have been too large for GitHub,Dropbox would have been a handy alternative.\n",
    "\n",
    "An alternative would be to load the files into this Notebook's file system (or create them there) and then download those files to the Sandbox. Loading them into the Notebook file system would require the use of Notebook \"!\" commands (e.g., !wget).\n",
    "\n",
    "---\n",
    "\n",
    "Note that this cell uses the `import_file_from_url()` function to load resources from cloud storage. This function is appropriate for Notebooks running on the same workstation as Cytoscape, but not for Notebooks running on a remote server. On a remote server, the Notebook's file system is not the same as the Cytoscape workstation's file system, and Sandbox functions (https://py4cytoscape.readthedocs.io/en/latest/concepts.html#sandboxing) should be used instead."
   ]
  },
  {
   "cell_type": "code",
   "execution_count": 21,
   "metadata": {
    "colab": {
     "base_uri": "https://localhost:8080/"
    },
    "id": "xWrKAv3Z-xD5",
    "outputId": "4f676281-2179-4e72-90e3-b5f478b1f9b1",
    "pycharm": {
     "name": "#%%\n"
    }
   },
   "outputs": [
    {
     "name": "stdout",
     "output_type": "stream",
     "text": [
      "File: disease_net_txt, Bytes: 35861, Path: C:\\Users\\CyDeveloper\\PycharmProjects\\py4cytoscape\\tests\\Notebooks\\Barabasi\\disease.net.txt\n",
      "File: gene_net_txt, Bytes: 197835, Path: C:\\Users\\CyDeveloper\\PycharmProjects\\py4cytoscape\\tests\\Notebooks\\Barabasi\\gene.net.txt\n",
      "File: supp_tablesS2_txt, Bytes: 97916, Path: C:\\Users\\CyDeveloper\\PycharmProjects\\py4cytoscape\\tests\\Notebooks\\Barabasi\\supplementary_tableS2.txt\n",
      "File: supp_tablesS3_txt, Bytes: 127626, Path: C:\\Users\\CyDeveloper\\PycharmProjects\\py4cytoscape\\tests\\Notebooks\\Barabasi\\supplementary_tableS3.txt\n",
      "File: supp_tablesS4_txt, Bytes: 557710, Path: C:\\Users\\CyDeveloper\\PycharmProjects\\py4cytoscape\\tests\\Notebooks\\Barabasi\\supplementary_tableS4.txt\n"
     ]
    }
   ],
   "source": [
    "barabasi = {}\n",
    "barabasi['disease_net_txt'] = p4c.import_file_from_url('https://github.com/bdemchak/cytoscape-jupyter/blob/main/gangsu/Barabasi/disease.net.txt', 'Barabasi/disease.net.txt')\n",
    "barabasi['gene_net_txt'] = p4c.import_file_from_url('https://github.com/bdemchak/cytoscape-jupyter/blob/main/gangsu/Barabasi/gene.net.txt', 'Barabasi/gene.net.txt')\n",
    "barabasi['supp_tablesS2_txt'] = p4c.import_file_from_url('https://github.com/bdemchak/cytoscape-jupyter/blob/main/gangsu/Barabasi/supplementary_tableS2.txt', 'Barabasi/supplementary_tableS2.txt')\n",
    "barabasi['supp_tablesS3_txt'] = p4c.import_file_from_url('https://github.com/bdemchak/cytoscape-jupyter/blob/main/gangsu/Barabasi/supplementary_tableS3.txt', 'Barabasi/supplementary_tableS3.txt')\n",
    "barabasi['supp_tablesS4_txt'] = p4c.import_file_from_url('https://github.com/bdemchak/cytoscape-jupyter/blob/main/gangsu/Barabasi/supplementary_tableS4.txt', 'Barabasi/supplementary_tableS4.txt')\n",
    "for file, desc in barabasi.items():\n",
    "  print(f\"File: {file}, Bytes: {desc['fileByteCount']}, Path: {desc['filePath']}\")\n"
   ]
  },
  {
   "cell_type": "markdown",
   "metadata": {
    "id": "h9cZXTLrKsUd",
    "pycharm": {
     "name": "#%% md\n"
    }
   },
   "source": [
    "---\n",
    "# Explore the protein-protein interaction network"
   ]
  },
  {
   "cell_type": "markdown",
   "metadata": {
    "id": "HxnxPpnYRQmH",
    "pycharm": {
     "name": "#%% md\n"
    }
   },
   "source": [
    "First, load the protein-protein network into Cytoscape."
   ]
  },
  {
   "cell_type": "markdown",
   "metadata": {
    "id": "iCbKkC2FVTLF",
    "pycharm": {
     "name": "#%% md\n"
    }
   },
   "source": [
    "This could take a few minutes because of the automatic force-directed layout.\n"
   ]
  },
  {
   "cell_type": "code",
   "execution_count": 22,
   "metadata": {
    "colab": {
     "base_uri": "https://localhost:8080/"
    },
    "id": "MQiO5W_uK1K6",
    "outputId": "328658a8-c375-437a-f834-b23d880af2ab",
    "pycharm": {
     "name": "#%%\n"
    }
   },
   "outputs": [
    {
     "data": {
      "text/plain": [
       "{'networks': [32048515], 'views': [32144696]}"
      ]
     },
     "execution_count": 22,
     "metadata": {},
     "output_type": "execute_result"
    }
   ],
   "source": [
    "p4c.close_session(False)\n",
    "p4c.import_network_from_tabular_file('Barabasi/supplementary_tableS4.txt', first_row_as_column_names=True, start_load_row=2, column_type_list='x,s,x,t,i')\n"
   ]
  },
  {
   "cell_type": "markdown",
   "metadata": {
    "id": "uq9LTzzpIpRA",
    "pycharm": {
     "name": "#%% md\n"
    }
   },
   "source": [
    "## Layout and overlay information on the network"
   ]
  },
  {
   "cell_type": "markdown",
   "metadata": {
    "id": "bauOpYwxVtHl",
    "pycharm": {
     "name": "#%% md\n"
    }
   },
   "source": [
    "1.   Create a different colors for the edges representing different types of interactions.\n",
    "2.   Make the nodes themselves transparent so edges are easier to see.\n",
    "3.   For fun, create an image of the resulting network and display it in this notebook.\n"
   ]
  },
  {
   "cell_type": "code",
   "execution_count": 23,
   "metadata": {
    "colab": {
     "base_uri": "https://localhost:8080/",
     "height": 139
    },
    "id": "8KqK58RuA1HK",
    "outputId": "2ccc0a2a-4565-4586-a15f-6ef434ab008e",
    "pycharm": {
     "name": "#%%\n"
    },
    "scrolled": true
   },
   "outputs": [
    {
     "data": {
      "image/png": "[encoded data removed]",
      "text/plain": [
       "<IPython.core.display.Image object>"
      ]
     },
     "execution_count": 23,
     "metadata": {},
     "output_type": "execute_result"
    }
   ],
   "source": [
    "RED = '#ff0000'\n",
    "GREEN = '#00ff00'\n",
    "TEAL = '#00ffff'\n",
    "PURPLE = '#ff00ff'\n",
    "YELLOW = '#ffff00', \n",
    "BLUE = '#0000ff'\n",
    "GREY = '#808080'\n",
    "\n",
    "map = p4c.map_visual_property('EDGE_STROKE_UNSELECTED_PAINT', 'interaction', 'discrete', \n",
    "                              ['L', 'R', 'RL', 'RS', 'RSL', 'S', 'SL'], \n",
    "                              [RED, GREEN, TEAL, PURPLE, YELLOW, BLUE, GREY])\n",
    "p4c.update_style_mapping('default', map)\n",
    "\n",
    "p4c.set_node_fill_opacity_default(100, 'default')\n",
    "p4c.toggle_graphics_details()\n",
    "\n",
    "p4c.notebook_export_show_image()"
   ]
  },
  {
   "cell_type": "markdown",
   "metadata": {
    "id": "R8Jemd38QqKE",
    "pycharm": {
     "name": "#%% md\n"
    }
   },
   "source": [
    "## Discover local gene clusters using MCODE"
   ]
  },
  {
   "cell_type": "markdown",
   "metadata": {
    "id": "QUZrMfLPQvuC",
    "pycharm": {
     "name": "#%% md\n"
    }
   },
   "source": [
    "Call MCODE to cluster genes using default settings, and then extract the second cluster into a network of its own.\n",
    "\n",
    "For fun, export the network image and show it in this notebook.\n",
    "\n",
    "Note that MCODE does not finish its network drawing before returning. It's necessary to introduce a wait of a few seconds so that the drawing can finish before this cell tries to export its image."
   ]
  },
  {
   "cell_type": "code",
   "execution_count": 24,
   "metadata": {
    "colab": {
     "base_uri": "https://localhost:8080/",
     "height": 157
    },
    "id": "3LcTZRcp_AHb",
    "outputId": "8913fca8-eadc-4d5a-b7e9-c7f7f38dceb7",
    "pycharm": {
     "name": "#%%\n"
    }
   },
   "outputs": [
    {
     "name": "stdout",
     "output_type": "stream",
     "text": [
      "{}\n"
     ]
    },
    {
     "data": {
      "image/png": "[encoded data removed]",
      "text/plain": [
       "<IPython.core.display.Image object>"
      ]
     },
     "execution_count": 24,
     "metadata": {},
     "output_type": "execute_result"
    }
   ],
   "source": [
    "p4c.install_app('MCODE')\n",
    "p4c.commands_post('mcode cluster network=\"\"')\n",
    "p4c.commands.commands_post('mcode view id=1 rank=2')\n",
    "\n",
    "import time\n",
    "time.sleep(2)  # Wait for MCode to finish before accessing its networks\n",
    "\n",
    "p4c.notebook_export_show_image()"
   ]
  },
  {
   "cell_type": "markdown",
   "metadata": {
    "id": "hPmyQ2S0Sw8l",
    "pycharm": {
     "name": "#%% md\n"
    }
   },
   "source": [
    "---\n",
    "# Explore the human disease network"
   ]
  },
  {
   "cell_type": "markdown",
   "metadata": {
    "id": "x5dwV97tXgwY",
    "pycharm": {
     "name": "#%% md\n"
    }
   },
   "source": [
    "First, load the disease network into Cytoscape, then remove duplicate edges.\n",
    "\n",
    "Note that the network file is *not* a CSV file -- the separator between values in the file is \" \". So, the `import_network_from_tabular_file()` function contains a `delimiter=` parameter to match.\n",
    "\n",
    "Cytoscape interprets edges in the network file as directional, and many nodes in the disease file are connected by two edges -- one in and one out.\n",
    "\n",
    "For this demonstration, the directional distinction is meaningless, so we remove in-bound edges that duplicate out-bound edges."
   ]
  },
  {
   "cell_type": "code",
   "execution_count": 25,
   "metadata": {
    "colab": {
     "base_uri": "https://localhost:8080/"
    },
    "id": "f-eZRmIPS5uT",
    "outputId": "58d5409c-5e8e-4483-a023-d98196e85500",
    "pycharm": {
     "name": "#%%\n"
    }
   },
   "outputs": [
    {
     "name": "stdout",
     "output_type": "stream",
     "text": [
      "{'networks': [32291123], 'views': [32302927]}\n",
      "Edges removed: 1527\n"
     ]
    }
   ],
   "source": [
    "p4c.close_session(False)\n",
    "res = p4c.import_network_from_tabular_file('Barabasi/disease.net.txt', first_row_as_column_names=True, start_load_row=1, column_type_list='s,t,ea', delimiters=' ')\n",
    "print(res)\n",
    "\n",
    "res = p4c.delete_duplicate_edges(ignore_direction=True)\n",
    "if 'edges' in res:\n",
    "  print(f'Edges removed: {len(res[\"edges\"])}')\n",
    "else:\n",
    "  print('No edges removed')"
   ]
  },
  {
   "cell_type": "markdown",
   "metadata": {
    "id": "z39LjBHVdNeh",
    "pycharm": {
     "name": "#%% md\n"
    }
   },
   "source": [
    "## Annotate network with S2 table values"
   ]
  },
  {
   "cell_type": "markdown",
   "metadata": {
    "id": "51837W_PdarD",
    "pycharm": {
     "name": "#%% md\n"
    }
   },
   "source": [
    "Use Pandas to preprocess the S2 table values, and then load them into Cytoscape as node annotations.\n",
    "\n",
    "* Use Pandas to parse the data because we need to rename the 'name' column to 'Disease Name' to avoid conflicts with the network's existing 'name' column.\n",
    "\n",
    "* Once that is done, we can import the annotations into the node table, keyed on the 'Disease ID' column. Note that Pandas would naturally import Disease ID as an int, but we coerce it to str to be compatible with the network's 'name' column.\n",
    "\n",
    "* Load the Pandas table as annotations to Cytoscape's network.\n",
    "\n",
    "This is an example of how the workflow can pre-process data that is eventually loaded into Cytoscape.\n",
    "\n",
    "**Note:** the S2 table file was loaded into the Cytoscape sandbox (on the Cytoscape workstation) earlier in this workflow. Pandas loads files from the Notebook file system, which is different because this workflow is running on a remote server. The `sandbox_get_from()` function copies this file from the sandbox to the Notebook file system so Pandas can read it."
   ]
  },
  {
   "cell_type": "code",
   "execution_count": 26,
   "metadata": {
    "colab": {
     "base_uri": "https://localhost:8080/",
     "height": 537
    },
    "id": "Utv1tbaqiHUE",
    "outputId": "6aeef6fd-1636-468c-de25-f5f662f8bc77",
    "pycharm": {
     "name": "#%%\n"
    }
   },
   "outputs": [
    {
     "name": "stdout",
     "output_type": "stream",
     "text": [
      "     Disease ID                                       Disease Name  \\\n",
      "0             1                             17,20-lyase_deficiency   \n",
      "1             3  2-methyl-3-hydroxybutyryl-CoA_dehydrogenase_de...   \n",
      "2             4                          2-methylbutyrylglycinuria   \n",
      "3             5  3-beta-hydroxysteroid_dehydrogenase,_type_II,_...   \n",
      "4             6         3-hydroxyacyl-CoA_dehydrogenase_deficiency   \n",
      "...         ...                                                ...   \n",
      "1279       8350                            Combined_SAP_deficiency   \n",
      "1280       9037                                   Multiple_myeloma   \n",
      "1281       9038                                 Multiple_sclerosis   \n",
      "1282       9039                      Multiple_sulfatase_deficiency   \n",
      "1283       9308                           Renal_tubular_dysgenesis   \n",
      "\n",
      "     Disorder class  Size (s)  Degree (k)  Class-degree (k)  \\\n",
      "0         Endocrine         1           0                 0   \n",
      "1         Metabolic         1           0                 0   \n",
      "2         Metabolic         1           0                 0   \n",
      "3         Metabolic         1           0                 0   \n",
      "4         Metabolic         1           0                 0   \n",
      "...             ...       ...         ...               ...   \n",
      "1279      Metabolic         1           2                 2   \n",
      "1280         Cancer         2           1                 0   \n",
      "1281   Neurological         2           3                 2   \n",
      "1282      Metabolic         1           0                 0   \n",
      "1283          Renal         4           8                 4   \n",
      "\n",
      "     Genes implicated (Entrez ID) [comma-deliminated]  \n",
      "0                                      CYP17A1 (1586)  \n",
      "1                                        HADH2 (3028)  \n",
      "2                                         ACADSB (36)  \n",
      "3                                       HSD3B2 (3284)  \n",
      "4                                       HADHSC (3033)  \n",
      "...                                               ...  \n",
      "1279                                      PSAP (5660)  \n",
      "1280                         IRF4 (3662), LIG4 (3981)  \n",
      "1281                       CIITA (4261), PTPRC (5788)  \n",
      "1282                                   SUMF1 (285362)  \n",
      "1283   ACE (1636), AGTR1 (185), AGT (183), REN (5972)  \n",
      "\n",
      "[1284 rows x 7 columns]\n"
     ]
    },
    {
     "name": "stderr",
     "output_type": "stream",
     "text": [
      "C:\\Users\\CyDeveloper\\PycharmProjects\\py4cytoscape\\py4cytoscape\\tables.py:474: SettingWithCopyWarning: \n",
      "A value is trying to be set on a copy of a slice from a DataFrame.\n",
      "Try using .loc[row_indexer,col_indexer] = value instead\n",
      "\n",
      "See the caveats in the documentation: https://pandas.pydata.org/pandas-docs/stable/user_guide/indexing.html#returning-a-view-versus-a-copy\n",
      "  data_subset[col] = col_val\n"
     ]
    },
    {
     "data": {
      "text/plain": [
       "'Success: Data loaded in defaultnode table'"
      ]
     },
     "execution_count": 26,
     "metadata": {},
     "output_type": "execute_result"
    }
   ],
   "source": [
    "import pandas as df\n",
    "disease_table = df.read_csv('Barabasi/supplementary_tableS2.txt', sep='\\t', header=1, dtype={'Disease ID':str})\n",
    "disease_table.rename({'Name': 'Disease Name'}, axis=1, inplace=True)\n",
    "print(disease_table)\n",
    "\n",
    "p4c.load_table_data(disease_table, data_key_column='Disease ID')"
   ]
  },
  {
   "cell_type": "markdown",
   "metadata": {
    "id": "y-Wc1V5oi6CW",
    "pycharm": {
     "name": "#%% md\n"
    }
   },
   "source": [
    "## Search for and select all nodes that have any attribute having to do with Neuro."
   ]
  },
  {
   "cell_type": "markdown",
   "metadata": {
    "id": "8OF1BwzBQdWf",
    "pycharm": {
     "name": "#%% md\n"
    }
   },
   "source": [
    "Create a filter that identifies the term `Neuro` in each description column, then create a composite filter that selects all nodes that match either filter.\n",
    "\n",
    "**Note:** A Cytoscape user might perform this step by using Cytoscape's search bar, which can be used to find all `Neuro` values in *all* columns. Creating the composite filter approximates this by limiting the search to only two columns: `Disease Name` and `Disorder class`."
   ]
  },
  {
   "cell_type": "code",
   "execution_count": 27,
   "metadata": {
    "colab": {
     "base_uri": "https://localhost:8080/"
    },
    "id": "dalK8ZJh4OKo",
    "outputId": "832591f8-10d3-4c41-cde7-aca249500ae5",
    "pycharm": {
     "name": "#%%\n"
    }
   },
   "outputs": [
    {
     "name": "stdout",
     "output_type": "stream",
     "text": [
      "No nodes selected.\n",
      "No edges selected.\n",
      "No nodes selected.\n",
      "No edges selected.\n",
      "No edges selected.\n",
      "Nodes selected: 86\n"
     ]
    }
   ],
   "source": [
    "p4c.create_column_filter('Find Neuro in Name', 'Disease Name', 'Neuro', 'CONTAINS', apply=False)\n",
    "p4c.create_column_filter('Find Neuro in class', 'Disorder class', 'Neuro', 'CONTAINS', apply=False)\n",
    "res = p4c.create_composite_filter('Find Neuro', ['Find Neuro in Name', 'Find Neuro in class'], type='ANY')\n",
    "print(f'Nodes selected: {len(res[\"nodes\"])}')"
   ]
  },
  {
   "cell_type": "markdown",
   "metadata": {
    "id": "-u1KKTHsjDiM",
    "pycharm": {
     "name": "#%% md\n"
    }
   },
   "source": [
    "## Randomly assign colors to each disease"
   ]
  },
  {
   "cell_type": "markdown",
   "metadata": {
    "id": "Ndk16YRwQykj",
    "pycharm": {
     "name": "#%% md\n"
    }
   },
   "source": [
    "Use Map Generator feature to identify unique values in the `Disorder class` column, then assign random node colors according to each value. As a result, different disorders have different colors."
   ]
  },
  {
   "cell_type": "code",
   "execution_count": 28,
   "metadata": {
    "colab": {
     "base_uri": "https://localhost:8080/",
     "height": 35
    },
    "id": "pCxStsySaSxx",
    "outputId": "d4c27886-ff5c-4c84-f201-ada797cd6813",
    "pycharm": {
     "name": "#%%\n"
    }
   },
   "outputs": [
    {
     "data": {
      "text/plain": [
       "''"
      ]
     },
     "execution_count": 28,
     "metadata": {},
     "output_type": "execute_result"
    }
   ],
   "source": [
    "p4c.set_node_color_mapping(**p4c.gen_node_color_map('Disorder class', p4c.palette_color_random(), mapping_type='d', style_name='default'))"
   ]
  },
  {
   "cell_type": "markdown",
   "metadata": {
    "id": "vI5ko-frjJdT",
    "pycharm": {
     "name": "#%% md\n"
    }
   },
   "source": [
    "## Create edge widths according to the number of neighbors"
   ]
  },
  {
   "cell_type": "markdown",
   "metadata": {
    "id": "DYAInLNIQ9e_",
    "pycharm": {
     "name": "#%% md\n"
    }
   },
   "source": [
    "Use Map Generator feature to set the width of edges according to the edge Weight attribute. For Weight=1, use a width of 1, and for each higher Weight value, increase the width by 3. As a result, the edge width shows important node connections.\n",
    "\n",
    "**Note:** To see edge weights in Cytoscape, you may have to zoom the graph display.\n"
   ]
  },
  {
   "cell_type": "code",
   "execution_count": 29,
   "metadata": {
    "colab": {
     "base_uri": "https://localhost:8080/",
     "height": 35
    },
    "id": "2ZQSO57pepLL",
    "outputId": "cc7937dd-d1fc-4187-b4d8-66883fd8875e",
    "pycharm": {
     "name": "#%%\n"
    }
   },
   "outputs": [
    {
     "data": {
      "text/plain": [
       "''"
      ]
     },
     "execution_count": 29,
     "metadata": {},
     "output_type": "execute_result"
    }
   ],
   "source": [
    "p4c.set_edge_line_width_mapping(**p4c.gen_edge_width_map('Weight', \n",
    "                                                         p4c.scheme_d_number_series(start_value=1, step=3), \n",
    "                                                         mapping_type='d', style_name='default'))"
   ]
  },
  {
   "cell_type": "markdown",
   "metadata": {
    "id": "I53QR6ETSfRJ",
    "pycharm": {
     "name": "#%% md\n"
    }
   },
   "source": [
    "## Change node label to be disease name instead of disease number"
   ]
  },
  {
   "cell_type": "code",
   "execution_count": 30,
   "metadata": {
    "colab": {
     "base_uri": "https://localhost:8080/",
     "height": 35
    },
    "id": "oa8aKe3sR2Ke",
    "outputId": "b834d87b-c5cd-4388-84d1-5dba308118e8",
    "pycharm": {
     "name": "#%%\n"
    }
   },
   "outputs": [
    {
     "data": {
      "text/plain": [
       "''"
      ]
     },
     "execution_count": 30,
     "metadata": {},
     "output_type": "execute_result"
    }
   ],
   "source": [
    "node_label_map = p4c.map_visual_property('NODE_LABEL', 'Disease Name', 'passthrough')\n",
    "p4c.update_style_mapping('default', node_label_map)\n"
   ]
  },
  {
   "cell_type": "markdown",
   "metadata": {
    "id": "DbanRU9pV6Jc",
    "pycharm": {
     "name": "#%% md\n"
    }
   },
   "source": [
    "## Set node width and height to be proportional to `Degree (k)` column value"
   ]
  },
  {
   "cell_type": "code",
   "execution_count": 31,
   "metadata": {
    "colab": {
     "base_uri": "https://localhost:8080/",
     "height": 35
    },
    "id": "gbngBcpoTdKg",
    "outputId": "c3cb0534-3ca3-4de2-b299-459d1a0022fb",
    "pycharm": {
     "name": "#%%\n"
    }
   },
   "outputs": [
    {
     "data": {
      "text/plain": [
       "''"
      ]
     },
     "execution_count": 31,
     "metadata": {},
     "output_type": "execute_result"
    }
   ],
   "source": [
    "node_height_map = p4c.map_visual_property('NODE_HEIGHT', 'Degree (k)', 'continuous', [1, 50], [30, 300])\n",
    "p4c.update_style_mapping('default', node_height_map)\n",
    "node_width_map = p4c.map_visual_property('NODE_WIDTH', 'Degree (k)', 'continuous', [1, 50], [30, 300])\n",
    "p4c.update_style_mapping('default', node_width_map)"
   ]
  },
  {
   "cell_type": "markdown",
   "metadata": {
    "id": "byRN_KASRZOi",
    "pycharm": {
     "name": "#%% md\n"
    }
   },
   "source": [
    "## Show the resulting network for fun"
   ]
  },
  {
   "cell_type": "markdown",
   "metadata": {
    "id": "gC8Igz3Bj7s3",
    "pycharm": {
     "name": "#%% md\n"
    }
   },
   "source": [
    "So far, we have reproduced the visual style used in the [Goh poster](https://www.ncbi.nlm.nih.gov/pmc/articles/PMC1885563/bin/pnas_0701361104_9.pdf) for the [2007 Barabasi paper](https://pubmed.ncbi.nlm.nih.gov/17502601/) on human disease. \n",
    "\n",
    "For fun, we'll clean up the network by removing disconnected sub-networks and showing the result in this notebook."
   ]
  },
  {
   "cell_type": "markdown",
   "metadata": {
    "id": "Zc8-mgBbeQCo",
    "pycharm": {
     "name": "#%% md\n"
    }
   },
   "source": [
    "## Toss all disconnected sub-networks"
   ]
  },
  {
   "cell_type": "markdown",
   "metadata": {
    "id": "45ZVTID0eYMD",
    "pycharm": {
     "name": "#%% md\n"
    }
   },
   "source": [
    "We start by identifying a node in the main network ... I chose node 812, which is Insomnia. To select the network containing 812, we use the `Largest Subnetwork` app, which has a function that selects the network containing 812, leaving the unconnected nodes unselected.\n",
    "\n",
    "Next, we delete the disconnected nodes and re-size the network to fill the drawing space.\n",
    "\n",
    "**Note:** This cell demonstrates how to use a Cytoscape app to perform useful utility functions. The `Largest Subnetwork` app is callable because it supports Cytoscape Automation."
   ]
  },
  {
   "cell_type": "code",
   "execution_count": 32,
   "metadata": {
    "colab": {
     "base_uri": "https://localhost:8080/"
    },
    "id": "ue8A4fmvYlqJ",
    "outputId": "8c748916-ffd4-40cd-8127-6f6744b6cc78",
    "pycharm": {
     "name": "#%%\n"
    }
   },
   "outputs": [
    {
     "name": "stdout",
     "output_type": "stream",
     "text": [
      "{}\n",
      "Count of nodes selected: 516\n"
     ]
    },
    {
     "data": {
      "image/png": "[encoded data removed]",
      "text/plain": [
       "<IPython.core.display.Image object>"
      ]
     },
     "execution_count": 32,
     "metadata": {},
     "output_type": "execute_result"
    }
   ],
   "source": [
    "p4c.install_app('Largest Subnetwork')\n",
    "res = p4c.commands_post('network select subnetwork createSubnetwork=false includesNode=812')\n",
    "print(f'Count of nodes selected: {len(res[\"nodes\"])}')\n",
    "\n",
    "p4c.invert_node_selection()\n",
    "p4c.delete_selected_nodes()\n",
    "p4c.fit_content()\n",
    "\n",
    "p4c.notebook_export_show_image()"
   ]
  },
  {
   "cell_type": "markdown",
   "metadata": {
    "id": "1CB87wCXoPuj",
    "pycharm": {
     "name": "#%% md\n"
    }
   },
   "source": [
    "## Upload the network in vector format"
   ]
  },
  {
   "cell_type": "markdown",
   "metadata": {
    "id": "JUzJs1_Mogzh",
    "pycharm": {
     "name": "#%% md\n"
    }
   },
   "source": [
    "While a network in PNG format is easy to display on a web page, it's hard to see detail by zooming in, particularly this network. Upload the network in PDF format so it can be better zoomed in a PDF viewer. (The PNG format is a raster format, which means it doesn't scale when zoomed. PDF is a vector format, which does scale when zoomed.)\n",
    "\n",
    "Use your browser to download Disease.pdf from your output scratch file (`output/Disease.pdf`), then open it using your workstation's PDF viewer. Zooming will show node labels to be crisp and readable.\n",
    "\n",
    "*Tip:* You can also change the resolution, height, width and zoom by setting parameters in the `export_image()` function."
   ]
  },
  {
   "cell_type": "code",
   "execution_count": 33,
   "metadata": {
    "colab": {
     "base_uri": "https://localhost:8080/"
    },
    "id": "cZ9Gr2Pjnapm",
    "outputId": "4712001b-6318-4368-abe8-6d6114a9798f",
    "pycharm": {
     "name": "#%%\n"
    }
   },
   "outputs": [
    {
     "data": {
      "text/plain": [
       "{'file': 'C:\\\\Users\\\\CyDeveloper\\\\PycharmProjects\\\\py4cytoscape\\\\tests\\\\Notebooks\\\\output\\\\Disease.pdf'}"
      ]
     },
     "execution_count": 33,
     "metadata": {},
     "output_type": "execute_result"
    }
   ],
   "source": [
    "OUT_FILE = 'Disease.pdf'\n",
    "p4c.export_image(f'{OUTPUT_DIR}{OUT_FILE}', type='PDF', overwrite_file=True)\n"
   ]
  }
 ],
 "metadata": {
  "colab": {
   "collapsed_sections": [],
   "name": "basic protocol 2.ipynb",
   "provenance": []
  },
  "kernelspec": {
   "display_name": "Python 3 (ipykernel)",
   "language": "python",
   "name": "python3"
  },
  "language_info": {
   "codemirror_mode": {
    "name": "ipython",
    "version": 3
   },
   "file_extension": ".py",
   "mimetype": "text/x-python",
   "name": "python",
   "nbconvert_exporter": "python",
   "pygments_lexer": "ipython3",
   "version": "3.10.4"
  }
 },
 "nbformat": 4,
 "nbformat_minor": 1
}