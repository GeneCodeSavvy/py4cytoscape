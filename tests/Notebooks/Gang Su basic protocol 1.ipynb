{
 "cells": [
  {
   "cell_type": "markdown",
   "metadata": {
    "pycharm": {
     "name": "#%% md\n"
    }
   },
   "source": [
    "This is a reproduction of the [Biological Network Exploration with Cytoscape 3](https://pubmed.ncbi.nlm.nih.gov/25199793/) Basic Protocol 1, which loads an s. cervesiae network, filters out unneeded nodes, lays out the resulting network, creates clusters of similar nodes and then performs an enrichment calculation on one cluster.\n",
    "\n",
    "Note that this workflow executes in a Jupyter Notebook running on your workstation, and communicates with a copy of Cytoscape also running on your workstation. For a similar workflow that runs on a cloud server (e.g., Google Colab), see [here](https://github.com/bdemchak/cytoscape-jupyter/tree/main/gangsu)."
   ]
  },
  {
   "cell_type": "markdown",
   "metadata": {
    "pycharm": {
     "name": "#%% md\n"
    }
   },
   "source": [
    "---\n",
    "# Setup data files, py4cytoscape and Cytoscape connection\n",
    "**NOTE: To run this notebook, you must manually start Cytoscape first -- don't proceed until you have started Cytoscape.**\n",
    "\n",
    "This workflow requires two files that are located in cloud storage:\n",
    "\n",
    "* BIOGRID-ORGANISM-Saccharomyces_cerevisiae-3.2.105.mitab (network file)\n",
    "* GDS112_full.soft (annotation file)\n",
    "\n",
    "Both files reside in a Dropbox folder, and they are downloaded by this workflow as needed."
   ]
  },
  {
   "cell_type": "markdown",
   "metadata": {
    "pycharm": {
     "name": "#%% md\n"
    }
   },
   "source": [
    "## Setup: Fetch latest py4cytoscape\n",
    "\n",
    "\n"
   ]
  },
  {
   "cell_type": "code",
   "execution_count": 30,
   "metadata": {
    "pycharm": {
     "name": "#%%\n"
    }
   },
   "outputs": [],
   "source": [
    "import py4cytoscape as p4c"
   ]
  },
  {
   "cell_type": "markdown",
   "metadata": {
    "pycharm": {
     "name": "#%% md\n"
    }
   },
   "source": [
    "## Setup: Sanity test to verify Cytoscape connection"
   ]
  },
  {
   "cell_type": "markdown",
   "metadata": {
    "pycharm": {
     "name": "#%% md\n"
    }
   },
   "source": [
    "By now, the connection to Cytoscape should be up and available. To verify this, try a simple operation that doesn't alter the state of Cytoscape."
   ]
  },
  {
   "cell_type": "code",
   "execution_count": 31,
   "metadata": {
    "pycharm": {
     "name": "#%%\n"
    }
   },
   "outputs": [
    {
     "data": {
      "text/plain": [
       "{'apiVersion': 'v1',\n",
       " 'cytoscapeVersion': '3.9.1',\n",
       " 'automationAPIVersion': '1.4.0',\n",
       " 'py4cytoscapeVersion': '1.3.0'}"
      ]
     },
     "execution_count": 31,
     "metadata": {},
     "output_type": "execute_result"
    }
   ],
   "source": [
    "p4c.cytoscape_version_info()\n"
   ]
  },
  {
   "cell_type": "markdown",
   "metadata": {
    "pycharm": {
     "name": "#%% md\n"
    }
   },
   "source": [
    "## Setup: Notebook data files\n",
    "Create the 'output' directory, which will be used to store files uploaded from Cytoscape.\n",
    "\n",
    "This is a good place to prepare any other system resources that might be needed by downstream Notebook cells.\n",
    "\n",
    "Pro Tip: The \"!\" commands in this cell are passed to the host operating system. In this example, they're correct for a Windows host. Different commands would be appropriate for a Linux or Mac host.\n"
   ]
  },
  {
   "cell_type": "code",
   "execution_count": 32,
   "metadata": {
    "pycharm": {
     "name": "#%%\n"
    }
   },
   "outputs": [
    {
     "name": "stdout",
     "output_type": "stream",
     "text": [
      "Deleted file - C:\\Users\\CyDeveloper\\PycharmProjects\\py4cytoscape\\tests\\Notebooks\\output\\Disease.pdf\n",
      " Volume in drive C has no label.\n",
      " Volume Serial Number is 50EF-8726\n",
      "\n",
      " Directory of C:\\Users\\CyDeveloper\\PycharmProjects\\py4cytoscape\\tests\\Notebooks\\output\n",
      "\n",
      "05/18/2022  05:41 PM    <DIR>          .\n",
      "05/18/2022  05:41 PM    <DIR>          ..\n",
      "               0 File(s)              0 bytes\n",
      "               2 Dir(s)   3,255,500,800 bytes free\n"
     ]
    }
   ],
   "source": [
    "!del /s/q/f output\n",
    "!rmdir output\n",
    "!mkdir output\n",
    "!dir output\n",
    "OUTPUT_DIR = 'output/'"
   ]
  },
  {
   "cell_type": "markdown",
   "metadata": {
    "pycharm": {
     "name": "#%% md\n"
    }
   },
   "source": [
    "## Setup: Import source data files\n",
    "The network and annotation files are in a Dropbox folder, and this cell downloads them into the default Sandbox from where Cytoscape will access them.\n",
    "\n",
    "The files could just as well have been on any cloud resource, including Google Drive, Github, Microsoft OneDrive or a private web site. Note that in this case, the network file was so large that it could not be saved on GitHub, so Dropbox was a handy alternative.\n",
    "\n",
    "*Tip:* An alternative would be to load the files into this Notebook's file system (or create them there) and then download those files to the Sandbox. Loading them into the Notebook file system would require the use of Notebook \"!\" commands (e.g., !wget). wget for Windows can be found [here](https://eternallybored.org/misc/wget/)."
   ]
  },
  {
   "cell_type": "markdown",
   "metadata": {
    "pycharm": {
     "name": "#%% md\n"
    }
   },
   "source": [
    "---\n",
    "Note that this cell uses the `import_file_from_url()` function to load resources from cloud storage.\n",
    "This function is appropriate for Notebooks running on the same workstation as Cytoscape, but\n",
    "not for Notebooks running on a remote server. On a remote server, the Notebook's file system is not the same as the Cytoscape workstation's file system, and [Sandbox functions](https://py4cytoscape.readthedocs.io/en/latest/concepts.html#sandboxing) should be used instead."
   ]
  },
  {
   "cell_type": "code",
   "execution_count": 33,
   "metadata": {
    "pycharm": {
     "name": "#%%\n"
    }
   },
   "outputs": [
    {
     "name": "stdout",
     "output_type": "stream",
     "text": [
      "Network file BIOGRID-ORGANISM-Saccharomyces_cerevisiae-3.2.105.mitab has 166981992 bytes\n"
     ]
    }
   ],
   "source": [
    "res_mitab = p4c.import_file_from_url(\"https://www.dropbox.com/s/8wc8o897tsxewt1/BIOGRID-ORGANISM-Saccharomyces_cerevisiae-3.2.105.mitab?dl=0\", \"BIOGRID-ORGANISM-Saccharomyces_cerevisiae-3.2.105.mitab\")\n",
    "print(f'Network file BIOGRID-ORGANISM-Saccharomyces_cerevisiae-3.2.105.mitab has {res_mitab[\"fileByteCount\"]} bytes')"
   ]
  },
  {
   "cell_type": "markdown",
   "metadata": {
    "pycharm": {
     "name": "#%% md\n"
    }
   },
   "source": [
    "---\n",
    "# Load the Protein-protein Interaction Network into Cytoscape\n",
    "The network is contained in the s. cerevisiae MITAB file."
   ]
  },
  {
   "cell_type": "markdown",
   "metadata": {
    "pycharm": {
     "name": "#%% md\n"
    }
   },
   "source": [
    "Note that in this cell, the `import_network_from_file()` function (incorrectly) throws an exception. To ignore the exception, we enclose it in a try/except block.\n",
    "\n",
    "Note: Once the CYTOSCAPE-12772 issue is solved, we can remove the try/except block."
   ]
  },
  {
   "cell_type": "code",
   "execution_count": 34,
   "metadata": {
    "pycharm": {
     "name": "#%%\n"
    }
   },
   "outputs": [
    {
     "name": "stdout",
     "output_type": "stream",
     "text": [
      "Network identifier: 32322625\n"
     ]
    },
    {
     "name": "stderr",
     "output_type": "stream",
     "text": [
      "In commands_post(): {'status': 500, 'type': 'urn:cytoscape:ci:cyrest-core:v1:handle-json-command:errors:3', 'message': 'Task returned invalid json.', 'link': 'file:/C:/Users/CyDeveloper/CytoscapeConfiguration/3/framework-cytoscape.log'}\n"
     ]
    }
   ],
   "source": [
    "from requests import HTTPError\n",
    "p4c.close_session(False)\n",
    "\n",
    "try:\n",
    "  p4c.import_network_from_file('BIOGRID-ORGANISM-Saccharomyces_cerevisiae-3.2.105.mitab')\n",
    "except:  \n",
    "  pass\n",
    "if p4c.get_network_count() != 1:\n",
    "  raise Exception('Failed to load network')\n",
    "net_suid = p4c.get_network_suid()\n",
    "print(f'Network identifier: {net_suid}')\n",
    "\n"
   ]
  },
  {
   "cell_type": "markdown",
   "metadata": {
    "pycharm": {
     "name": "#%% md\n"
    }
   },
   "source": [
    "---\n",
    "# Import the gene expression data\n",
    "The expression data is downloaded and merged into the network's node attribute table."
   ]
  },
  {
   "cell_type": "markdown",
   "metadata": {
    "pycharm": {
     "name": "#%% md\n"
    }
   },
   "source": [
    "---\n",
    "*Tip:* This cell shows how to create code that works around changes in Cytoscape capabilities. \n",
    "\n",
    "In this case, starting with Cytoscape 3.9.0, the `load_table_data_from_file()` function works as expected, so the gene expression data is merged into the node attribute table. \n",
    "\n",
    "Prior to 3.9.0, `load_table_data_from_file()` didn't work. As a workaround, we do most of the work in Pandas and then import the dataframe into the node attribute table. After Pandas reads the CSV, we will try to match dataframe Gene ID column to the `name` column in the Cytoscape node attribute table. To do this, we must explicitly set the Gene ID as a string (even though it's originally parsed as a number) because Cytoscape's `name` column is already a string. \n",
    "\n",
    "Pro Tip: The wget and mv commands work on a Jupyter system on a Linux host. You may have to choose different commands for a Windows host. wget for Windows can be found [here](https://eternallybored.org/misc/wget/)."
   ]
  },
  {
   "cell_type": "code",
   "execution_count": 35,
   "metadata": {
    "pycharm": {
     "name": "#%%\n"
    }
   },
   "outputs": [
    {
     "name": "stdout",
     "output_type": "stream",
     "text": [
      "Annotation file GDS112_full.soft has 5536880 bytes\n",
      "Load result contains table identifiers: [32322596, 32322634]\n"
     ]
    }
   ],
   "source": [
    "if p4c.check_supported_versions(cytoscape='3.9') is None:\n",
    "  # Load file directly into Sandbox so Cytoscape can import it\n",
    "  res_soft = p4c.import_file_from_url(\"https://www.dropbox.com/s/r15azh0xb53smu1/GDS112_full.soft?dl=0\", \"GDS112_full.soft\")\n",
    "  print(f'Annotation file GDS112_full.soft has {res_soft[\"fileByteCount\"]} bytes')\n",
    "\n",
    "  res = p4c.load_table_data_from_file('GDS112_full.soft', start_load_row=83, data_key_column_index=10, delimiters='\\t')\n",
    "  print(f'Load result contains table identifiers: {res[\"mappedTables\"]}')\n",
    "else:\n",
    "  # Load file into Notebook file system so Python can import it, tweak it, and download to Cytoscape\n",
    "  !wget -q --no-check-certificate https://www.dropbox.com/s/r15azh0xb53smu1/GDS112_full.soft?dl=0\n",
    "  !mv GDS112_full.soft?dl=0 GDS112_full.soft\n",
    "\n",
    "  import pandas as df\n",
    "  GDS112_full = df.read_csv('GDS112_full.soft', skiprows=82, sep='\\t')\n",
    "  GDS112_full.dropna(subset=['Gene ID'], inplace=True)\n",
    "  GDS112_full['Gene ID'] = df.to_numeric(GDS112_full['Gene ID'], downcast='integer')\n",
    "  GDS112_full = GDS112_full.astype({'Gene ID': 'string'})\n",
    "  print(GDS112_full.dtypes)\n",
    "  print(GDS112_full)\n",
    "  p4c.load_table_data(GDS112_full, data_key_column='Gene ID')\n",
    "\n",
    "  import os\n",
    "  os.remove('GDS112_full.soft')\n"
   ]
  },
  {
   "cell_type": "markdown",
   "metadata": {
    "pycharm": {
     "name": "#%% md\n"
    }
   },
   "source": [
    "---\n",
    "# Filter the Network with the Genes that have Expression Data\n",
    "For this, we assume that if a node has no *Gene symbol*, it also has no expression data. \n",
    "\n",
    "The filter compares each node's *Gene symbol* attribute to a regular expression. If there is a match, the gene is selected; for no match, the gene isn't selected."
   ]
  },
  {
   "cell_type": "code",
   "execution_count": 36,
   "metadata": {
    "pycharm": {
     "name": "#%%\n"
    }
   },
   "outputs": [
    {
     "name": "stdout",
     "output_type": "stream",
     "text": [
      "No edges selected.\n",
      "Nodes selected: 5515\n"
     ]
    }
   ],
   "source": [
    "res = p4c.create_column_filter('SymbolOK', 'Gene symbol', '[A-Z0-9]*', 'REGEX')\n",
    "print(f'Nodes selected: {len(res[\"nodes\"])}')"
   ]
  },
  {
   "cell_type": "markdown",
   "metadata": {
    "pycharm": {
     "name": "#%% md\n"
    }
   },
   "source": [
    "---\n",
    "# Create a New Network with the Selected Subset\n",
    "Create a subnetwork containing only nodes selected by the filter (i.e., having a *Gene symbol* value, which implies that expression data is present for that node)."
   ]
  },
  {
   "cell_type": "markdown",
   "metadata": {
    "pycharm": {
     "name": "#%% md\n"
    }
   },
   "source": [
    "This could take several minutes.\n",
    "\n",
    "At the end, you should see a view containing all nodes laid out. "
   ]
  },
  {
   "cell_type": "markdown",
   "metadata": {
    "pycharm": {
     "name": "#%% md\n"
    }
   },
   "source": [
    "If you see only a single rectangle, it could be that your Cytoscape is set to operate with a small stack size. To increase the stack:\n",
    "\n",
    "1. terminate Cytoscape\n",
    "\n",
    "2. a) upgrade Cytoscape to 3.9.0 or later \n",
    "\n",
    "  ... or b) use a text editor to add -Xss5M to the cytoscape.vmoptions file in your Cytoscape program directory\n",
    "\n",
    "3. restart Cytoscape\n",
    "\n",
    "4. re-run this workflow"
   ]
  },
  {
   "cell_type": "code",
   "execution_count": 37,
   "metadata": {
    "pycharm": {
     "name": "#%%\n"
    }
   },
   "outputs": [
    {
     "name": "stdout",
     "output_type": "stream",
     "text": [
      "New network identifier: 33710523\n"
     ]
    }
   ],
   "source": [
    "new_suid = p4c.create_subnetwork()\n",
    "print(f'New network identifier: {new_suid}')"
   ]
  },
  {
   "cell_type": "markdown",
   "metadata": {
    "pycharm": {
     "name": "#%% md\n"
    }
   },
   "source": [
    "## Get rid of the original network, which isn't needed anymore"
   ]
  },
  {
   "cell_type": "code",
   "execution_count": 38,
   "metadata": {
    "pycharm": {
     "name": "#%%\n"
    }
   },
   "outputs": [],
   "source": [
    "p4c.delete_network(net_suid)\n",
    "net_suid = new_suid"
   ]
  },
  {
   "cell_type": "markdown",
   "metadata": {},
   "source": [
    "---\n",
    "# Identify Network Modules\n",
    "The overall strategy is to find clusters of nodes that share some common attribute. In this case, we use expression data values. Specifically:\n",
    "\n",
    "* Load Cytoscape's clusterMaker2 app\n",
    "* Use clusterMaker2 to create a dendogram showing a hierarchy of similar network modules"
   ]
  },
  {
   "cell_type": "markdown",
   "metadata": {
    "pycharm": {
     "name": "#%% md\n"
    }
   },
   "source": [
    "## Install clusterMaker2 if it hasn't already been installed"
   ]
  },
  {
   "cell_type": "code",
   "execution_count": 39,
   "metadata": {
    "pycharm": {
     "name": "#%%\n"
    }
   },
   "outputs": [
    {
     "name": "stdout",
     "output_type": "stream",
     "text": [
      "{}\n"
     ]
    },
    {
     "data": {
      "text/plain": [
       "{}"
      ]
     },
     "execution_count": 39,
     "metadata": {},
     "output_type": "execute_result"
    }
   ],
   "source": [
    "p4c.install_app('clusterMaker2')"
   ]
  },
  {
   "cell_type": "markdown",
   "metadata": {
    "pycharm": {
     "name": "#%% md\n"
    }
   },
   "source": [
    "## Identify network modules\n",
    "Create a hierarchic clustering of similar nodes based on the expression data columns. Cytoscape renders the hierarchy as a dendogram.\n",
    "\n",
    "*Tip:* Cytoscape's dendogram window can be used to manually explore module similarity. "
   ]
  },
  {
   "cell_type": "code",
   "execution_count": 40,
   "metadata": {
    "pycharm": {
     "name": "#%%\n"
    }
   },
   "outputs": [],
   "source": [
    "dendo_clustering = p4c.commands_post('cluster hierarchical showUI=true clusterAttributes=false nodeAttributeList=\"GSM1029,GSM1030,GSM1032,GSM1033,GSM1034\"')\n",
    "\n",
    "# dendo_clustering is a dictionary [{nodeOrder: [{nodeName: xxx, suid: sss}, ...]}\n",
    "#                                   {nodeTree: [{name: ggg, left: lll, right: rrr}]}]\n",
    "# where nodeOrder is a mapping between a leaf node name xxx and the suid sss of a network node,\n",
    "# and nodeTree is a tree where the left node lll and right node rrr can be leaf nodes xxx or\n",
    "# internal nodes ggg. "
   ]
  },
  {
   "cell_type": "markdown",
   "metadata": {
    "pycharm": {
     "name": "#%% md\n"
    }
   },
   "source": [
    "---\n",
    "# Perform an enrichment analysis using the gprofiler package"
   ]
  },
  {
   "cell_type": "markdown",
   "metadata": {
    "pycharm": {
     "name": "#%% md\n"
    }
   },
   "source": [
    "Use a package commonly available in PyPI to calculate functional enrichment for nodes similar to a node in which we may be interested. It's an example of how Cytoscape can work together with Python-based libraries to achieve a useful result.\n",
    "\n",
    "In this case, we choose HBT1 (entrez-gene ID 851303).\n",
    "\n",
    "1. Find SUID of network's HBT1 node\n",
    "\n",
    "1. Find a set of nodes similar to HBT1 by collecting nodes nearby in the tree\n",
    "\n",
    "1. Use each node's SUID to look up its entrez-gene ID\n",
    "\n",
    "1. Pass the set of entrez-gene IDs to gprofiler as an enrichment query"
   ]
  },
  {
   "cell_type": "markdown",
   "metadata": {},
   "source": [
    "## Find HBD1 in the similarity tree"
   ]
  },
  {
   "cell_type": "code",
   "execution_count": 41,
   "metadata": {},
   "outputs": [],
   "source": [
    "node_suid = p4c.node_name_to_node_suid('851303')[0] # Use entrez-gene ID to get SUID for HBT1"
   ]
  },
  {
   "cell_type": "markdown",
   "metadata": {},
   "source": [
    "## Collect set of SUIDs representing 85 similar nodes\n",
    "\n",
    "Note that we use custom functions to parse and traverse the dendogram's similarity tree."
   ]
  },
  {
   "cell_type": "code",
   "execution_count": 42,
   "metadata": {},
   "outputs": [],
   "source": [
    "import parse_dendogram as pde # Use custom functions to decode dendogram tree\n",
    "\n",
    "node_order = dendo_clustering[0]['nodeOrder']\n",
    "node_tree = dendo_clustering[0]['nodeTree']\n",
    "\n",
    "node_bag = pde.create_node_bag(node_order, node_tree)\n",
    "similar_nodes = list(pde.find_node_set(node_suid, 85, node_order, node_bag))"
   ]
  },
  {
   "cell_type": "markdown",
   "metadata": {},
   "source": [
    "## Using SUIDs, query Cytoscape for each node's entrez-gene ID"
   ]
  },
  {
   "cell_type": "code",
   "execution_count": 43,
   "metadata": {},
   "outputs": [
    {
     "name": "stdout",
     "output_type": "stream",
     "text": [
      "[850627, 853486, 851313, 852308, 856233, 854214, 853200, 854000, 851440, 854085, 850747, 850354, 853366, 852292, 855705, 853693, 854127, 855227, 854261, 854793, 854267, 850598, 852662, 856314, 856933, 851902, 850543, 855688, 852567, 851196, 856160, 853221, 851107, 854815, 852327, 851632, 853362, 852389, 851934, 850569, 851320, 855359, 851474, 851708, 852511, 854543, 853758, 852519, 851056, 854062, 856925, 851468, 855562, 856630, 850318, 853397, 851013, 851625, 850599, 850501, 852033, 856662, 851004, 855329, 850455, 851582, 851980, 854263, 856417, 856492, 856536, 856825, 854109, 854204, 851445, 854197, 853614, 854212, 851010, 851321, 854123, 853766, 851303, 854244, 852552]\n"
     ]
    }
   ],
   "source": [
    "suid_to_entrez_gene = p4c.get_table_columns(columns='name')['name']\n",
    "entrez_gene_query = [int(suid_to_entrez_gene[suid])  for suid in similar_nodes]\n",
    "\n",
    "print(entrez_gene_query)"
   ]
  },
  {
   "cell_type": "markdown",
   "metadata": {},
   "source": [
    "## Install gprofiler package if it's not already installed"
   ]
  },
  {
   "cell_type": "code",
   "execution_count": 44,
   "metadata": {},
   "outputs": [
    {
     "name": "stdout",
     "output_type": "stream",
     "text": [
      "Requirement already satisfied: gprofiler-official in c:\\users\\cydeveloper\\pycharmprojects\\py4cytoscape\\venv\\lib\\site-packages (1.0.0)\n",
      "Requirement already satisfied: requests in c:\\users\\cydeveloper\\pycharmprojects\\py4cytoscape\\venv\\lib\\site-packages (from gprofiler-official) (2.27.1)\n",
      "Requirement already satisfied: certifi>=2017.4.17 in c:\\users\\cydeveloper\\pycharmprojects\\py4cytoscape\\venv\\lib\\site-packages (from requests->gprofiler-official) (2021.10.8)\n",
      "Requirement already satisfied: idna<4,>=2.5 in c:\\users\\cydeveloper\\pycharmprojects\\py4cytoscape\\venv\\lib\\site-packages (from requests->gprofiler-official) (3.3)\n",
      "Requirement already satisfied: urllib3<1.27,>=1.21.1 in c:\\users\\cydeveloper\\pycharmprojects\\py4cytoscape\\venv\\lib\\site-packages (from requests->gprofiler-official) (1.26.9)\n",
      "Requirement already satisfied: charset-normalizer~=2.0.0 in c:\\users\\cydeveloper\\pycharmprojects\\py4cytoscape\\venv\\lib\\site-packages (from requests->gprofiler-official) (2.0.12)\n"
     ]
    },
    {
     "name": "stderr",
     "output_type": "stream",
     "text": [
      "WARNING: You are using pip version 21.3.1; however, version 22.1 is available.\n",
      "You should consider upgrading via the 'C:\\Users\\CyDeveloper\\PycharmProjects\\py4cytoscape\\venv\\Scripts\\python.exe -m pip install --upgrade pip' command.\n"
     ]
    }
   ],
   "source": [
    "!pip install gprofiler-official\n",
    "from gprofiler import GProfiler"
   ]
  },
  {
   "cell_type": "markdown",
   "metadata": {},
   "source": [
    "## Use entrez-gene IDs to query gprofiler for GO functional enrichment"
   ]
  },
  {
   "cell_type": "code",
   "execution_count": 45,
   "metadata": {},
   "outputs": [
    {
     "data": {
      "text/html": [
       "<div>\n",
       "<style scoped>\n",
       "    .dataframe tbody tr th:only-of-type {\n",
       "        vertical-align: middle;\n",
       "    }\n",
       "\n",
       "    .dataframe tbody tr th {\n",
       "        vertical-align: top;\n",
       "    }\n",
       "\n",
       "    .dataframe thead th {\n",
       "        text-align: right;\n",
       "    }\n",
       "</style>\n",
       "<table border=\"1\" class=\"dataframe\">\n",
       "  <thead>\n",
       "    <tr style=\"text-align: right;\">\n",
       "      <th></th>\n",
       "      <th>source</th>\n",
       "      <th>native</th>\n",
       "      <th>name</th>\n",
       "      <th>p_value</th>\n",
       "      <th>significant</th>\n",
       "      <th>description</th>\n",
       "      <th>term_size</th>\n",
       "      <th>query_size</th>\n",
       "      <th>intersection_size</th>\n",
       "      <th>effective_domain_size</th>\n",
       "      <th>precision</th>\n",
       "      <th>recall</th>\n",
       "      <th>query</th>\n",
       "      <th>parents</th>\n",
       "    </tr>\n",
       "  </thead>\n",
       "  <tbody>\n",
       "    <tr>\n",
       "      <th>0</th>\n",
       "      <td>GO:MF</td>\n",
       "      <td>GO:0031406</td>\n",
       "      <td>carboxylic acid binding</td>\n",
       "      <td>0.001488</td>\n",
       "      <td>True</td>\n",
       "      <td>\"Binding to a carboxylic acid, an organic acid...</td>\n",
       "      <td>10</td>\n",
       "      <td>83</td>\n",
       "      <td>4</td>\n",
       "      <td>6557</td>\n",
       "      <td>0.048193</td>\n",
       "      <td>0.400000</td>\n",
       "      <td>query_1</td>\n",
       "      <td>[GO:0043168]</td>\n",
       "    </tr>\n",
       "    <tr>\n",
       "      <th>1</th>\n",
       "      <td>GO:CC</td>\n",
       "      <td>GO:0005576</td>\n",
       "      <td>extracellular region</td>\n",
       "      <td>0.004672</td>\n",
       "      <td>True</td>\n",
       "      <td>\"The space external to the outermost structure...</td>\n",
       "      <td>127</td>\n",
       "      <td>83</td>\n",
       "      <td>9</td>\n",
       "      <td>6569</td>\n",
       "      <td>0.108434</td>\n",
       "      <td>0.070866</td>\n",
       "      <td>query_1</td>\n",
       "      <td>[GO:0110165]</td>\n",
       "    </tr>\n",
       "    <tr>\n",
       "      <th>2</th>\n",
       "      <td>KEGG</td>\n",
       "      <td>KEGG:01200</td>\n",
       "      <td>Carbon metabolism</td>\n",
       "      <td>0.008784</td>\n",
       "      <td>True</td>\n",
       "      <td>Carbon metabolism</td>\n",
       "      <td>112</td>\n",
       "      <td>27</td>\n",
       "      <td>7</td>\n",
       "      <td>2085</td>\n",
       "      <td>0.259259</td>\n",
       "      <td>0.062500</td>\n",
       "      <td>query_1</td>\n",
       "      <td>[KEGG:00000]</td>\n",
       "    </tr>\n",
       "    <tr>\n",
       "      <th>3</th>\n",
       "      <td>GO:CC</td>\n",
       "      <td>GO:0009277</td>\n",
       "      <td>fungal-type cell wall</td>\n",
       "      <td>0.009027</td>\n",
       "      <td>True</td>\n",
       "      <td>\"A rigid yet dynamic structure surrounding the...</td>\n",
       "      <td>138</td>\n",
       "      <td>83</td>\n",
       "      <td>9</td>\n",
       "      <td>6569</td>\n",
       "      <td>0.108434</td>\n",
       "      <td>0.065217</td>\n",
       "      <td>query_1</td>\n",
       "      <td>[GO:0005618]</td>\n",
       "    </tr>\n",
       "    <tr>\n",
       "      <th>4</th>\n",
       "      <td>KEGG</td>\n",
       "      <td>KEGG:00630</td>\n",
       "      <td>Glyoxylate and dicarboxylate metabolism</td>\n",
       "      <td>0.009619</td>\n",
       "      <td>True</td>\n",
       "      <td>Glyoxylate and dicarboxylate metabolism</td>\n",
       "      <td>29</td>\n",
       "      <td>27</td>\n",
       "      <td>4</td>\n",
       "      <td>2085</td>\n",
       "      <td>0.148148</td>\n",
       "      <td>0.137931</td>\n",
       "      <td>query_1</td>\n",
       "      <td>[KEGG:00000]</td>\n",
       "    </tr>\n",
       "    <tr>\n",
       "      <th>5</th>\n",
       "      <td>GO:CC</td>\n",
       "      <td>GO:0005618</td>\n",
       "      <td>cell wall</td>\n",
       "      <td>0.012594</td>\n",
       "      <td>True</td>\n",
       "      <td>\"The rigid or semi-rigid envelope lying outsid...</td>\n",
       "      <td>144</td>\n",
       "      <td>83</td>\n",
       "      <td>9</td>\n",
       "      <td>6569</td>\n",
       "      <td>0.108434</td>\n",
       "      <td>0.062500</td>\n",
       "      <td>query_1</td>\n",
       "      <td>[GO:0030312]</td>\n",
       "    </tr>\n",
       "    <tr>\n",
       "      <th>6</th>\n",
       "      <td>GO:CC</td>\n",
       "      <td>GO:0030312</td>\n",
       "      <td>external encapsulating structure</td>\n",
       "      <td>0.013291</td>\n",
       "      <td>True</td>\n",
       "      <td>\"A structure that lies outside the plasma memb...</td>\n",
       "      <td>145</td>\n",
       "      <td>83</td>\n",
       "      <td>9</td>\n",
       "      <td>6569</td>\n",
       "      <td>0.108434</td>\n",
       "      <td>0.062069</td>\n",
       "      <td>query_1</td>\n",
       "      <td>[GO:0071944, GO:0110165]</td>\n",
       "    </tr>\n",
       "    <tr>\n",
       "      <th>7</th>\n",
       "      <td>GO:BP</td>\n",
       "      <td>GO:0016051</td>\n",
       "      <td>carbohydrate biosynthetic process</td>\n",
       "      <td>0.021517</td>\n",
       "      <td>True</td>\n",
       "      <td>\"The chemical reactions and pathways resulting...</td>\n",
       "      <td>99</td>\n",
       "      <td>83</td>\n",
       "      <td>8</td>\n",
       "      <td>6548</td>\n",
       "      <td>0.096386</td>\n",
       "      <td>0.080808</td>\n",
       "      <td>query_1</td>\n",
       "      <td>[GO:0005975, GO:1901576]</td>\n",
       "    </tr>\n",
       "    <tr>\n",
       "      <th>8</th>\n",
       "      <td>GO:BP</td>\n",
       "      <td>GO:0033692</td>\n",
       "      <td>cellular polysaccharide biosynthetic process</td>\n",
       "      <td>0.023769</td>\n",
       "      <td>True</td>\n",
       "      <td>\"The chemical reactions and pathways resulting...</td>\n",
       "      <td>50</td>\n",
       "      <td>83</td>\n",
       "      <td>6</td>\n",
       "      <td>6548</td>\n",
       "      <td>0.072289</td>\n",
       "      <td>0.120000</td>\n",
       "      <td>query_1</td>\n",
       "      <td>[GO:0000271, GO:0034637, GO:0034645, GO:0044264]</td>\n",
       "    </tr>\n",
       "    <tr>\n",
       "      <th>9</th>\n",
       "      <td>GO:BP</td>\n",
       "      <td>GO:0000271</td>\n",
       "      <td>polysaccharide biosynthetic process</td>\n",
       "      <td>0.026668</td>\n",
       "      <td>True</td>\n",
       "      <td>\"The chemical reactions and pathways resulting...</td>\n",
       "      <td>51</td>\n",
       "      <td>83</td>\n",
       "      <td>6</td>\n",
       "      <td>6548</td>\n",
       "      <td>0.072289</td>\n",
       "      <td>0.117647</td>\n",
       "      <td>query_1</td>\n",
       "      <td>[GO:0005976, GO:0009059, GO:0016051]</td>\n",
       "    </tr>\n",
       "  </tbody>\n",
       "</table>\n",
       "</div>"
      ],
      "text/plain": [
       "  source      native                                          name   p_value  \\\n",
       "0  GO:MF  GO:0031406                       carboxylic acid binding  0.001488   \n",
       "1  GO:CC  GO:0005576                          extracellular region  0.004672   \n",
       "2   KEGG  KEGG:01200                             Carbon metabolism  0.008784   \n",
       "3  GO:CC  GO:0009277                         fungal-type cell wall  0.009027   \n",
       "4   KEGG  KEGG:00630       Glyoxylate and dicarboxylate metabolism  0.009619   \n",
       "5  GO:CC  GO:0005618                                     cell wall  0.012594   \n",
       "6  GO:CC  GO:0030312              external encapsulating structure  0.013291   \n",
       "7  GO:BP  GO:0016051             carbohydrate biosynthetic process  0.021517   \n",
       "8  GO:BP  GO:0033692  cellular polysaccharide biosynthetic process  0.023769   \n",
       "9  GO:BP  GO:0000271           polysaccharide biosynthetic process  0.026668   \n",
       "\n",
       "   significant                                        description  term_size  \\\n",
       "0         True  \"Binding to a carboxylic acid, an organic acid...         10   \n",
       "1         True  \"The space external to the outermost structure...        127   \n",
       "2         True                                  Carbon metabolism        112   \n",
       "3         True  \"A rigid yet dynamic structure surrounding the...        138   \n",
       "4         True            Glyoxylate and dicarboxylate metabolism         29   \n",
       "5         True  \"The rigid or semi-rigid envelope lying outsid...        144   \n",
       "6         True  \"A structure that lies outside the plasma memb...        145   \n",
       "7         True  \"The chemical reactions and pathways resulting...         99   \n",
       "8         True  \"The chemical reactions and pathways resulting...         50   \n",
       "9         True  \"The chemical reactions and pathways resulting...         51   \n",
       "\n",
       "   query_size  intersection_size  effective_domain_size  precision    recall  \\\n",
       "0          83                  4                   6557   0.048193  0.400000   \n",
       "1          83                  9                   6569   0.108434  0.070866   \n",
       "2          27                  7                   2085   0.259259  0.062500   \n",
       "3          83                  9                   6569   0.108434  0.065217   \n",
       "4          27                  4                   2085   0.148148  0.137931   \n",
       "5          83                  9                   6569   0.108434  0.062500   \n",
       "6          83                  9                   6569   0.108434  0.062069   \n",
       "7          83                  8                   6548   0.096386  0.080808   \n",
       "8          83                  6                   6548   0.072289  0.120000   \n",
       "9          83                  6                   6548   0.072289  0.117647   \n",
       "\n",
       "     query                                           parents  \n",
       "0  query_1                                      [GO:0043168]  \n",
       "1  query_1                                      [GO:0110165]  \n",
       "2  query_1                                      [KEGG:00000]  \n",
       "3  query_1                                      [GO:0005618]  \n",
       "4  query_1                                      [KEGG:00000]  \n",
       "5  query_1                                      [GO:0030312]  \n",
       "6  query_1                          [GO:0071944, GO:0110165]  \n",
       "7  query_1                          [GO:0005975, GO:1901576]  \n",
       "8  query_1  [GO:0000271, GO:0034637, GO:0034645, GO:0044264]  \n",
       "9  query_1              [GO:0005976, GO:0009059, GO:0016051]  "
      ]
     },
     "execution_count": 45,
     "metadata": {},
     "output_type": "execute_result"
    }
   ],
   "source": [
    "gp = GProfiler(user_agent='py4cytoscape', return_dataframe=True)\n",
    "gp.profile(organism='scerevisiae', query=entrez_gene_query)"
   ]
  }
 ],
 "metadata": {
  "kernelspec": {
   "display_name": "Python 3 (ipykernel)",
   "language": "python",
   "name": "python3"
  },
  "language_info": {
   "codemirror_mode": {
    "name": "ipython",
    "version": 3
   },
   "file_extension": ".py",
   "mimetype": "text/x-python",
   "name": "python",
   "nbconvert_exporter": "python",
   "pygments_lexer": "ipython3",
   "version": "3.10.4"
  }
 },
 "nbformat": 4,
 "nbformat_minor": 1
}