{
 "cells": [
  {
   "cell_type": "markdown",
   "source": [
    "This is a reproduction of the [Biological Network Exploration with Cytoscape 3](https://pubmed.ncbi.nlm.nih.gov/25199793/) Basic Protocol 1, which loads an s. cervesiae network, filters out unneeded nodes, lays out the resulting network, creates clusters of similar nodes and then performs an enrichment calculation on one cluster.\n",
    "\n",
    "Note that this workflow executes in a Jupyter Notebook running on your workstation, and communicates with a copy of Cytoscape also running on your workstation. For a similar workflow that runs on a cloud server (e.g., Google Colab), see [here](https://github.com/bdemchak/cytoscape-jupyter/tree/main/gangsu)."
   ],
   "metadata": {
    "collapsed": false,
    "pycharm": {
     "name": "#%% md\n"
    }
   }
  },
  {
   "cell_type": "markdown",
   "source": [
    "---\n",
    "# Setup data files, py4cytoscape and Cytoscape connection\n",
    "**NOTE: To run this notebook, you must manually start Cytoscape first -- don't proceed until you have started Cytoscape.**\n",
    "\n",
    "This workflow requires two files that are located in cloud storage:\n",
    "\n",
    "* BIOGRID-ORGANISM-Saccharomyces_cerevisiae-3.2.105.mitab (network file)\n",
    "* GDS112_full.soft (annotation file)\n",
    "\n",
    "Both files reside in a Dropbox folder, and they are downloaded by this workflow as needed."
   ],
   "metadata": {
    "collapsed": false,
    "pycharm": {
     "name": "#%% md\n"
    }
   }
  },
  {
   "cell_type": "markdown",
   "source": [
    "## Setup: Fetch latest py4cytoscape\n",
    "\n",
    "\n"
   ],
   "metadata": {
    "collapsed": false,
    "pycharm": {
     "name": "#%% md\n"
    }
   }
  },
  {
   "cell_type": "code",
   "execution_count": null,
   "outputs": [],
   "source": [
    "import py4cytoscape as p4c"
   ],
   "metadata": {
    "collapsed": false,
    "pycharm": {
     "name": "#%%\n"
    }
   }
  },
  {
   "cell_type": "markdown",
   "source": [
    "## Setup: Sanity test to verify Cytoscape connection"
   ],
   "metadata": {
    "collapsed": false,
    "pycharm": {
     "name": "#%% md\n"
    }
   }
  },
  {
   "cell_type": "markdown",
   "source": [
    "By now, the connection to Cytoscape should be up and available. To verify this, try a simple operation that doesn't alter the state of Cytoscape."
   ],
   "metadata": {
    "collapsed": false,
    "pycharm": {
     "name": "#%% md\n"
    }
   }
  },
  {
   "cell_type": "code",
   "execution_count": null,
   "outputs": [],
   "source": [
    "p4c.cytoscape_version_info()\n"
   ],
   "metadata": {
    "collapsed": false,
    "pycharm": {
     "name": "#%%\n"
    }
   }
  },
  {
   "cell_type": "markdown",
   "source": [
    "## Setup: Notebook data files\n",
    "Create the 'output' directory, which will be used to store files uploaded from Cytoscape.\n",
    "\n",
    "This is a good place to prepare any other system resources that might be needed by downstream Notebook cells.\n",
    "\n",
    "Pro Tip: The \"!\" commands in this cell are passed to the host operating system. In this example, they're correct for a Windows host. Different commands would be appropriate for a Linux or Mac host.\n"
   ],
   "metadata": {
    "collapsed": false,
    "pycharm": {
     "name": "#%% md\n"
    }
   }
  },
  {
   "cell_type": "code",
   "execution_count": null,
   "outputs": [],
   "source": [
    "!del /s/q/f output\n",
    "!rmdir output\n",
    "!mkdir output\n",
    "!dir output\n",
    "OUTPUT_DIR = 'output/'"
   ],
   "metadata": {
    "collapsed": false,
    "pycharm": {
     "name": "#%%\n"
    }
   }
  },
  {
   "cell_type": "markdown",
   "source": [
    "## Setup: Import source data files\n",
    "The network and annotation files are in a Dropbox folder, and this cell downloads them into the default Sandbox from where Cytoscape will access them.\n",
    "\n",
    "The files could just as well have been on any cloud resource, including Google Drive, Github, Microsoft OneDrive or a private web site. Note that in this case, the network file was so large that it could not be saved on GitHub, so Dropbox was a handy alternative.\n",
    "\n",
    "*Tip:* An alternative would be to load the files into this Notebook's file system (or create them there) and then download those files to the Sandbox. Loading them into the Notebook file system would require the use of Notebook \"!\" commands (e.g., !wget). wget for Windows can be found [here](https://eternallybored.org/misc/wget/)."
   ],
   "metadata": {
    "collapsed": false,
    "pycharm": {
     "name": "#%% md\n"
    }
   }
  },
  {
   "cell_type": "markdown",
   "source": [
    "---\n",
    "Note that this cell uses the `import_file_from_url()` function to load resources from cloud storage.\n",
    "This function is appropriate for Notebooks running on the same workstation as Cytoscape, but\n",
    "not for Notebooks running on a remote server. On a remote server, the Notebook's file system is not the same as the Cytoscape workstation's file system, and [Sandbox functions](https://py4cytoscape.readthedocs.io/en/latest/concepts.html#sandboxing) should be used instead."
   ],
   "metadata": {
    "collapsed": false,
    "pycharm": {
     "name": "#%% md\n"
    }
   }
  },
  {
   "cell_type": "code",
   "execution_count": null,
   "outputs": [],
   "source": [
    "res_mitab = p4c.import_file_from_url(\"https://www.dropbox.com/s/8wc8o897tsxewt1/BIOGRID-ORGANISM-Saccharomyces_cerevisiae-3.2.105.mitab?dl=0\", \"BIOGRID-ORGANISM-Saccharomyces_cerevisiae-3.2.105.mitab\")\n",
    "print(f'Network file BIOGRID-ORGANISM-Saccharomyces_cerevisiae-3.2.105.mitab has {res_mitab[\"fileByteCount\"]} bytes')"
   ],
   "metadata": {
    "collapsed": false,
    "pycharm": {
     "name": "#%%\n"
    }
   }
  },
  {
   "cell_type": "markdown",
   "source": [
    "---\n",
    "# Load the Protein-protein Interaction Network into Cytoscape\n",
    "The network is contained in the s. cerevisiae MITAB file."
   ],
   "metadata": {
    "collapsed": false,
    "pycharm": {
     "name": "#%% md\n"
    }
   }
  },
  {
   "cell_type": "markdown",
   "source": [
    "Note that in this cell, the `import_network_from_file()` function (incorrectly) throws an exception. To ignore the exception, we enclose it in a try/except block.\n",
    "\n",
    "Note: Once the CYTOSCAPE-12772 issue is solved, we can remove the try/except block."
   ],
   "metadata": {
    "collapsed": false,
    "pycharm": {
     "name": "#%% md\n"
    }
   }
  },
  {
   "cell_type": "code",
   "execution_count": null,
   "outputs": [],
   "source": [
    "from requests import HTTPError\n",
    "p4c.close_session(False)\n",
    "\n",
    "try:\n",
    "  p4c.import_network_from_file('BIOGRID-ORGANISM-Saccharomyces_cerevisiae-3.2.105.mitab')\n",
    "except:  \n",
    "  pass\n",
    "if p4c.get_network_count() != 1:\n",
    "  raise Exception('Failed to load network')\n",
    "net_suid = p4c.get_network_suid()\n",
    "print(f'Network identifier: {net_suid}')\n",
    "\n"
   ],
   "metadata": {
    "collapsed": false,
    "pycharm": {
     "name": "#%%\n"
    }
   }
  },
  {
   "cell_type": "markdown",
   "source": [
    "---\n",
    "# Import the gene expression data\n",
    "The expression data is downloaded and merged into the network's node attribute table."
   ],
   "metadata": {
    "collapsed": false,
    "pycharm": {
     "name": "#%% md\n"
    }
   }
  },
  {
   "cell_type": "markdown",
   "source": [
    "---\n",
    "*Tip:* This cell shows how to create code that works around changes in Cytoscape capabilities. \n",
    "\n",
    "In this case, starting with Cytoscape 3.9.0, the `load_table_data_from_file()` function works as expected, so the gene expression data is merged into the node attribute table. \n",
    "\n",
    "Prior to 3.9.0, `load_table_data_from_file()` didn't work. As a workaround, we do most of the work in Pandas and then import the dataframe into the node attribute table. After Pandas reads the CSV, we will try to match dataframe Gene ID column to the `name` column in the Cytoscape node attribute table. To do this, we must explicitly set the Gene ID as a string (even though it's originally parsed as a number) because Cytoscape's `name` column is already a string. \n",
    "\n",
    "Pro Tip: The wget and mv commands work on a Jupyter system on a Linux host. You may have to choose different commands for a Windows host. wget for Windows can be found [here](https://eternallybored.org/misc/wget/)."
   ],
   "metadata": {
    "collapsed": false,
    "pycharm": {
     "name": "#%% md\n"
    }
   }
  },
  {
   "cell_type": "code",
   "execution_count": null,
   "outputs": [],
   "source": [
    "if p4c.check_supported_versions(cytoscape='3.9') is None:\n",
    "  # Load file directly into Sandbox so Cytoscape can import it\n",
    "  res_soft = p4c.import_file_from_url(\"https://www.dropbox.com/s/r15azh0xb53smu1/GDS112_full.soft?dl=0\", \"GDS112_full.soft\")\n",
    "  print(f'Annotation file GDS112_full.soft has {res_soft[\"fileByteCount\"]} bytes')\n",
    "\n",
    "  res = p4c.load_table_data_from_file('GDS112_full.soft', start_load_row=83, data_key_column_index=10, delimiters='\\t')\n",
    "  print(f'Load result contains table identifiers: {res[\"mappedTables\"]}')\n",
    "else:\n",
    "  # Load file into Notebook file system so Python can import it, tweak it, and download to Cytoscape\n",
    "  !wget -q --no-check-certificate https://www.dropbox.com/s/r15azh0xb53smu1/GDS112_full.soft?dl=0\n",
    "  !mv GDS112_full.soft?dl=0 GDS112_full.soft\n",
    "\n",
    "  import pandas as df\n",
    "  GDS112_full = df.read_csv('GDS112_full.soft', skiprows=82, sep='\\t')\n",
    "  GDS112_full.dropna(subset=['Gene ID'], inplace=True)\n",
    "  GDS112_full['Gene ID'] = df.to_numeric(GDS112_full['Gene ID'], downcast='integer')\n",
    "  GDS112_full = GDS112_full.astype({'Gene ID': 'string'})\n",
    "  print(GDS112_full.dtypes)\n",
    "  print(GDS112_full)\n",
    "  p4c.load_table_data(GDS112_full, data_key_column='Gene ID')\n",
    "\n",
    "  import os\n",
    "  os.remove('GDS112_full.soft')\n"
   ],
   "metadata": {
    "collapsed": false,
    "pycharm": {
     "name": "#%%\n"
    }
   }
  },
  {
   "cell_type": "markdown",
   "source": [
    "---\n",
    "# Filter the Network with the Genes that have Expression Data\n",
    "For this, we assume that if a node has no *Gene symbol*, it also has no expression data. \n",
    "\n",
    "The filter compares each node's *Gene symbol* attribute to a regular expression. If there is a match, the gene is selected; for no match, the gene isn't selected."
   ],
   "metadata": {
    "collapsed": false,
    "pycharm": {
     "name": "#%% md\n"
    }
   }
  },
  {
   "cell_type": "code",
   "execution_count": null,
   "outputs": [],
   "source": [
    "res = p4c.create_column_filter('SymbolOK', 'Gene symbol', '[A-Z0-9]*', 'REGEX')\n",
    "print(f'Nodes selected: {len(res[\"nodes\"])}')"
   ],
   "metadata": {
    "collapsed": false,
    "pycharm": {
     "name": "#%%\n"
    }
   }
  },
  {
   "cell_type": "markdown",
   "source": [
    "---\n",
    "# Create a New Network with the Selected Subset\n",
    "Create a subnetwork containing only nodes selected by the filter (i.e., having a *Gene symbol* value, which implies that expression data is present for that node)."
   ],
   "metadata": {
    "collapsed": false,
    "pycharm": {
     "name": "#%% md\n"
    }
   }
  },
  {
   "cell_type": "markdown",
   "source": [
    "This could take several minutes.\n",
    "\n",
    "At the end, you should see a view containing all nodes laid out. "
   ],
   "metadata": {
    "collapsed": false,
    "pycharm": {
     "name": "#%% md\n"
    }
   }
  },
  {
   "cell_type": "markdown",
   "source": [
    "If you see only a single rectangle, it could be that your Cytoscape is set to operate with a small stack size. To increase the stack:\n",
    "\n",
    "1. terminate Cytoscape\n",
    "\n",
    "2. a) upgrade Cytoscape to 3.9.0 or later \n",
    "\n",
    "  ... or b) use a text editor to add -Xss5M to the cytoscape.vmoptions file in your Cytoscape program directory\n",
    "\n",
    "3. restart Cytoscape\n",
    "\n",
    "4. re-run this workflow"
   ],
   "metadata": {
    "collapsed": false,
    "pycharm": {
     "name": "#%% md\n"
    }
   }
  },
  {
   "cell_type": "code",
   "execution_count": null,
   "outputs": [],
   "source": [
    "new_suid = p4c.create_subnetwork()\n",
    "print(f'New network identifier: {new_suid}')"
   ],
   "metadata": {
    "collapsed": false,
    "pycharm": {
     "name": "#%%\n"
    }
   }
  },
  {
   "cell_type": "markdown",
   "source": [
    "## Get rid of the original network, which isn't needed anymore"
   ],
   "metadata": {
    "collapsed": false,
    "pycharm": {
     "name": "#%% md\n"
    }
   }
  },
  {
   "cell_type": "code",
   "execution_count": null,
   "outputs": [],
   "source": [
    "p4c.delete_network(net_suid)\n",
    "net_suid = new_suid"
   ],
   "metadata": {
    "collapsed": false,
    "pycharm": {
     "name": "#%%\n"
    }
   }
  },
  {
   "cell_type": "markdown",
   "source": [
    "---\n",
    "# Identify Network Modules\n",
    "The overall strategy is to find clusters of nodes that share some common attribute. In this case, we use expression data values. Specifically:\n",
    "\n",
    "* Load Cytoscape's clusterMaker2 app\n",
    "* Use clusterMaker2 to create a dendogram showing a hierarchy of similar network modules"
   ],
   "metadata": {
    "collapsed": false,
    "pycharm": {
     "name": "#%% md\n"
    }
   }
  },
  {
   "cell_type": "markdown",
   "source": [
    "## Install clusterMaker2 if it hasn't already been installed"
   ],
   "metadata": {
    "collapsed": false,
    "pycharm": {
     "name": "#%% md\n"
    }
   }
  },
  {
   "cell_type": "code",
   "execution_count": null,
   "outputs": [],
   "source": [
    "p4c.install_app('clusterMaker2')"
   ],
   "metadata": {
    "collapsed": false,
    "pycharm": {
     "name": "#%%\n"
    }
   }
  },
  {
   "cell_type": "markdown",
   "source": [
    "## Identify network modules\n",
    "Create a hierarchic clustering of similar nodes based on the expression data columns. Cytoscape renders the hierarchy as a dendogram.\n",
    "\n",
    "*Tip:* Cytoscape's dendogram window can be used to manually explore module similarity. "
   ],
   "metadata": {
    "collapsed": false,
    "pycharm": {
     "name": "#%% md\n"
    }
   }
  },
  {
   "cell_type": "code",
   "execution_count": null,
   "outputs": [],
   "source": [
    "dendo_clustering = p4c.commands_post('cluster hierarchical showUI=true clusterAttributes=false nodeAttributeList=\"GSM1029,GSM1030,GSM1032,GSM1033,GSM1034\"')\n",
    "\n",
    "# dendo_clustering is a dictionary [{nodeOrder: [{nodeName: xxx, suid: sss}, ...]}\n",
    "#                                   {nodeTree: [{name: ggg, left: lll, right: rrr}]}]\n",
    "# where nodeOrder is a mapping between a leaf node name xxx and the suid sss of a network node,\n",
    "# and nodeTree is a tree where the left node lll and right node rrr can be leaf nodes xxx or\n",
    "# internal nodes ggg. "
   ],
   "metadata": {
    "collapsed": false,
    "pycharm": {
     "name": "#%%\n"
    }
   }
  },
  {
   "cell_type": "markdown",
   "source": [
    "---\n",
    "# Perform an enrichment analysis using the gprofiler package"
   ],
   "metadata": {
    "collapsed": false,
    "pycharm": {
     "name": "#%% md\n"
    }
   }
  },
  {
   "cell_type": "markdown",
   "source": [
    "Use a package commonly available in PyPI to calculate functional enrichment for nodes similar to a node in which we may be interested. It's an example of how Cytoscape can work together with Python-based libraries to achieve a useful result.\n",
    "\n",
    "In this case, we choose HBT1 (entrez-gene ID 851303).\n",
    "\n",
    "1. Find SUID of network's HBT1 node\n",
    "\n",
    "1. Find a set of nodes similar to HBT1 by collecting nodes nearby in the tree\n",
    "\n",
    "1. Use each node's SUID to look up its entrez-gene ID\n",
    "\n",
    "1. Pass the set of entrez-gene IDs to gprofiler as an enrichment query"
   ],
   "metadata": {
    "collapsed": false,
    "pycharm": {
     "name": "#%% md\n"
    }
   }
  },
  {
   "cell_type": "markdown",
   "source": [
    "## Find HBD1 in the similarity tree"
   ],
   "metadata": {
    "collapsed": false,
    "pycharm": {
     "name": "#%% md\n"
    }
   }
  },
  {
   "cell_type": "code",
   "execution_count": null,
   "outputs": [],
   "source": [
    "node_suid = p4c.node_name_to_node_suid('851303')[0] # Use entrez-gene ID to get SUID for HBT1"
   ],
   "metadata": {
    "collapsed": false,
    "pycharm": {
     "name": "#%%\n"
    }
   }
  },
  {
   "cell_type": "markdown",
   "source": [
    "## Collect set of SUIDs representing 85 similar nodes\n",
    "\n",
    "Note that we use custom functions to parse and traverse the dendogram's similarity tree."
   ],
   "metadata": {
    "collapsed": false,
    "pycharm": {
     "name": "#%% md\n"
    }
   }
  },
  {
   "cell_type": "code",
   "execution_count": null,
   "outputs": [],
   "source": [
    "import parse_dendogram as pde # Use custom functions to decode dendogram tree\n",
    "\n",
    "node_order = dendo_clustering[0]['nodeOrder']\n",
    "node_tree = dendo_clustering[0]['nodeTree']\n",
    "\n",
    "node_bag = pde.create_node_bag(node_order, node_tree)\n",
    "similar_nodes = list(pde.find_node_set(node_suid, 85, node_order, node_bag))"
   ],
   "metadata": {
    "collapsed": false,
    "pycharm": {
     "name": "#%%\n"
    }
   }
  },
  {
   "cell_type": "markdown",
   "source": [
    "## Using SUIDs, query Cytoscape for each node's entrez-gene ID"
   ],
   "metadata": {
    "collapsed": false,
    "pycharm": {
     "name": "#%% md\n"
    }
   }
  },
  {
   "cell_type": "code",
   "execution_count": null,
   "outputs": [],
   "source": [
    "suid_to_entrez_gene = p4c.get_table_columns(columns='name')['name']\n",
    "entrez_gene_query = [int(suid_to_entrez_gene[suid])  for suid in similar_nodes]\n",
    "\n",
    "print(entrez_gene_query)"
   ],
   "metadata": {
    "collapsed": false,
    "pycharm": {
     "name": "#%%\n"
    }
   }
  },
  {
   "cell_type": "markdown",
   "source": [
    "## Install gprofiler package if it's not already installed"
   ],
   "metadata": {
    "collapsed": false,
    "pycharm": {
     "name": "#%% md\n"
    }
   }
  },
  {
   "cell_type": "code",
   "execution_count": null,
   "outputs": [],
   "source": [
    "!pip install gprofiler-official\n",
    "from gprofiler import GProfiler"
   ],
   "metadata": {
    "collapsed": false,
    "pycharm": {
     "name": "#%%\n"
    }
   }
  },
  {
   "cell_type": "markdown",
   "source": [
    "## Use entrez-gene IDs to query gprofiler for GO functional enrichment"
   ],
   "metadata": {
    "collapsed": false,
    "pycharm": {
     "name": "#%% md\n"
    }
   }
  },
  {
   "cell_type": "code",
   "execution_count": null,
   "outputs": [],
   "source": [
    "gp = GProfiler(user_agent='py4cytoscape', return_dataframe=True)\n",
    "gp.profile(organism='scerevisiae', query=entrez_gene_query)"
   ],
   "metadata": {
    "collapsed": false,
    "pycharm": {
     "name": "#%%\n"
    }
   }
  },
  {
   "cell_type": "markdown",
   "metadata": {},
   "source": [
    "## Install gprofiler package if it's not already installed"
   ]
  },
  {
   "cell_type": "code",
   "execution_count": 15,
   "metadata": {},
   "outputs": [
    {
     "name": "stdout",
     "output_type": "stream",
     "text": [
      "Requirement already satisfied: gprofiler-official in c:\\users\\cydeveloper\\pycharmprojects\\py4cytoscape\\venv\\lib\\site-packages (1.0.0)\n",
      "Requirement already satisfied: requests in c:\\users\\cydeveloper\\pycharmprojects\\py4cytoscape\\venv\\lib\\site-packages (from gprofiler-official) (2.27.1)\n",
      "Requirement already satisfied: idna<4,>=2.5 in c:\\users\\cydeveloper\\pycharmprojects\\py4cytoscape\\venv\\lib\\site-packages (from requests->gprofiler-official) (3.3)\n",
      "Requirement already satisfied: charset-normalizer~=2.0.0 in c:\\users\\cydeveloper\\pycharmprojects\\py4cytoscape\\venv\\lib\\site-packages (from requests->gprofiler-official) (2.0.12)\n",
      "Requirement already satisfied: certifi>=2017.4.17 in c:\\users\\cydeveloper\\pycharmprojects\\py4cytoscape\\venv\\lib\\site-packages (from requests->gprofiler-official) (2021.10.8)\n",
      "Requirement already satisfied: urllib3<1.27,>=1.21.1 in c:\\users\\cydeveloper\\pycharmprojects\\py4cytoscape\\venv\\lib\\site-packages (from requests->gprofiler-official) (1.26.9)\n"
     ]
    },
    {
     "name": "stderr",
     "output_type": "stream",
     "text": [
      "WARNING: You are using pip version 21.3.1; however, version 22.1 is available.\n",
      "You should consider upgrading via the 'C:\\Users\\CyDeveloper\\PycharmProjects\\py4cytoscape\\venv\\Scripts\\python.exe -m pip install --upgrade pip' command.\n"
     ]
    }
   ],
   "source": [
    "!pip install gprofiler-official\n",
    "from gprofiler import GProfiler"
   ]
  },
  {
   "cell_type": "markdown",
   "metadata": {},
   "source": [
    "## Use entrez-gene IDs to query gprofiler for GO functional enrichment"
   ]
  },
  {
   "cell_type": "code",
   "execution_count": 16,
   "metadata": {},
   "outputs": [
    {
     "data": {
      "text/html": [
       "<div>\n",
       "<style scoped>\n",
       "    .dataframe tbody tr th:only-of-type {\n",
       "        vertical-align: middle;\n",
       "    }\n",
       "\n",
       "    .dataframe tbody tr th {\n",
       "        vertical-align: top;\n",
       "    }\n",
       "\n",
       "    .dataframe thead th {\n",
       "        text-align: right;\n",
       "    }\n",
       "</style>\n",
       "<table border=\"1\" class=\"dataframe\">\n",
       "  <thead>\n",
       "    <tr style=\"text-align: right;\">\n",
       "      <th></th>\n",
       "      <th>source</th>\n",
       "      <th>native</th>\n",
       "      <th>name</th>\n",
       "      <th>p_value</th>\n",
       "      <th>significant</th>\n",
       "      <th>description</th>\n",
       "      <th>term_size</th>\n",
       "      <th>query_size</th>\n",
       "      <th>intersection_size</th>\n",
       "      <th>effective_domain_size</th>\n",
       "      <th>precision</th>\n",
       "      <th>recall</th>\n",
       "      <th>query</th>\n",
       "      <th>parents</th>\n",
       "    </tr>\n",
       "  </thead>\n",
       "  <tbody>\n",
       "    <tr>\n",
       "      <th>0</th>\n",
       "      <td>GO:CC</td>\n",
       "      <td>GO:0005576</td>\n",
       "      <td>extracellular region</td>\n",
       "      <td>9.197961e-07</td>\n",
       "      <td>True</td>\n",
       "      <td>\"The space external to the outermost structure...</td>\n",
       "      <td>127</td>\n",
       "      <td>84</td>\n",
       "      <td>13</td>\n",
       "      <td>6569</td>\n",
       "      <td>0.154762</td>\n",
       "      <td>0.102362</td>\n",
       "      <td>query_1</td>\n",
       "      <td>[GO:0110165]</td>\n",
       "    </tr>\n",
       "    <tr>\n",
       "      <th>1</th>\n",
       "      <td>GO:MF</td>\n",
       "      <td>GO:0003824</td>\n",
       "      <td>catalytic activity</td>\n",
       "      <td>2.847555e-05</td>\n",
       "      <td>True</td>\n",
       "      <td>\"Catalysis of a biochemical reaction at physio...</td>\n",
       "      <td>2317</td>\n",
       "      <td>85</td>\n",
       "      <td>54</td>\n",
       "      <td>6557</td>\n",
       "      <td>0.635294</td>\n",
       "      <td>0.023306</td>\n",
       "      <td>query_1</td>\n",
       "      <td>[GO:0003674]</td>\n",
       "    </tr>\n",
       "    <tr>\n",
       "      <th>2</th>\n",
       "      <td>GO:BP</td>\n",
       "      <td>GO:1901575</td>\n",
       "      <td>organic substance catabolic process</td>\n",
       "      <td>8.375466e-04</td>\n",
       "      <td>True</td>\n",
       "      <td>\"The chemical reactions and pathways resulting...</td>\n",
       "      <td>792</td>\n",
       "      <td>85</td>\n",
       "      <td>27</td>\n",
       "      <td>6548</td>\n",
       "      <td>0.317647</td>\n",
       "      <td>0.034091</td>\n",
       "      <td>query_1</td>\n",
       "      <td>[GO:0009056, GO:0071704]</td>\n",
       "    </tr>\n",
       "    <tr>\n",
       "      <th>3</th>\n",
       "      <td>GO:CC</td>\n",
       "      <td>GO:0005737</td>\n",
       "      <td>cytoplasm</td>\n",
       "      <td>1.658261e-03</td>\n",
       "      <td>True</td>\n",
       "      <td>\"The contents of a cell excluding the plasma m...</td>\n",
       "      <td>4431</td>\n",
       "      <td>84</td>\n",
       "      <td>74</td>\n",
       "      <td>6569</td>\n",
       "      <td>0.880952</td>\n",
       "      <td>0.016701</td>\n",
       "      <td>query_1</td>\n",
       "      <td>[GO:0005622, GO:0110165]</td>\n",
       "    </tr>\n",
       "    <tr>\n",
       "      <th>4</th>\n",
       "      <td>KEGG</td>\n",
       "      <td>KEGG:01200</td>\n",
       "      <td>Carbon metabolism</td>\n",
       "      <td>2.594523e-03</td>\n",
       "      <td>True</td>\n",
       "      <td>Carbon metabolism</td>\n",
       "      <td>112</td>\n",
       "      <td>37</td>\n",
       "      <td>9</td>\n",
       "      <td>2085</td>\n",
       "      <td>0.243243</td>\n",
       "      <td>0.080357</td>\n",
       "      <td>query_1</td>\n",
       "      <td>[KEGG:00000]</td>\n",
       "    </tr>\n",
       "    <tr>\n",
       "      <th>5</th>\n",
       "      <td>KEGG</td>\n",
       "      <td>KEGG:01110</td>\n",
       "      <td>Biosynthesis of secondary metabolites</td>\n",
       "      <td>3.335783e-03</td>\n",
       "      <td>True</td>\n",
       "      <td>Biosynthesis of secondary metabolites</td>\n",
       "      <td>350</td>\n",
       "      <td>37</td>\n",
       "      <td>16</td>\n",
       "      <td>2085</td>\n",
       "      <td>0.432432</td>\n",
       "      <td>0.045714</td>\n",
       "      <td>query_1</td>\n",
       "      <td>[KEGG:00000]</td>\n",
       "    </tr>\n",
       "    <tr>\n",
       "      <th>6</th>\n",
       "      <td>GO:BP</td>\n",
       "      <td>GO:0009056</td>\n",
       "      <td>catabolic process</td>\n",
       "      <td>9.010600e-03</td>\n",
       "      <td>True</td>\n",
       "      <td>\"The chemical reactions and pathways resulting...</td>\n",
       "      <td>1006</td>\n",
       "      <td>85</td>\n",
       "      <td>29</td>\n",
       "      <td>6548</td>\n",
       "      <td>0.341176</td>\n",
       "      <td>0.028827</td>\n",
       "      <td>query_1</td>\n",
       "      <td>[GO:0008152]</td>\n",
       "    </tr>\n",
       "    <tr>\n",
       "      <th>7</th>\n",
       "      <td>KEGG</td>\n",
       "      <td>KEGG:00650</td>\n",
       "      <td>Butanoate metabolism</td>\n",
       "      <td>1.104031e-02</td>\n",
       "      <td>True</td>\n",
       "      <td>Butanoate metabolism</td>\n",
       "      <td>9</td>\n",
       "      <td>37</td>\n",
       "      <td>3</td>\n",
       "      <td>2085</td>\n",
       "      <td>0.081081</td>\n",
       "      <td>0.333333</td>\n",
       "      <td>query_1</td>\n",
       "      <td>[KEGG:00000]</td>\n",
       "    </tr>\n",
       "    <tr>\n",
       "      <th>8</th>\n",
       "      <td>GO:MF</td>\n",
       "      <td>GO:0016491</td>\n",
       "      <td>oxidoreductase activity</td>\n",
       "      <td>1.132622e-02</td>\n",
       "      <td>True</td>\n",
       "      <td>\"Catalysis of an oxidation-reduction (redox) r...</td>\n",
       "      <td>352</td>\n",
       "      <td>85</td>\n",
       "      <td>15</td>\n",
       "      <td>6557</td>\n",
       "      <td>0.176471</td>\n",
       "      <td>0.042614</td>\n",
       "      <td>query_1</td>\n",
       "      <td>[GO:0003824]</td>\n",
       "    </tr>\n",
       "    <tr>\n",
       "      <th>9</th>\n",
       "      <td>KEGG</td>\n",
       "      <td>KEGG:01100</td>\n",
       "      <td>Metabolic pathways</td>\n",
       "      <td>2.034870e-02</td>\n",
       "      <td>True</td>\n",
       "      <td>Metabolic pathways</td>\n",
       "      <td>791</td>\n",
       "      <td>37</td>\n",
       "      <td>24</td>\n",
       "      <td>2085</td>\n",
       "      <td>0.648649</td>\n",
       "      <td>0.030341</td>\n",
       "      <td>query_1</td>\n",
       "      <td>[KEGG:00000]</td>\n",
       "    </tr>\n",
       "    <tr>\n",
       "      <th>10</th>\n",
       "      <td>WP</td>\n",
       "      <td>WP:WP556</td>\n",
       "      <td>Glutamate degradation I</td>\n",
       "      <td>2.522724e-02</td>\n",
       "      <td>True</td>\n",
       "      <td>Glutamate degradation I</td>\n",
       "      <td>3</td>\n",
       "      <td>17</td>\n",
       "      <td>2</td>\n",
       "      <td>834</td>\n",
       "      <td>0.117647</td>\n",
       "      <td>0.666667</td>\n",
       "      <td>query_1</td>\n",
       "      <td>[WP:000000]</td>\n",
       "    </tr>\n",
       "    <tr>\n",
       "      <th>11</th>\n",
       "      <td>GO:CC</td>\n",
       "      <td>GO:0005622</td>\n",
       "      <td>intracellular anatomical structure</td>\n",
       "      <td>2.757140e-02</td>\n",
       "      <td>True</td>\n",
       "      <td>\"A component of a cell contained within (but n...</td>\n",
       "      <td>5215</td>\n",
       "      <td>84</td>\n",
       "      <td>79</td>\n",
       "      <td>6569</td>\n",
       "      <td>0.940476</td>\n",
       "      <td>0.015149</td>\n",
       "      <td>query_1</td>\n",
       "      <td>[GO:0110165]</td>\n",
       "    </tr>\n",
       "    <tr>\n",
       "      <th>12</th>\n",
       "      <td>GO:BP</td>\n",
       "      <td>GO:0046395</td>\n",
       "      <td>carboxylic acid catabolic process</td>\n",
       "      <td>3.042449e-02</td>\n",
       "      <td>True</td>\n",
       "      <td>\"The chemical reactions and pathways resulting...</td>\n",
       "      <td>101</td>\n",
       "      <td>85</td>\n",
       "      <td>8</td>\n",
       "      <td>6548</td>\n",
       "      <td>0.094118</td>\n",
       "      <td>0.079208</td>\n",
       "      <td>query_1</td>\n",
       "      <td>[GO:0016054, GO:0019752]</td>\n",
       "    </tr>\n",
       "    <tr>\n",
       "      <th>13</th>\n",
       "      <td>GO:BP</td>\n",
       "      <td>GO:0016054</td>\n",
       "      <td>organic acid catabolic process</td>\n",
       "      <td>3.504926e-02</td>\n",
       "      <td>True</td>\n",
       "      <td>\"The chemical reactions and pathways resulting...</td>\n",
       "      <td>103</td>\n",
       "      <td>85</td>\n",
       "      <td>8</td>\n",
       "      <td>6548</td>\n",
       "      <td>0.094118</td>\n",
       "      <td>0.077670</td>\n",
       "      <td>query_1</td>\n",
       "      <td>[GO:0006082, GO:0044248, GO:0044282, GO:1901575]</td>\n",
       "    </tr>\n",
       "    <tr>\n",
       "      <th>14</th>\n",
       "      <td>GO:CC</td>\n",
       "      <td>GO:0110165</td>\n",
       "      <td>cellular anatomical entity</td>\n",
       "      <td>3.558410e-02</td>\n",
       "      <td>True</td>\n",
       "      <td>\"A part of a cellular organism that is either ...</td>\n",
       "      <td>5768</td>\n",
       "      <td>84</td>\n",
       "      <td>83</td>\n",
       "      <td>6569</td>\n",
       "      <td>0.988095</td>\n",
       "      <td>0.014390</td>\n",
       "      <td>query_1</td>\n",
       "      <td>[GO:0005575]</td>\n",
       "    </tr>\n",
       "    <tr>\n",
       "      <th>15</th>\n",
       "      <td>TF</td>\n",
       "      <td>TF:M01521_1</td>\n",
       "      <td>Factor: Ydr520c; motif: NNNNNYCGGAGATAWNNNNN; ...</td>\n",
       "      <td>3.822725e-02</td>\n",
       "      <td>True</td>\n",
       "      <td>Factor: Ydr520c; motif: NNNNNYCGGAGATAWNNNNN; ...</td>\n",
       "      <td>3139</td>\n",
       "      <td>85</td>\n",
       "      <td>56</td>\n",
       "      <td>6599</td>\n",
       "      <td>0.658824</td>\n",
       "      <td>0.017840</td>\n",
       "      <td>query_1</td>\n",
       "      <td>[TF:M01521]</td>\n",
       "    </tr>\n",
       "    <tr>\n",
       "      <th>16</th>\n",
       "      <td>KEGG</td>\n",
       "      <td>KEGG:00630</td>\n",
       "      <td>Glyoxylate and dicarboxylate metabolism</td>\n",
       "      <td>3.991125e-02</td>\n",
       "      <td>True</td>\n",
       "      <td>Glyoxylate and dicarboxylate metabolism</td>\n",
       "      <td>29</td>\n",
       "      <td>37</td>\n",
       "      <td>4</td>\n",
       "      <td>2085</td>\n",
       "      <td>0.108108</td>\n",
       "      <td>0.137931</td>\n",
       "      <td>query_1</td>\n",
       "      <td>[KEGG:00000]</td>\n",
       "    </tr>\n",
       "    <tr>\n",
       "      <th>17</th>\n",
       "      <td>GO:CC</td>\n",
       "      <td>GO:0031225</td>\n",
       "      <td>anchored component of membrane</td>\n",
       "      <td>4.123112e-02</td>\n",
       "      <td>True</td>\n",
       "      <td>\"The component of a membrane consisting of the...</td>\n",
       "      <td>70</td>\n",
       "      <td>84</td>\n",
       "      <td>6</td>\n",
       "      <td>6569</td>\n",
       "      <td>0.071429</td>\n",
       "      <td>0.085714</td>\n",
       "      <td>query_1</td>\n",
       "      <td>[GO:0031224]</td>\n",
       "    </tr>\n",
       "  </tbody>\n",
       "</table>\n",
       "</div>"
      ],
      "text/plain": [
       "   source       native                                               name  \\\n",
       "0   GO:CC   GO:0005576                               extracellular region   \n",
       "1   GO:MF   GO:0003824                                 catalytic activity   \n",
       "2   GO:BP   GO:1901575                organic substance catabolic process   \n",
       "3   GO:CC   GO:0005737                                          cytoplasm   \n",
       "4    KEGG   KEGG:01200                                  Carbon metabolism   \n",
       "5    KEGG   KEGG:01110              Biosynthesis of secondary metabolites   \n",
       "6   GO:BP   GO:0009056                                  catabolic process   \n",
       "7    KEGG   KEGG:00650                               Butanoate metabolism   \n",
       "8   GO:MF   GO:0016491                            oxidoreductase activity   \n",
       "9    KEGG   KEGG:01100                                 Metabolic pathways   \n",
       "10     WP     WP:WP556                            Glutamate degradation I   \n",
       "11  GO:CC   GO:0005622                 intracellular anatomical structure   \n",
       "12  GO:BP   GO:0046395                  carboxylic acid catabolic process   \n",
       "13  GO:BP   GO:0016054                     organic acid catabolic process   \n",
       "14  GO:CC   GO:0110165                         cellular anatomical entity   \n",
       "15     TF  TF:M01521_1  Factor: Ydr520c; motif: NNNNNYCGGAGATAWNNNNN; ...   \n",
       "16   KEGG   KEGG:00630            Glyoxylate and dicarboxylate metabolism   \n",
       "17  GO:CC   GO:0031225                     anchored component of membrane   \n",
       "\n",
       "         p_value  significant  \\\n",
       "0   9.197961e-07         True   \n",
       "1   2.847555e-05         True   \n",
       "2   8.375466e-04         True   \n",
       "3   1.658261e-03         True   \n",
       "4   2.594523e-03         True   \n",
       "5   3.335783e-03         True   \n",
       "6   9.010600e-03         True   \n",
       "7   1.104031e-02         True   \n",
       "8   1.132622e-02         True   \n",
       "9   2.034870e-02         True   \n",
       "10  2.522724e-02         True   \n",
       "11  2.757140e-02         True   \n",
       "12  3.042449e-02         True   \n",
       "13  3.504926e-02         True   \n",
       "14  3.558410e-02         True   \n",
       "15  3.822725e-02         True   \n",
       "16  3.991125e-02         True   \n",
       "17  4.123112e-02         True   \n",
       "\n",
       "                                          description  term_size  query_size  \\\n",
       "0   \"The space external to the outermost structure...        127          84   \n",
       "1   \"Catalysis of a biochemical reaction at physio...       2317          85   \n",
       "2   \"The chemical reactions and pathways resulting...        792          85   \n",
       "3   \"The contents of a cell excluding the plasma m...       4431          84   \n",
       "4                                   Carbon metabolism        112          37   \n",
       "5               Biosynthesis of secondary metabolites        350          37   \n",
       "6   \"The chemical reactions and pathways resulting...       1006          85   \n",
       "7                                Butanoate metabolism          9          37   \n",
       "8   \"Catalysis of an oxidation-reduction (redox) r...        352          85   \n",
       "9                                  Metabolic pathways        791          37   \n",
       "10                            Glutamate degradation I          3          17   \n",
       "11  \"A component of a cell contained within (but n...       5215          84   \n",
       "12  \"The chemical reactions and pathways resulting...        101          85   \n",
       "13  \"The chemical reactions and pathways resulting...        103          85   \n",
       "14  \"A part of a cellular organism that is either ...       5768          84   \n",
       "15  Factor: Ydr520c; motif: NNNNNYCGGAGATAWNNNNN; ...       3139          85   \n",
       "16            Glyoxylate and dicarboxylate metabolism         29          37   \n",
       "17  \"The component of a membrane consisting of the...         70          84   \n",
       "\n",
       "    intersection_size  effective_domain_size  precision    recall    query  \\\n",
       "0                  13                   6569   0.154762  0.102362  query_1   \n",
       "1                  54                   6557   0.635294  0.023306  query_1   \n",
       "2                  27                   6548   0.317647  0.034091  query_1   \n",
       "3                  74                   6569   0.880952  0.016701  query_1   \n",
       "4                   9                   2085   0.243243  0.080357  query_1   \n",
       "5                  16                   2085   0.432432  0.045714  query_1   \n",
       "6                  29                   6548   0.341176  0.028827  query_1   \n",
       "7                   3                   2085   0.081081  0.333333  query_1   \n",
       "8                  15                   6557   0.176471  0.042614  query_1   \n",
       "9                  24                   2085   0.648649  0.030341  query_1   \n",
       "10                  2                    834   0.117647  0.666667  query_1   \n",
       "11                 79                   6569   0.940476  0.015149  query_1   \n",
       "12                  8                   6548   0.094118  0.079208  query_1   \n",
       "13                  8                   6548   0.094118  0.077670  query_1   \n",
       "14                 83                   6569   0.988095  0.014390  query_1   \n",
       "15                 56                   6599   0.658824  0.017840  query_1   \n",
       "16                  4                   2085   0.108108  0.137931  query_1   \n",
       "17                  6                   6569   0.071429  0.085714  query_1   \n",
       "\n",
       "                                             parents  \n",
       "0                                       [GO:0110165]  \n",
       "1                                       [GO:0003674]  \n",
       "2                           [GO:0009056, GO:0071704]  \n",
       "3                           [GO:0005622, GO:0110165]  \n",
       "4                                       [KEGG:00000]  \n",
       "5                                       [KEGG:00000]  \n",
       "6                                       [GO:0008152]  \n",
       "7                                       [KEGG:00000]  \n",
       "8                                       [GO:0003824]  \n",
       "9                                       [KEGG:00000]  \n",
       "10                                       [WP:000000]  \n",
       "11                                      [GO:0110165]  \n",
       "12                          [GO:0016054, GO:0019752]  \n",
       "13  [GO:0006082, GO:0044248, GO:0044282, GO:1901575]  \n",
       "14                                      [GO:0005575]  \n",
       "15                                       [TF:M01521]  \n",
       "16                                      [KEGG:00000]  \n",
       "17                                      [GO:0031224]  "
      ]
     },
     "execution_count": 16,
     "metadata": {},
     "output_type": "execute_result"
    }
   ],
   "source": [
    "gp = GProfiler(user_agent='py4cytoscape', return_dataframe=True)\n",
    "gp.profile(organism='scerevisiae', query=entrez_gene_query)"
   ]
  }
 ],
 "metadata": {
  "kernelspec": {
   "display_name": "Python 3 (ipykernel)",
   "language": "python",
   "name": "python3"
  },
  "language_info": {
   "codemirror_mode": {
    "name": "ipython",
    "version": 3
   },
   "file_extension": ".py",
   "mimetype": "text/x-python",
   "name": "python",
   "nbconvert_exporter": "python",
   "pygments_lexer": "ipython3",
   "version": "3.10.4"
  }
 },
 "nbformat": 4,
 "nbformat_minor": 1
}