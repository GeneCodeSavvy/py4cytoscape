{
 "cells": [
  {
   "cell_type": "markdown",
   "source": [
    "This is a work-in-progress reproduction of the [Biological Network Exploration with Cytoscape 3](https://pubmed.ncbi.nlm.nih.gov/25199793/) Basic Protocol 1, which loads an s. cervesiae network, filters out unneeded nodes, lays out the resulting network, and then creates a dendogram display.\n",
    "\n",
    "While much of it works, there are compromises, mainly due to Cytoscape features that aren't at full strength yet."
   ],
   "metadata": {
    "collapsed": false,
    "pycharm": {
     "name": "#%% md\n"
    }
   }
  },
  {
   "cell_type": "markdown",
   "source": [
    "# Setup data files, py4cytoscape and Cytoscape connection\n",
    "---\n",
    "**NOTE: To run this notebook, you must manually start Cytoscape first -- don't proceed until you have started Cytoscape.**"
   ],
   "metadata": {
    "collapsed": false,
    "pycharm": {
     "name": "#%% md\n"
    }
   }
  },
  {
   "cell_type": "markdown",
   "source": [
    "---\n",
    "## Setup: Fetch latest py4cytoscape\n",
    "\n",
    "\n"
   ],
   "metadata": {
    "collapsed": false,
    "pycharm": {
     "name": "#%% md\n"
    }
   }
  },
  {
   "cell_type": "code",
   "execution_count": null,
   "outputs": [],
   "source": [
    "import py4cytoscape as p4c"
   ],
   "metadata": {
    "collapsed": false,
    "pycharm": {
     "name": "#%%\n"
    }
   }
  },
  {
   "cell_type": "markdown",
   "source": [
    "---\n",
    "## Setup: Sanity test to verify Cytoscape connection\n"
   ],
   "metadata": {
    "collapsed": false,
    "pycharm": {
     "name": "#%% md\n"
    }
   }
  },
  {
   "cell_type": "markdown",
   "source": [
    "By now, the connection to Cytoscape should be up and available. To verify this, try a simple operation that doesn't alter the state of Cytoscape."
   ],
   "metadata": {
    "collapsed": false,
    "pycharm": {
     "name": "#%% md\n"
    }
   }
  },
  {
   "cell_type": "code",
   "execution_count": null,
   "outputs": [],
   "source": [
    "p4c.cytoscape_version_info()\n"
   ],
   "metadata": {
    "collapsed": false,
    "pycharm": {
     "name": "#%%\n"
    }
   }
  },
  {
   "cell_type": "markdown",
   "source": [
    "---\n",
    "## Setup: Notebook data files\n",
    "\n",
    "Create the 'output' directory, which will be used to store files uploaded from Cytoscape.\n",
    "\n",
    "This is a good place to prepare any other system resources that might be needed by downstream Notebook cells.\n",
    "\n",
    "Pro Tip: The \"!\" commands in this cell are passed to the host operating system. In this example, they're correct for a Windows host. Different commands would be appropriate for a Linux or Mac host.\n"
   ],
   "metadata": {
    "collapsed": false,
    "pycharm": {
     "name": "#%% md\n"
    }
   }
  },
  {
   "cell_type": "code",
   "execution_count": null,
   "outputs": [],
   "source": [
    "!del /s/q/f output\n",
    "!rmdir output\n",
    "!mkdir output\n",
    "!dir output\n",
    "OUTPUT_DIR = 'output/'"
   ],
   "metadata": {
    "collapsed": false,
    "pycharm": {
     "name": "#%%\n"
    }
   }
  },
  {
   "cell_type": "markdown",
   "source": [
    "---\n",
    "## Setup: Import source data files\n",
    "\n",
    "The network and annotation files are in a Dropbox folder, and this cell downloads them into the current Cytoscape directory, which also holds this Jupyter Notebook.\n",
    "\n",
    "The files could just as well have been on any cloud resource, including Google Drive, Github, Microsoft OneDrive or a private web site. Note that in this case, the network file was so large that it could not be saved on GitHub, so Dropbox was a handy alternative.\n",
    "\n",
    "*An alternative would be to loading them into the Cytoscape workstation file system using the Notebook \"!\" commands (e.g., !wget). That's out of the scope of this tutorial, though there's an example in the Merging cell below.*"
   ],
   "metadata": {
    "collapsed": false,
    "pycharm": {
     "name": "#%% md\n"
    }
   }
  },
  {
   "cell_type": "markdown",
   "source": [
    "---\n",
    "Note that this cell uses the import_file_from_url() function to load resources from cloud storage.\n",
    "This function is appropriate for Notebooks running on the same workstation as Cytoscape, but\n",
    "not for Notebooks running on a remote server. On a remote server, the Notebook's file system is not the same as the Cytoscape workstation's file system, and Sandbox functions (https://py4cytoscape.readthedocs.io/en/latest/concepts.html#sandboxing) should be used instead."
   ],
   "metadata": {
    "collapsed": false,
    "pycharm": {
     "name": "#%% md\n"
    }
   }
  },
  {
   "cell_type": "code",
   "execution_count": null,
   "outputs": [],
   "source": [
    "res_mitab = p4c.import_file_from_url(\"https://www.dropbox.com/s/8wc8o897tsxewt1/BIOGRID-ORGANISM-Saccharomyces_cerevisiae-3.2.105.mitab?dl=0\", \"BIOGRID-ORGANISM-Saccharomyces_cerevisiae-3.2.105.mitab\")\n",
    "print(f'Network file BIOGRID-ORGANISM-Saccharomyces_cerevisiae-3.2.105.mitab has {res_mitab[\"fileByteCount\"]} bytes')"
   ],
   "metadata": {
    "collapsed": false,
    "pycharm": {
     "name": "#%%\n"
    }
   }
  },
  {
   "cell_type": "markdown",
   "source": [
    "# Load the s. cerevisiae MITAB network into Cytoscape"
   ],
   "metadata": {
    "collapsed": false,
    "pycharm": {
     "name": "#%% md\n"
    }
   }
  },
  {
   "cell_type": "markdown",
   "source": [
    "Note that the import_network_from_file function (incorrectly) throws an exception, so we explicitly ignore the exception."
   ],
   "metadata": {
    "collapsed": false,
    "pycharm": {
     "name": "#%% md\n"
    }
   }
  },
  {
   "cell_type": "markdown",
   "source": [
    "**Note**: Once CYTOSCAPE-12772 is fixed, we can remove the try-block in this cell."
   ],
   "metadata": {
    "collapsed": false,
    "pycharm": {
     "name": "#%% md\n"
    }
   }
  },
  {
   "cell_type": "code",
   "execution_count": null,
   "outputs": [],
   "source": [
    "from requests import HTTPError\n",
    "p4c.close_session(False)\n",
    "\n",
    "try:\n",
    "  p4c.import_network_from_file('BIOGRID-ORGANISM-Saccharomyces_cerevisiae-3.2.105.mitab')\n",
    "except:  \n",
    "  pass\n",
    "if p4c.get_network_count() != 1:\n",
    "  raise Exception('Failed to load network')\n",
    "net_suid = p4c.get_network_suid()\n",
    "print(f'Network identifier: {net_suid}')\n",
    "\n"
   ],
   "metadata": {
    "collapsed": false,
    "pycharm": {
     "name": "#%%\n"
    }
   }
  },
  {
   "cell_type": "markdown",
   "source": [
    "# Merge the gene expression data into the node table"
   ],
   "metadata": {
    "collapsed": false,
    "pycharm": {
     "name": "#%% md\n"
    }
   }
  },
  {
   "cell_type": "markdown",
   "source": [
    "For Cytoscape 3.9.0 and later, call Cytoscape to merge the gene expression data into the node attribute table. \n",
    "\n",
    "For pre-Cytoscape 3.9.0, do most of the work in Pandas and then import the dataframe into the node attribute table. Explicitly set the Gene ID as a string even though it's originally parsed as a number. To Cytoscape, the string will be comparable to the 'name' column already in the BIOGRID network. The Gene ID column in the dataframe is matched to the network's name column.\n",
    "\n",
    "Pro Tip: The wget and mv commands work on a Jupyter system on a Linux host. You may have to choose different commands for a Windows host."
   ],
   "metadata": {
    "collapsed": false,
    "pycharm": {
     "name": "#%% md\n"
    }
   }
  },
  {
   "cell_type": "code",
   "execution_count": null,
   "outputs": [],
   "source": [
    "if p4c.check_supported_versions(cytoscape='3.9') is None:\n",
    "  # Load file directly into Sandbox so Cytoscape can import it\n",
    "  res_soft = p4c.import_file_from_url(\"https://www.dropbox.com/s/r15azh0xb53smu1/GDS112_full.soft?dl=0\", \"GDS112_full.soft\")\n",
    "  print(f'Annotation file GDS112_full.soft has {res_soft[\"fileByteCount\"]} bytes')\n",
    "\n",
    "  res = p4c.load_table_data_from_file('GDS112_full.soft', start_load_row=83, data_key_column_index=10, delimiters='\\t')\n",
    "  print(f'Load result contains table identifiers: {res[\"mappedTables\"]}')\n",
    "else:\n",
    "  # Load file into Notebook file system so Python can import it, tweak it, and download to Cytoscape\n",
    "  !wget -q --no-check-certificate https://www.dropbox.com/s/r15azh0xb53smu1/GDS112_full.soft?dl=0\n",
    "  !mv GDS112_full.soft?dl=0 GDS112_full.soft\n",
    "\n",
    "  import pandas as df\n",
    "  GDS112_full = df.read_csv('GDS112_full.soft', skiprows=82, sep='\\t')\n",
    "  GDS112_full.dropna(subset=['Gene ID'], inplace=True)\n",
    "  GDS112_full['Gene ID'] = df.to_numeric(GDS112_full['Gene ID'], downcast='integer')\n",
    "  GDS112_full = GDS112_full.astype({'Gene ID': 'string'})\n",
    "  print(GDS112_full.dtypes)\n",
    "  print(GDS112_full)\n",
    "  p4c.load_table_data(GDS112_full, data_key_column='Gene ID')\n",
    "\n",
    "  import os\n",
    "  os.remove('GDS112_full.soft')\n"
   ],
   "metadata": {
    "collapsed": false,
    "pycharm": {
     "name": "#%%\n"
    }
   }
  },
  {
   "cell_type": "markdown",
   "source": [
    "# Create a filter to remove nodes having no Gene Symbol"
   ],
   "metadata": {
    "collapsed": false,
    "pycharm": {
     "name": "#%% md\n"
    }
   }
  },
  {
   "cell_type": "code",
   "execution_count": null,
   "outputs": [],
   "source": [
    "res = p4c.create_column_filter('SymbolOK', 'Gene symbol', '[A-Z0-9]*', 'REGEX')\n",
    "print(f'Nodes selected: {len(res[\"nodes\"])}')"
   ],
   "metadata": {
    "collapsed": false,
    "pycharm": {
     "name": "#%%\n"
    }
   }
  },
  {
   "cell_type": "markdown",
   "source": [
    "# Create a subnetwork containing only named nodes"
   ],
   "metadata": {
    "collapsed": false,
    "pycharm": {
     "name": "#%% md\n"
    }
   }
  },
  {
   "cell_type": "markdown",
   "source": [
    "This could take several minutes.\n",
    "\n",
    "At the end, you should see a view containing all nodes laid out. "
   ],
   "metadata": {
    "collapsed": false,
    "pycharm": {
     "name": "#%% md\n"
    }
   }
  },
  {
   "cell_type": "markdown",
   "source": [
    "If you see only a single rectangle, it could be that your Cytoscape is set to operate with a small stack size. To increase the stack:\n",
    "\n",
    "1. terminate Cytoscape\n",
    "\n",
    "2. a) upgrade Cytoscape to 3.9.0 or later \n",
    "\n",
    "  ... or b) use a text editor to add -Xss5M to the cytoscape.vmoptions file in your Cytoscape program directory\n",
    "\n",
    "3. restart Cytoscape\n",
    "\n",
    "4. re-run this workflow"
   ],
   "metadata": {
    "collapsed": false,
    "pycharm": {
     "name": "#%% md\n"
    }
   }
  },
  {
   "cell_type": "code",
   "execution_count": null,
   "outputs": [],
   "source": [
    "new_suid = p4c.create_subnetwork()\n",
    "print(f'New network identifier: {new_suid}')"
   ],
   "metadata": {
    "collapsed": false,
    "pycharm": {
     "name": "#%%\n"
    }
   }
  },
  {
   "cell_type": "markdown",
   "source": [
    "# Get rid of the original network, which isn't needed anymore"
   ],
   "metadata": {
    "collapsed": false,
    "pycharm": {
     "name": "#%% md\n"
    }
   }
  },
  {
   "cell_type": "code",
   "execution_count": null,
   "outputs": [],
   "source": [
    "p4c.delete_network(net_suid)\n",
    "net_suid = new_suid"
   ],
   "metadata": {
    "collapsed": false,
    "pycharm": {
     "name": "#%%\n"
    }
   }
  },
  {
   "cell_type": "markdown",
   "source": [
    "# Install clusterMaker2 if it hasn't already been installed"
   ],
   "metadata": {
    "collapsed": false,
    "pycharm": {
     "name": "#%% md\n"
    }
   }
  },
  {
   "cell_type": "code",
   "execution_count": null,
   "outputs": [],
   "source": [
    "p4c.install_app('clusterMaker2')"
   ],
   "metadata": {
    "collapsed": false,
    "pycharm": {
     "name": "#%%\n"
    }
   }
  },
  {
   "cell_type": "markdown",
   "source": [
    "# Create the hierarchical clustering and dendogram"
   ],
   "metadata": {
    "collapsed": false,
    "pycharm": {
     "name": "#%% md\n"
    }
   }
  },
  {
   "cell_type": "markdown",
   "source": [
    "This returns a large data structure that describes the dendogram.\n",
    "\n",
    "It also creates a dendogram window that's designed for GUI manipulation. It's unclear this can be controlled or used by automation calls."
   ],
   "metadata": {
    "collapsed": false,
    "pycharm": {
     "name": "#%% md\n"
    }
   }
  },
  {
   "cell_type": "markdown",
   "source": [
    "**Note:** Having the dendogram is important, and so is having the data that created it. When CSD-420 is addressed, it will be possible to snapshot the dendogram and perform other operations with it."
   ],
   "metadata": {
    "collapsed": false,
    "pycharm": {
     "name": "#%% md\n"
    }
   }
  },
  {
   "cell_type": "code",
   "execution_count": null,
   "outputs": [],
   "source": [
    "res = p4c.commands_post('cluster hierarchical showUI=true clusterAttributes=false nodeAttributeList=\"GSM1029,GSM1030,GSM1032,GSM1033,GSM1034\"')\n",
    "print(f'Dendogram tree: {res}')"
   ],
   "metadata": {
    "collapsed": false,
    "pycharm": {
     "name": "#%%\n"
    }
   }
  },
  {
   "cell_type": "markdown",
   "source": [
    "# Use BiNGO for enrichment analysis"
   ],
   "metadata": {
    "collapsed": false,
    "pycharm": {
     "name": "#%% md\n"
    }
   }
  },
  {
   "cell_type": "markdown",
   "source": [
    "The BiNGO app doesn't have automation entrypoints, so this analysis isn't possible right now. Is there a different app that can do this?"
   ],
   "metadata": {
    "collapsed": false,
    "pycharm": {
     "name": "#%% md\n"
    }
   }
  },
  {
   "cell_type": "markdown",
   "source": [
    "**NOTE:** We need CSD-421 fixed because we don't have any analysis right now, which is very important."
   ],
   "metadata": {
    "collapsed": false,
    "pycharm": {
     "name": "#%% md\n"
    }
   }
  },
  {
   "cell_type": "code",
   "execution_count": null,
   "outputs": [],
   "source": [
    "p4c.node_name_to_node_suid('851303')"
   ],
   "metadata": {
    "collapsed": false,
    "pycharm": {
     "name": "#%%\n"
    }
   }
  },
  {
   "cell_type": "code",
   "execution_count": null,
   "outputs": [],
   "source": [
    "print(res[0]['nodeOrder'])\n",
    "print(res[0]['nodeTree'])\n",
    "node_suid = p4c.node_name_to_node_suid('851303')[0] # Get SUID for HBT1\n"
   ],
   "metadata": {
    "collapsed": false,
    "pycharm": {
     "name": "#%%\n"
    }
   }
  },
  {
   "cell_type": "code",
   "execution_count": null,
   "outputs": [],
   "source": [
    "import parse_dendogram as pde\n",
    "node_order = res[0]['nodeOrder']\n",
    "node_tree = res[0]['nodeTree']\n",
    "node_bag = pde.create_node_bag(node_order, node_tree)\n",
    "select_nodes = pde.find_node_set(node_suid, 85, node_order, node_bag)\n",
    "select_nodes = list(select_nodes)\n",
    "print(select_nodes)\n",
    "p4c.select_nodes(select_nodes, preserve_current_selection=False)"
   ],
   "metadata": {
    "collapsed": false,
    "pycharm": {
     "name": "#%%\n"
    }
   }
  }
 ],
 "metadata": {
  "kernelspec": {
   "display_name": "Python 3 (ipykernel)",
   "language": "python",
   "name": "python3"
  },
  "language_info": {
   "codemirror_mode": {
    "name": "ipython",
    "version": 3
   },
   "file_extension": ".py",
   "mimetype": "text/x-python",
   "name": "python",
   "nbconvert_exporter": "python",
   "pygments_lexer": "ipython3",
   "version": "3.10.4"
  }
 },
 "nbformat": 4,
 "nbformat_minor": 1
}