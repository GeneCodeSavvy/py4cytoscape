{
 "cells": [
  {
   "cell_type": "markdown",
   "source": [
    "This is a reproduction of the [Biological Network Exploration with Cytoscape 3](https://pubmed.ncbi.nlm.nih.gov/25199793/) Basic Protocol 1, which loads an s. cervesiae network, filters out unneeded nodes, lays out the resulting network, creates clusters of similar nodes and then performs an enrichment calculation on one cluster.\n"
   ],
   "metadata": {
    "collapsed": false,
    "pycharm": {
     "name": "#%% md\n"
    }
   }
  },
  {
   "cell_type": "markdown",
   "source": [
    "# Setup data files, py4cytoscape and Cytoscape connection\n",
    "---\n",
    "**NOTE: To run this notebook, you must manually start Cytoscape first -- don't proceed until you have started Cytoscape.**"
   ],
   "metadata": {
    "collapsed": false,
    "pycharm": {
     "name": "#%% md\n"
    }
   }
  },
  {
   "cell_type": "markdown",
   "source": [
    "## Setup: Fetch latest py4cytoscape\n",
    "\n",
    "\n"
   ],
   "metadata": {
    "collapsed": false,
    "pycharm": {
     "name": "#%% md\n"
    }
   }
  },
  {
   "cell_type": "code",
   "execution_count": null,
   "outputs": [],
   "source": [
    "!pip install py4cytoscape\n",
    "import py4cytoscape as p4c"
   ],
   "metadata": {
    "collapsed": false,
    "pycharm": {
     "name": "#%%\n"
    }
   }
  },
  {
   "cell_type": "markdown",
   "source": [
    "## Setup: Sanity test to verify Cytoscape connection\n"
   ],
   "metadata": {
    "collapsed": false,
    "pycharm": {
     "name": "#%% md\n"
    }
   }
  },
  {
   "cell_type": "markdown",
   "source": [
    "By now, the connection to Cytoscape should be up and available. To verify this, try a simple operation that doesn't alter the state of Cytoscape."
   ],
   "metadata": {
    "collapsed": false,
    "pycharm": {
     "name": "#%% md\n"
    }
   }
  },
  {
   "cell_type": "code",
   "execution_count": null,
   "outputs": [],
   "source": [
    "p4c.cytoscape_version_info()\n"
   ],
   "metadata": {
    "collapsed": false,
    "pycharm": {
     "name": "#%%\n"
    }
   }
  },
  {
   "cell_type": "markdown",
   "source": [
    "## Setup: Notebook data files\n",
    "\n",
    "Create the 'output' directory, which could be used to store files created by or needed by Cytoscape.\n",
    "\n",
    "In this example, there are no such files.\n",
    "\n",
    "Pro Tip: The \"!\" commands in this cell are passed to the host operating system. In this example, they're correct for a Windows host. Different commands would be appropriate for a Linux or Mac host.\n"
   ],
   "metadata": {
    "collapsed": false,
    "pycharm": {
     "name": "#%% md\n"
    }
   }
  },
  {
   "cell_type": "code",
   "execution_count": null,
   "outputs": [],
   "source": [
    "!del /s/q/f output\n",
    "!rmdir output\n",
    "!mkdir output\n",
    "!dir output\n",
    "OUTPUT_DIR = 'output/'"
   ],
   "metadata": {
    "collapsed": false,
    "pycharm": {
     "name": "#%%\n"
    }
   }
  },
  {
   "cell_type": "markdown",
   "source": [
    "---\n",
    "## Setup: Import source data files\n",
    "\n",
    "The network and annotation files are in a Dropbox folder, and this cell downloads them into the current Cytoscape directory, which also holds this Jupyter Notebook.\n",
    "\n",
    "The files could just as well have been on any cloud resource, including Google Drive, Github, Microsoft OneDrive or a private web site. Note that in this case, the network file was so large that it could not be saved on GitHub, so Dropbox was a handy alternative.\n",
    "\n",
    "*An alternative would be to loading them into the Cytoscape workstation file system using the Notebook \"!\" commands (e.g., !wget). That's out of the scope of this tutorial, though there's an example in the Merging cell below.*"
   ],
   "metadata": {
    "collapsed": false,
    "pycharm": {
     "name": "#%% md\n"
    }
   }
  },
  {
   "cell_type": "markdown",
   "source": [
    "---\n",
    "Note that this cell uses the import_file_from_url() function to load resources from cloud storage.\n",
    "This function is appropriate for Notebooks running on the same workstation as Cytoscape, but\n",
    "not for Notebooks running on a remote server. On a remote server, the Notebook's file system is not the same as the Cytoscape workstation's file system, so Sandbox functions (https://py4cytoscape.readthedocs.io/en/latest/concepts.html#sandboxing) should be used instead."
   ],
   "metadata": {
    "collapsed": false,
    "pycharm": {
     "name": "#%% md\n"
    }
   }
  },
  {
   "cell_type": "code",
   "execution_count": null,
   "outputs": [],
   "source": [
    "res_mitab = p4c.import_file_from_url(\"https://www.dropbox.com/s/8wc8o897tsxewt1/BIOGRID-ORGANISM-Saccharomyces_cerevisiae-3.2.105.mitab?dl=0\", \"BIOGRID-ORGANISM-Saccharomyces_cerevisiae-3.2.105.mitab\")\n",
    "print(f'Network file BIOGRID-ORGANISM-Saccharomyces_cerevisiae-3.2.105.mitab has {res_mitab[\"fileByteCount\"]} bytes')"
   ],
   "metadata": {
    "collapsed": false,
    "pycharm": {
     "name": "#%%\n"
    }
   }
  },
  {
   "cell_type": "markdown",
   "source": [
    "---\n",
    "# Load the Protein-protein Interaction Network into Cytoscape\n",
    "\n",
    "The network is contained in the s. cerevisiae MITAB file."
   ],
   "metadata": {
    "collapsed": false,
    "pycharm": {
     "name": "#%% md\n"
    }
   }
  },
  {
   "cell_type": "markdown",
   "source": [
    "Note that in this cell, the import_network_from_file function (incorrectly) throws an exception. To ignore the exception, we enclose it in a try/except block. \n",
    "\n",
    "**Note:** Once the CYTOSCAPE-12772 issue is solved, we can remove the try/except block."
   ],
   "metadata": {
    "collapsed": false,
    "pycharm": {
     "name": "#%% md\n"
    }
   }
  },
  {
   "cell_type": "code",
   "execution_count": null,
   "outputs": [],
   "source": [
    "from requests import HTTPError\n",
    "p4c.close_session(False)\n",
    "\n",
    "try:\n",
    "  p4c.import_network_from_file('BIOGRID-ORGANISM-Saccharomyces_cerevisiae-3.2.105.mitab')\n",
    "except:  \n",
    "  pass\n",
    "if p4c.get_network_count() != 1:\n",
    "  raise Exception('Failed to load network')\n",
    "net_suid = p4c.get_network_suid()\n",
    "print(f'Network identifier: {net_suid}')\n",
    "\n"
   ],
   "metadata": {
    "collapsed": false,
    "pycharm": {
     "name": "#%%\n"
    }
   }
  },
  {
   "cell_type": "markdown",
   "source": [
    "---\n",
    "# Import the gene expression data\n",
    "\n",
    "The expression data is downloaded and merged into the network's node attribute table."
   ],
   "metadata": {
    "collapsed": false,
    "pycharm": {
     "name": "#%% md\n"
    }
   }
  },
  {
   "cell_type": "markdown",
   "source": [
    "---\n",
    "*Tip:* This cell shows how to create code that works around changes in Cytoscape capabilities. \n",
    "\n",
    "In this case, starting with Cytoscape 3.9.0, the load_table_data_from_file() function works as expected, so the gene expression data is merged into the node attribute table. \n",
    "\n",
    "Prior to 3.9.0, load_table_data_from_file() didn't work. As a workaround, we do most of the work in Pandas and then import the dataframe into the node attribute table. After Pandas reads the CSV, we will try to match dataframe Gene ID column to the *name* column in the Cytoscape node attribute table. To do this, we must explicitly set the Gene ID as a string (even though it's originally parsed as a number) because Cytoscape's *name* column is already a string. \n",
    "\n",
    "*Pro Tip:* The wget and mv commands work on a Jupyter system on a Linux host. You may have to choose different commands for a Windows host. A Windows wget command can be found [here](https://eternallybored.org/misc/wget/)."
   ],
   "metadata": {
    "collapsed": false,
    "pycharm": {
     "name": "#%% md\n"
    }
   }
  },
  {
   "cell_type": "code",
   "execution_count": null,
   "outputs": [],
   "source": [
    "if p4c.check_supported_versions(cytoscape='3.9') is None:\n",
    "  # Load file directly into Sandbox so Cytoscape can import it\n",
    "  res_soft = p4c.import_file_from_url(\"https://www.dropbox.com/s/r15azh0xb53smu1/GDS112_full.soft?dl=0\", \"GDS112_full.soft\")\n",
    "  print(f'Annotation file GDS112_full.soft has {res_soft[\"fileByteCount\"]} bytes')\n",
    "\n",
    "  res = p4c.load_table_data_from_file('GDS112_full.soft', start_load_row=83, data_key_column_index=10, delimiters='\\t')\n",
    "  print(f'Load result contains table identifiers: {res[\"mappedTables\"]}')\n",
    "else:\n",
    "  # Load file into Notebook file system so Python can import it, tweak it, and download to Cytoscape\n",
    "  !wget -q --no-check-certificate https://www.dropbox.com/s/r15azh0xb53smu1/GDS112_full.soft?dl=0\n",
    "  !mv GDS112_full.soft?dl=0 GDS112_full.soft\n",
    "\n",
    "  import pandas as df\n",
    "  GDS112_full = df.read_csv('GDS112_full.soft', skiprows=82, sep='\\t')\n",
    "  GDS112_full.dropna(subset=['Gene ID'], inplace=True)\n",
    "  GDS112_full['Gene ID'] = df.to_numeric(GDS112_full['Gene ID'], downcast='integer')\n",
    "  GDS112_full = GDS112_full.astype({'Gene ID': 'string'})\n",
    "  print(GDS112_full.dtypes)\n",
    "  print(GDS112_full)\n",
    "  p4c.load_table_data(GDS112_full, data_key_column='Gene ID')\n",
    "\n",
    "  import os\n",
    "  os.remove('GDS112_full.soft')\n"
   ],
   "metadata": {
    "collapsed": false,
    "pycharm": {
     "name": "#%%\n"
    }
   }
  },
  {
   "cell_type": "markdown",
   "source": [
    "---\n",
    "# Filter the Network with the Genes that have Expression Data\n",
    "\n",
    "For this, we assume that if a node has no *Gene symbol*, it also has no expression data. \n",
    "\n",
    "The filter compares each node's *Gene symbol* attribute to a regular expression. If there is a match, the gene is selected; for no match, the gene isn't selected."
   ],
   "metadata": {
    "collapsed": false,
    "pycharm": {
     "name": "#%% md\n"
    }
   }
  },
  {
   "cell_type": "code",
   "execution_count": null,
   "outputs": [],
   "source": [
    "res = p4c.create_column_filter('SymbolOK', 'Gene symbol', '[A-Z0-9]*', 'REGEX')\n",
    "print(f'Nodes selected: {len(res[\"nodes\"])}')"
   ],
   "metadata": {
    "collapsed": false,
    "pycharm": {
     "name": "#%%\n"
    }
   }
  },
  {
   "cell_type": "markdown",
   "source": [
    "---\n",
    "# Create a New Network with the Selected Subset\n",
    "\n",
    "Create a subnetwork containing only nodes selected by the filter (i.e., having a *Gene symbol* value, which implies that expression data is present for that node)."
   ],
   "metadata": {
    "collapsed": false,
    "pycharm": {
     "name": "#%% md\n"
    }
   }
  },
  {
   "cell_type": "markdown",
   "source": [
    "This could take several minutes.\n",
    "\n",
    "At the end, you should see a view containing all nodes laid out. "
   ],
   "metadata": {
    "collapsed": false,
    "pycharm": {
     "name": "#%% md\n"
    }
   }
  },
  {
   "cell_type": "markdown",
   "source": [
    "If you see only a single rectangle, it could be that your Cytoscape is set to operate with a small stack size. To increase the stack:\n",
    "\n",
    "1. terminate Cytoscape\n",
    "\n",
    "2. a) upgrade Cytoscape to 3.9.0 or later \n",
    "\n",
    "  ... or b) use a text editor to add -Xss5M to the cytoscape.vmoptions file in your Cytoscape program directory\n",
    "\n",
    "3. restart Cytoscape\n",
    "\n",
    "4. re-run this workflow"
   ],
   "metadata": {
    "collapsed": false,
    "pycharm": {
     "name": "#%% md\n"
    }
   }
  },
  {
   "cell_type": "code",
   "execution_count": null,
   "outputs": [],
   "source": [
    "new_suid = p4c.create_subnetwork()\n",
    "print(f'New network identifier: {new_suid}')"
   ],
   "metadata": {
    "collapsed": false,
    "pycharm": {
     "name": "#%%\n"
    }
   }
  },
  {
   "cell_type": "markdown",
   "source": [
    "## Get rid of the original network, which isn't needed anymore"
   ],
   "metadata": {
    "collapsed": false,
    "pycharm": {
     "name": "#%% md\n"
    }
   }
  },
  {
   "cell_type": "code",
   "execution_count": null,
   "outputs": [],
   "source": [
    "p4c.delete_network(net_suid)\n",
    "net_suid = new_suid"
   ],
   "metadata": {
    "collapsed": false,
    "pycharm": {
     "name": "#%%\n"
    }
   }
  },
  {
   "cell_type": "markdown",
   "source": [
    "---\n",
    "# Identify Network Modules\n",
    "\n",
    "The overall strategy is to find clusters of nodes that share some common attribute. In this case, we use expression data values. Specifically:\n",
    "\n",
    "* Load Cytoscape's clusterMaker2 app\n",
    "* Use clusterMaker2 to create a dendogram showing a hierarchy of similar network modules\n"
   ],
   "metadata": {
    "collapsed": false,
    "pycharm": {
     "name": "#%% md\n"
    }
   }
  },
  {
   "cell_type": "markdown",
   "source": [
    "## Install clusterMaker2 if it hasn't already been installed"
   ],
   "metadata": {
    "collapsed": false,
    "pycharm": {
     "name": "#%% md\n"
    }
   }
  },
  {
   "cell_type": "code",
   "execution_count": null,
   "outputs": [],
   "source": [
    "p4c.install_app('clusterMaker2')"
   ],
   "metadata": {
    "collapsed": false,
    "pycharm": {
     "name": "#%%\n"
    }
   }
  },
  {
   "cell_type": "markdown",
   "source": [
    "## Identify network modules\n",
    "\n",
    "Create a hierarchic clustering of similar nodes based on the expression data columns. Cytoscape renders the hierarchy as a dendogram.\n",
    "\n",
    "*Tip:* Cytoscape's dendogram window can be used to manually explore module similarity. "
   ],
   "metadata": {
    "collapsed": false,
    "pycharm": {
     "name": "#%% md\n"
    }
   }
  },
  {
   "cell_type": "code",
   "execution_count": null,
   "outputs": [],
   "source": [
    "dendo_clustering = p4c.commands_post('cluster hierarchical showUI=true clusterAttributes=false nodeAttributeList=\"GSM1029,GSM1030,GSM1032,GSM1033,GSM1034\"')\n",
    "\n",
    "# dendo_clustering is a dictionary [{nodeOrder: [{nodeName: xxx, suid: sss}, ...]}\n",
    "#                                   {nodeTree: [{name: ggg, left: lll, right: rrr}]}]\n",
    "# where nodeOrder is a mapping between a leaf node name xxx and the suid sss of a network node,\n",
    "# and nodeTree is a tree where the left node lll and right node rrr can be leaf nodes xxx or\n",
    "# internal nodes ggg. "
   ],
   "metadata": {
    "collapsed": false,
    "pycharm": {
     "name": "#%%\n"
    }
   }
  },
  {
   "cell_type": "markdown",
   "source": [
    "---\n",
    "# Perform an enrichment analysis using the gprofiler package"
   ],
   "metadata": {
    "collapsed": false,
    "pycharm": {
     "name": "#%% md\n"
    }
   }
  },
  {
   "cell_type": "markdown",
   "source": [
    "Use a package commonly available in PyPI to calculate functional enrichment for nodes similar to a\n",
    "node in which we may be interested. In this case, we choose HBT1 (entrez-gene ID 851303).\n",
    "\n",
    "1. Find HBT1 in the similarity tree contained in the dendogram\n",
    "\n",
    "1. Find a set of nodes similar to HBT1 by collecting nodes nearby in the tree\n",
    "\n",
    "1. Use each node's SUID to look up its entrez-gene ID\n",
    "\n",
    "1. Pass the set of entrez-gene IDs to gprofiler as an enrichment query\n"
   ],
   "metadata": {
    "collapsed": false,
    "pycharm": {
     "name": "#%% md\n"
    }
   }
  },
  {
   "cell_type": "markdown",
   "source": [
    "## Find HBD1 in the similarity tree"
   ],
   "metadata": {
    "collapsed": false,
    "pycharm": {
     "name": "#%% md\n"
    }
   }
  },
  {
   "cell_type": "code",
   "execution_count": null,
   "outputs": [],
   "source": [
    "node_order = dendo_clustering[0]['nodeOrder']\n",
    "node_tree = dendo_clustering[0]['nodeTree']\n",
    "node_suid = p4c.node_name_to_node_suid('851303')[0] # Use entrez-gene ID to get SUID for HBT1\n"
   ],
   "metadata": {
    "collapsed": false,
    "pycharm": {
     "name": "#%%\n"
    }
   }
  },
  {
   "cell_type": "markdown",
   "source": [
    "## Collect set of SUIDs representing 85 similar nodes"
   ],
   "metadata": {
    "collapsed": false,
    "pycharm": {
     "name": "#%% md\n"
    }
   }
  },
  {
   "cell_type": "code",
   "execution_count": null,
   "outputs": [],
   "source": [
    "import parse_dendogram as pde # Use custom functions to decode dendogram tree\n",
    "\n",
    "node_bag = pde.create_node_bag(node_order, node_tree)\n",
    "similar_nodes = list(pde.find_node_set(node_suid, 85, node_order, node_bag))"
   ],
   "metadata": {
    "collapsed": false,
    "pycharm": {
     "name": "#%%\n"
    }
   }
  },
  {
   "cell_type": "markdown",
   "source": [
    "## Using SUIDs, query Cytoscape for each node's entrez-gene ID"
   ],
   "metadata": {
    "collapsed": false,
    "pycharm": {
     "name": "#%% md\n"
    }
   }
  },
  {
   "cell_type": "code",
   "execution_count": null,
   "outputs": [],
   "source": [
    "suid_to_entrez_gene = p4c.get_table_columns(columns='name')['name']\n",
    "entrez_gene_query = [int(suid_to_entrez_gene[suid])  for suid in similar_nodes]\n",
    "\n",
    "print(entrez_gene_query)\n"
   ],
   "metadata": {
    "collapsed": false,
    "pycharm": {
     "name": "#%%\n"
    }
   }
  },
  {
   "cell_type": "markdown",
   "source": [
    "## Install gprofiler package if it's not already installed"
   ],
   "metadata": {
    "collapsed": false,
    "pycharm": {
     "name": "#%% md\n"
    }
   }
  },
  {
   "cell_type": "code",
   "execution_count": null,
   "outputs": [],
   "source": [
    "!pip install gprofiler-official\n",
    "from gprofiler import GProfiler"
   ],
   "metadata": {
    "collapsed": false,
    "pycharm": {
     "name": "#%%\n"
    }
   }
  },
  {
   "cell_type": "markdown",
   "source": [
    "## Use entrez-gene IDs to query gprofiler for GO functional enrichment"
   ],
   "metadata": {
    "collapsed": false,
    "pycharm": {
     "name": "#%% md\n"
    }
   }
  },
  {
   "cell_type": "code",
   "execution_count": null,
   "outputs": [],
   "source": [
    "gp = GProfiler(user_agent='py4cytoscape', return_dataframe=True)\n",
    "gp.profile(organism='scerevisiae', query=entrez_gene_query)"
   ],
   "metadata": {
    "collapsed": false,
    "pycharm": {
     "name": "#%%\n"
    }
   }
  },
  {
   "cell_type": "markdown",
   "metadata": {},
   "source": [
    "## Install gprofiler package if it's not already installed"
   ]
  },
  {
   "cell_type": "code",
   "execution_count": 91,
   "metadata": {},
   "outputs": [
    {
     "name": "stdout",
     "output_type": "stream",
     "text": [
      "Requirement already satisfied: gprofiler-official in c:\\users\\cydeveloper\\pycharmprojects\\py4cytoscape\\venv\\lib\\site-packages (1.0.0)\n",
      "Requirement already satisfied: requests in c:\\users\\cydeveloper\\pycharmprojects\\py4cytoscape\\venv\\lib\\site-packages (from gprofiler-official) (2.27.1)\n",
      "Requirement already satisfied: urllib3<1.27,>=1.21.1 in c:\\users\\cydeveloper\\pycharmprojects\\py4cytoscape\\venv\\lib\\site-packages (from requests->gprofiler-official) (1.26.9)\n",
      "Requirement already satisfied: idna<4,>=2.5 in c:\\users\\cydeveloper\\pycharmprojects\\py4cytoscape\\venv\\lib\\site-packages (from requests->gprofiler-official) (3.3)\n",
      "Requirement already satisfied: charset-normalizer~=2.0.0 in c:\\users\\cydeveloper\\pycharmprojects\\py4cytoscape\\venv\\lib\\site-packages (from requests->gprofiler-official) (2.0.12)\n",
      "Requirement already satisfied: certifi>=2017.4.17 in c:\\users\\cydeveloper\\pycharmprojects\\py4cytoscape\\venv\\lib\\site-packages (from requests->gprofiler-official) (2021.10.8)\n"
     ]
    },
    {
     "name": "stderr",
     "output_type": "stream",
     "text": [
      "WARNING: You are using pip version 21.3.1; however, version 22.1 is available.\n",
      "You should consider upgrading via the 'C:\\Users\\CyDeveloper\\PycharmProjects\\py4cytoscape\\venv\\Scripts\\python.exe -m pip install --upgrade pip' command.\n"
     ]
    }
   ],
   "source": [
    "!pip install gprofiler-official\n",
    "from gprofiler import GProfiler"
   ]
  },
  {
   "cell_type": "markdown",
   "metadata": {},
   "source": [
    "## Use entrez-gene IDs to query gprofiler for GO functional enrichment"
   ]
  },
  {
   "cell_type": "code",
   "execution_count": 92,
   "metadata": {},
   "outputs": [
    {
     "data": {
      "text/html": [
       "<div>\n",
       "<style scoped>\n",
       "    .dataframe tbody tr th:only-of-type {\n",
       "        vertical-align: middle;\n",
       "    }\n",
       "\n",
       "    .dataframe tbody tr th {\n",
       "        vertical-align: top;\n",
       "    }\n",
       "\n",
       "    .dataframe thead th {\n",
       "        text-align: right;\n",
       "    }\n",
       "</style>\n",
       "<table border=\"1\" class=\"dataframe\">\n",
       "  <thead>\n",
       "    <tr style=\"text-align: right;\">\n",
       "      <th></th>\n",
       "      <th>source</th>\n",
       "      <th>native</th>\n",
       "      <th>name</th>\n",
       "      <th>p_value</th>\n",
       "      <th>significant</th>\n",
       "      <th>description</th>\n",
       "      <th>term_size</th>\n",
       "      <th>query_size</th>\n",
       "      <th>intersection_size</th>\n",
       "      <th>effective_domain_size</th>\n",
       "      <th>precision</th>\n",
       "      <th>recall</th>\n",
       "      <th>query</th>\n",
       "      <th>parents</th>\n",
       "    </tr>\n",
       "  </thead>\n",
       "  <tbody>\n",
       "    <tr>\n",
       "      <th>0</th>\n",
       "      <td>GO:CC</td>\n",
       "      <td>GO:0005838</td>\n",
       "      <td>proteasome regulatory particle</td>\n",
       "      <td>4.146200e-20</td>\n",
       "      <td>True</td>\n",
       "      <td>\"A multisubunit complex, which caps one or bot...</td>\n",
       "      <td>22</td>\n",
       "      <td>83</td>\n",
       "      <td>14</td>\n",
       "      <td>6569</td>\n",
       "      <td>0.168675</td>\n",
       "      <td>0.636364</td>\n",
       "      <td>query_1</td>\n",
       "      <td>[GO:0022624, GO:0032991]</td>\n",
       "    </tr>\n",
       "    <tr>\n",
       "      <th>1</th>\n",
       "      <td>GO:CC</td>\n",
       "      <td>GO:0022624</td>\n",
       "      <td>proteasome accessory complex</td>\n",
       "      <td>4.146200e-20</td>\n",
       "      <td>True</td>\n",
       "      <td>\"A protein complex, that caps one or both ends...</td>\n",
       "      <td>22</td>\n",
       "      <td>83</td>\n",
       "      <td>14</td>\n",
       "      <td>6569</td>\n",
       "      <td>0.168675</td>\n",
       "      <td>0.636364</td>\n",
       "      <td>query_1</td>\n",
       "      <td>[GO:0000502, GO:0005622, GO:0032991]</td>\n",
       "    </tr>\n",
       "    <tr>\n",
       "      <th>2</th>\n",
       "      <td>GO:CC</td>\n",
       "      <td>GO:0000502</td>\n",
       "      <td>proteasome complex</td>\n",
       "      <td>4.835471e-14</td>\n",
       "      <td>True</td>\n",
       "      <td>\"A large multisubunit complex which catalyzes ...</td>\n",
       "      <td>48</td>\n",
       "      <td>83</td>\n",
       "      <td>14</td>\n",
       "      <td>6569</td>\n",
       "      <td>0.168675</td>\n",
       "      <td>0.291667</td>\n",
       "      <td>query_1</td>\n",
       "      <td>[GO:0140535, GO:1905369]</td>\n",
       "    </tr>\n",
       "    <tr>\n",
       "      <th>3</th>\n",
       "      <td>KEGG</td>\n",
       "      <td>KEGG:03050</td>\n",
       "      <td>Proteasome</td>\n",
       "      <td>5.645811e-14</td>\n",
       "      <td>True</td>\n",
       "      <td>Proteasome</td>\n",
       "      <td>36</td>\n",
       "      <td>36</td>\n",
       "      <td>13</td>\n",
       "      <td>2085</td>\n",
       "      <td>0.361111</td>\n",
       "      <td>0.361111</td>\n",
       "      <td>query_1</td>\n",
       "      <td>[KEGG:00000]</td>\n",
       "    </tr>\n",
       "    <tr>\n",
       "      <th>4</th>\n",
       "      <td>GO:CC</td>\n",
       "      <td>GO:1905369</td>\n",
       "      <td>endopeptidase complex</td>\n",
       "      <td>2.293605e-13</td>\n",
       "      <td>True</td>\n",
       "      <td>\"A protein complex which is capable of endopep...</td>\n",
       "      <td>53</td>\n",
       "      <td>83</td>\n",
       "      <td>14</td>\n",
       "      <td>6569</td>\n",
       "      <td>0.168675</td>\n",
       "      <td>0.264151</td>\n",
       "      <td>query_1</td>\n",
       "      <td>[GO:1905368]</td>\n",
       "    </tr>\n",
       "    <tr>\n",
       "      <th>5</th>\n",
       "      <td>WP</td>\n",
       "      <td>WP:WP158</td>\n",
       "      <td>Proteasome degradation</td>\n",
       "      <td>1.030702e-10</td>\n",
       "      <td>True</td>\n",
       "      <td>Proteasome degradation</td>\n",
       "      <td>36</td>\n",
       "      <td>23</td>\n",
       "      <td>12</td>\n",
       "      <td>834</td>\n",
       "      <td>0.521739</td>\n",
       "      <td>0.333333</td>\n",
       "      <td>query_1</td>\n",
       "      <td>[WP:000000]</td>\n",
       "    </tr>\n",
       "    <tr>\n",
       "      <th>6</th>\n",
       "      <td>GO:CC</td>\n",
       "      <td>GO:1905368</td>\n",
       "      <td>peptidase complex</td>\n",
       "      <td>1.573096e-10</td>\n",
       "      <td>True</td>\n",
       "      <td>\"A protein complex which is capable of peptida...</td>\n",
       "      <td>82</td>\n",
       "      <td>83</td>\n",
       "      <td>14</td>\n",
       "      <td>6569</td>\n",
       "      <td>0.168675</td>\n",
       "      <td>0.170732</td>\n",
       "      <td>query_1</td>\n",
       "      <td>[GO:1902494]</td>\n",
       "    </tr>\n",
       "    <tr>\n",
       "      <th>7</th>\n",
       "      <td>GO:CC</td>\n",
       "      <td>GO:0008541</td>\n",
       "      <td>proteasome regulatory particle, lid subcomplex</td>\n",
       "      <td>7.740747e-10</td>\n",
       "      <td>True</td>\n",
       "      <td>\"The subcomplex of the proteasome regulatory p...</td>\n",
       "      <td>10</td>\n",
       "      <td>83</td>\n",
       "      <td>7</td>\n",
       "      <td>6569</td>\n",
       "      <td>0.084337</td>\n",
       "      <td>0.700000</td>\n",
       "      <td>query_1</td>\n",
       "      <td>[GO:0005838, GO:0032991]</td>\n",
       "    </tr>\n",
       "    <tr>\n",
       "      <th>8</th>\n",
       "      <td>GO:CC</td>\n",
       "      <td>GO:0034515</td>\n",
       "      <td>proteasome storage granule</td>\n",
       "      <td>2.312965e-09</td>\n",
       "      <td>True</td>\n",
       "      <td>\"An aggregation of proteasome core protease (C...</td>\n",
       "      <td>26</td>\n",
       "      <td>83</td>\n",
       "      <td>9</td>\n",
       "      <td>6569</td>\n",
       "      <td>0.108434</td>\n",
       "      <td>0.346154</td>\n",
       "      <td>query_1</td>\n",
       "      <td>[GO:0005737, GO:0043232]</td>\n",
       "    </tr>\n",
       "    <tr>\n",
       "      <th>9</th>\n",
       "      <td>GO:BP</td>\n",
       "      <td>GO:0043248</td>\n",
       "      <td>proteasome assembly</td>\n",
       "      <td>1.188348e-07</td>\n",
       "      <td>True</td>\n",
       "      <td>\"The aggregation, arrangement and bonding toge...</td>\n",
       "      <td>34</td>\n",
       "      <td>81</td>\n",
       "      <td>9</td>\n",
       "      <td>6548</td>\n",
       "      <td>0.111111</td>\n",
       "      <td>0.264706</td>\n",
       "      <td>query_1</td>\n",
       "      <td>[GO:0065003]</td>\n",
       "    </tr>\n",
       "    <tr>\n",
       "      <th>10</th>\n",
       "      <td>GO:CC</td>\n",
       "      <td>GO:0008540</td>\n",
       "      <td>proteasome regulatory particle, base subcomplex</td>\n",
       "      <td>2.489898e-07</td>\n",
       "      <td>True</td>\n",
       "      <td>\"The subcomplex of the proteasome regulatory p...</td>\n",
       "      <td>11</td>\n",
       "      <td>83</td>\n",
       "      <td>6</td>\n",
       "      <td>6569</td>\n",
       "      <td>0.072289</td>\n",
       "      <td>0.545455</td>\n",
       "      <td>query_1</td>\n",
       "      <td>[GO:0005838, GO:0032991]</td>\n",
       "    </tr>\n",
       "    <tr>\n",
       "      <th>11</th>\n",
       "      <td>GO:BP</td>\n",
       "      <td>GO:0042176</td>\n",
       "      <td>regulation of protein catabolic process</td>\n",
       "      <td>3.399551e-07</td>\n",
       "      <td>True</td>\n",
       "      <td>\"Any process that modulates the frequency, rat...</td>\n",
       "      <td>26</td>\n",
       "      <td>81</td>\n",
       "      <td>8</td>\n",
       "      <td>6548</td>\n",
       "      <td>0.098765</td>\n",
       "      <td>0.307692</td>\n",
       "      <td>query_1</td>\n",
       "      <td>[GO:0009894, GO:0030163, GO:0051246]</td>\n",
       "    </tr>\n",
       "    <tr>\n",
       "      <th>12</th>\n",
       "      <td>GO:CC</td>\n",
       "      <td>GO:0031595</td>\n",
       "      <td>nuclear proteasome complex</td>\n",
       "      <td>9.820503e-07</td>\n",
       "      <td>True</td>\n",
       "      <td>\"A proteasome found in the nucleus of a cell.\"...</td>\n",
       "      <td>7</td>\n",
       "      <td>83</td>\n",
       "      <td>5</td>\n",
       "      <td>6569</td>\n",
       "      <td>0.060241</td>\n",
       "      <td>0.714286</td>\n",
       "      <td>query_1</td>\n",
       "      <td>[GO:0000502, GO:0031981, GO:0140513]</td>\n",
       "    </tr>\n",
       "    <tr>\n",
       "      <th>13</th>\n",
       "      <td>GO:BP</td>\n",
       "      <td>GO:1901565</td>\n",
       "      <td>organonitrogen compound catabolic process</td>\n",
       "      <td>3.122987e-05</td>\n",
       "      <td>True</td>\n",
       "      <td>\"The chemical reactions and pathways resulting...</td>\n",
       "      <td>440</td>\n",
       "      <td>81</td>\n",
       "      <td>21</td>\n",
       "      <td>6548</td>\n",
       "      <td>0.259259</td>\n",
       "      <td>0.047727</td>\n",
       "      <td>query_1</td>\n",
       "      <td>[GO:1901564, GO:1901575]</td>\n",
       "    </tr>\n",
       "    <tr>\n",
       "      <th>14</th>\n",
       "      <td>GO:BP</td>\n",
       "      <td>GO:0044257</td>\n",
       "      <td>cellular protein catabolic process</td>\n",
       "      <td>8.458066e-05</td>\n",
       "      <td>True</td>\n",
       "      <td>\"The chemical reactions and pathways resulting...</td>\n",
       "      <td>305</td>\n",
       "      <td>81</td>\n",
       "      <td>17</td>\n",
       "      <td>6548</td>\n",
       "      <td>0.209877</td>\n",
       "      <td>0.055738</td>\n",
       "      <td>query_1</td>\n",
       "      <td>[GO:0030163, GO:0044265, GO:0044267]</td>\n",
       "    </tr>\n",
       "    <tr>\n",
       "      <th>15</th>\n",
       "      <td>GO:MF</td>\n",
       "      <td>GO:0036402</td>\n",
       "      <td>proteasome-activating activity</td>\n",
       "      <td>1.104819e-04</td>\n",
       "      <td>True</td>\n",
       "      <td>\"Catalysis of the reaction: ATP + H2O = ADP + ...</td>\n",
       "      <td>6</td>\n",
       "      <td>83</td>\n",
       "      <td>4</td>\n",
       "      <td>6557</td>\n",
       "      <td>0.048193</td>\n",
       "      <td>0.666667</td>\n",
       "      <td>query_1</td>\n",
       "      <td>[GO:0140657]</td>\n",
       "    </tr>\n",
       "    <tr>\n",
       "      <th>16</th>\n",
       "      <td>GO:BP</td>\n",
       "      <td>GO:0006511</td>\n",
       "      <td>ubiquitin-dependent protein catabolic process</td>\n",
       "      <td>1.639310e-04</td>\n",
       "      <td>True</td>\n",
       "      <td>\"The chemical reactions and pathways resulting...</td>\n",
       "      <td>246</td>\n",
       "      <td>81</td>\n",
       "      <td>15</td>\n",
       "      <td>6548</td>\n",
       "      <td>0.185185</td>\n",
       "      <td>0.060976</td>\n",
       "      <td>query_1</td>\n",
       "      <td>[GO:0019941]</td>\n",
       "    </tr>\n",
       "    <tr>\n",
       "      <th>17</th>\n",
       "      <td>GO:BP</td>\n",
       "      <td>GO:0030163</td>\n",
       "      <td>protein catabolic process</td>\n",
       "      <td>1.850763e-04</td>\n",
       "      <td>True</td>\n",
       "      <td>\"The chemical reactions and pathways resulting...</td>\n",
       "      <td>322</td>\n",
       "      <td>81</td>\n",
       "      <td>17</td>\n",
       "      <td>6548</td>\n",
       "      <td>0.209877</td>\n",
       "      <td>0.052795</td>\n",
       "      <td>query_1</td>\n",
       "      <td>[GO:0009057, GO:0019538, GO:1901565]</td>\n",
       "    </tr>\n",
       "    <tr>\n",
       "      <th>18</th>\n",
       "      <td>GO:BP</td>\n",
       "      <td>GO:0019941</td>\n",
       "      <td>modification-dependent protein catabolic process</td>\n",
       "      <td>2.243072e-04</td>\n",
       "      <td>True</td>\n",
       "      <td>\"The chemical reactions and pathways resulting...</td>\n",
       "      <td>252</td>\n",
       "      <td>81</td>\n",
       "      <td>15</td>\n",
       "      <td>6548</td>\n",
       "      <td>0.185185</td>\n",
       "      <td>0.059524</td>\n",
       "      <td>query_1</td>\n",
       "      <td>[GO:0043632, GO:0051603]</td>\n",
       "    </tr>\n",
       "    <tr>\n",
       "      <th>19</th>\n",
       "      <td>GO:BP</td>\n",
       "      <td>GO:0043161</td>\n",
       "      <td>proteasome-mediated ubiquitin-dependent protei...</td>\n",
       "      <td>6.020038e-04</td>\n",
       "      <td>True</td>\n",
       "      <td>\"The chemical reactions and pathways resulting...</td>\n",
       "      <td>169</td>\n",
       "      <td>81</td>\n",
       "      <td>12</td>\n",
       "      <td>6548</td>\n",
       "      <td>0.148148</td>\n",
       "      <td>0.071006</td>\n",
       "      <td>query_1</td>\n",
       "      <td>[GO:0006511, GO:0010498]</td>\n",
       "    </tr>\n",
       "    <tr>\n",
       "      <th>20</th>\n",
       "      <td>GO:BP</td>\n",
       "      <td>GO:0043632</td>\n",
       "      <td>modification-dependent macromolecule catabolic...</td>\n",
       "      <td>6.575870e-04</td>\n",
       "      <td>True</td>\n",
       "      <td>\"The chemical reactions and pathways resulting...</td>\n",
       "      <td>274</td>\n",
       "      <td>81</td>\n",
       "      <td>15</td>\n",
       "      <td>6548</td>\n",
       "      <td>0.185185</td>\n",
       "      <td>0.054745</td>\n",
       "      <td>query_1</td>\n",
       "      <td>[GO:0044265]</td>\n",
       "    </tr>\n",
       "    <tr>\n",
       "      <th>21</th>\n",
       "      <td>GO:BP</td>\n",
       "      <td>GO:0061136</td>\n",
       "      <td>regulation of proteasomal protein catabolic pr...</td>\n",
       "      <td>9.518034e-04</td>\n",
       "      <td>True</td>\n",
       "      <td>\"Any process that modulates the rate, frequenc...</td>\n",
       "      <td>17</td>\n",
       "      <td>81</td>\n",
       "      <td>5</td>\n",
       "      <td>6548</td>\n",
       "      <td>0.061728</td>\n",
       "      <td>0.294118</td>\n",
       "      <td>query_1</td>\n",
       "      <td>[GO:0010498, GO:1903050]</td>\n",
       "    </tr>\n",
       "    <tr>\n",
       "      <th>22</th>\n",
       "      <td>GO:BP</td>\n",
       "      <td>GO:0051603</td>\n",
       "      <td>proteolysis involved in cellular protein catab...</td>\n",
       "      <td>9.903333e-04</td>\n",
       "      <td>True</td>\n",
       "      <td>\"The hydrolysis of a peptide bond or bonds wit...</td>\n",
       "      <td>283</td>\n",
       "      <td>81</td>\n",
       "      <td>15</td>\n",
       "      <td>6548</td>\n",
       "      <td>0.185185</td>\n",
       "      <td>0.053004</td>\n",
       "      <td>query_1</td>\n",
       "      <td>[GO:0006508, GO:0044257]</td>\n",
       "    </tr>\n",
       "    <tr>\n",
       "      <th>23</th>\n",
       "      <td>GO:BP</td>\n",
       "      <td>GO:1901575</td>\n",
       "      <td>organic substance catabolic process</td>\n",
       "      <td>1.026373e-03</td>\n",
       "      <td>True</td>\n",
       "      <td>\"The chemical reactions and pathways resulting...</td>\n",
       "      <td>792</td>\n",
       "      <td>81</td>\n",
       "      <td>26</td>\n",
       "      <td>6548</td>\n",
       "      <td>0.320988</td>\n",
       "      <td>0.032828</td>\n",
       "      <td>query_1</td>\n",
       "      <td>[GO:0009056, GO:0071704]</td>\n",
       "    </tr>\n",
       "    <tr>\n",
       "      <th>24</th>\n",
       "      <td>GO:BP</td>\n",
       "      <td>GO:0010498</td>\n",
       "      <td>proteasomal protein catabolic process</td>\n",
       "      <td>1.325901e-03</td>\n",
       "      <td>True</td>\n",
       "      <td>\"The chemical reactions and pathways resulting...</td>\n",
       "      <td>182</td>\n",
       "      <td>81</td>\n",
       "      <td>12</td>\n",
       "      <td>6548</td>\n",
       "      <td>0.148148</td>\n",
       "      <td>0.065934</td>\n",
       "      <td>query_1</td>\n",
       "      <td>[GO:0030163, GO:0051603]</td>\n",
       "    </tr>\n",
       "    <tr>\n",
       "      <th>25</th>\n",
       "      <td>GO:BP</td>\n",
       "      <td>GO:1903362</td>\n",
       "      <td>regulation of cellular protein catabolic process</td>\n",
       "      <td>1.754162e-03</td>\n",
       "      <td>True</td>\n",
       "      <td>\"Any process that modulates the frequency, rat...</td>\n",
       "      <td>19</td>\n",
       "      <td>81</td>\n",
       "      <td>5</td>\n",
       "      <td>6548</td>\n",
       "      <td>0.061728</td>\n",
       "      <td>0.263158</td>\n",
       "      <td>query_1</td>\n",
       "      <td>[GO:0031329, GO:0032268, GO:0042176, GO:0044257]</td>\n",
       "    </tr>\n",
       "    <tr>\n",
       "      <th>26</th>\n",
       "      <td>GO:BP</td>\n",
       "      <td>GO:1903050</td>\n",
       "      <td>regulation of proteolysis involved in cellular...</td>\n",
       "      <td>1.754162e-03</td>\n",
       "      <td>True</td>\n",
       "      <td>\"Any process that modulates the frequency, rat...</td>\n",
       "      <td>19</td>\n",
       "      <td>81</td>\n",
       "      <td>5</td>\n",
       "      <td>6548</td>\n",
       "      <td>0.061728</td>\n",
       "      <td>0.263158</td>\n",
       "      <td>query_1</td>\n",
       "      <td>[GO:0030162, GO:0051603, GO:1903362]</td>\n",
       "    </tr>\n",
       "    <tr>\n",
       "      <th>27</th>\n",
       "      <td>GO:CC</td>\n",
       "      <td>GO:0031597</td>\n",
       "      <td>cytosolic proteasome complex</td>\n",
       "      <td>3.194513e-03</td>\n",
       "      <td>True</td>\n",
       "      <td>\"A proteasome complex found in the cytosol of ...</td>\n",
       "      <td>5</td>\n",
       "      <td>83</td>\n",
       "      <td>3</td>\n",
       "      <td>6569</td>\n",
       "      <td>0.036145</td>\n",
       "      <td>0.600000</td>\n",
       "      <td>query_1</td>\n",
       "      <td>[GO:0000502, GO:0005829]</td>\n",
       "    </tr>\n",
       "    <tr>\n",
       "      <th>28</th>\n",
       "      <td>GO:BP</td>\n",
       "      <td>GO:0006508</td>\n",
       "      <td>proteolysis</td>\n",
       "      <td>4.330926e-03</td>\n",
       "      <td>True</td>\n",
       "      <td>\"The hydrolysis of proteins into smaller polyp...</td>\n",
       "      <td>404</td>\n",
       "      <td>81</td>\n",
       "      <td>17</td>\n",
       "      <td>6548</td>\n",
       "      <td>0.209877</td>\n",
       "      <td>0.042079</td>\n",
       "      <td>query_1</td>\n",
       "      <td>[GO:0019538]</td>\n",
       "    </tr>\n",
       "    <tr>\n",
       "      <th>29</th>\n",
       "      <td>GO:BP</td>\n",
       "      <td>GO:0070682</td>\n",
       "      <td>proteasome regulatory particle assembly</td>\n",
       "      <td>4.537153e-03</td>\n",
       "      <td>True</td>\n",
       "      <td>\"The aggregation, arrangement and bonding toge...</td>\n",
       "      <td>11</td>\n",
       "      <td>81</td>\n",
       "      <td>4</td>\n",
       "      <td>6548</td>\n",
       "      <td>0.049383</td>\n",
       "      <td>0.363636</td>\n",
       "      <td>query_1</td>\n",
       "      <td>[GO:0043248]</td>\n",
       "    </tr>\n",
       "    <tr>\n",
       "      <th>30</th>\n",
       "      <td>GO:BP</td>\n",
       "      <td>GO:0009057</td>\n",
       "      <td>macromolecule catabolic process</td>\n",
       "      <td>5.740449e-03</td>\n",
       "      <td>True</td>\n",
       "      <td>\"The chemical reactions and pathways resulting...</td>\n",
       "      <td>505</td>\n",
       "      <td>81</td>\n",
       "      <td>19</td>\n",
       "      <td>6548</td>\n",
       "      <td>0.234568</td>\n",
       "      <td>0.037624</td>\n",
       "      <td>query_1</td>\n",
       "      <td>[GO:0043170, GO:1901575]</td>\n",
       "    </tr>\n",
       "    <tr>\n",
       "      <th>31</th>\n",
       "      <td>GO:BP</td>\n",
       "      <td>GO:0045899</td>\n",
       "      <td>positive regulation of RNA polymerase II trans...</td>\n",
       "      <td>6.741788e-03</td>\n",
       "      <td>True</td>\n",
       "      <td>\"Any process that activates or increases the f...</td>\n",
       "      <td>12</td>\n",
       "      <td>81</td>\n",
       "      <td>4</td>\n",
       "      <td>6548</td>\n",
       "      <td>0.049383</td>\n",
       "      <td>0.333333</td>\n",
       "      <td>query_1</td>\n",
       "      <td>[GO:0031334, GO:0045898, GO:0051123, GO:0060261]</td>\n",
       "    </tr>\n",
       "    <tr>\n",
       "      <th>32</th>\n",
       "      <td>GO:BP</td>\n",
       "      <td>GO:1901800</td>\n",
       "      <td>positive regulation of proteasomal protein cat...</td>\n",
       "      <td>6.741788e-03</td>\n",
       "      <td>True</td>\n",
       "      <td>\"Any process that activates or increases the f...</td>\n",
       "      <td>12</td>\n",
       "      <td>81</td>\n",
       "      <td>4</td>\n",
       "      <td>6548</td>\n",
       "      <td>0.049383</td>\n",
       "      <td>0.333333</td>\n",
       "      <td>query_1</td>\n",
       "      <td>[GO:0010498, GO:0061136, GO:1903052]</td>\n",
       "    </tr>\n",
       "    <tr>\n",
       "      <th>33</th>\n",
       "      <td>GO:BP</td>\n",
       "      <td>GO:1903052</td>\n",
       "      <td>positive regulation of proteolysis involved in...</td>\n",
       "      <td>6.741788e-03</td>\n",
       "      <td>True</td>\n",
       "      <td>\"Any process that activates or increases the f...</td>\n",
       "      <td>12</td>\n",
       "      <td>81</td>\n",
       "      <td>4</td>\n",
       "      <td>6548</td>\n",
       "      <td>0.049383</td>\n",
       "      <td>0.333333</td>\n",
       "      <td>query_1</td>\n",
       "      <td>[GO:0045862, GO:0051603, GO:1903050, GO:1903364]</td>\n",
       "    </tr>\n",
       "    <tr>\n",
       "      <th>34</th>\n",
       "      <td>GO:BP</td>\n",
       "      <td>GO:1903364</td>\n",
       "      <td>positive regulation of cellular protein catabo...</td>\n",
       "      <td>6.741788e-03</td>\n",
       "      <td>True</td>\n",
       "      <td>\"Any process that activates or increases the f...</td>\n",
       "      <td>12</td>\n",
       "      <td>81</td>\n",
       "      <td>4</td>\n",
       "      <td>6548</td>\n",
       "      <td>0.049383</td>\n",
       "      <td>0.333333</td>\n",
       "      <td>query_1</td>\n",
       "      <td>[GO:0031331, GO:0032270, GO:0044257, GO:004573...</td>\n",
       "    </tr>\n",
       "    <tr>\n",
       "      <th>35</th>\n",
       "      <td>GO:BP</td>\n",
       "      <td>GO:0044265</td>\n",
       "      <td>cellular macromolecule catabolic process</td>\n",
       "      <td>7.278614e-03</td>\n",
       "      <td>True</td>\n",
       "      <td>\"The chemical reactions and pathways resulting...</td>\n",
       "      <td>466</td>\n",
       "      <td>81</td>\n",
       "      <td>18</td>\n",
       "      <td>6548</td>\n",
       "      <td>0.222222</td>\n",
       "      <td>0.038627</td>\n",
       "      <td>query_1</td>\n",
       "      <td>[GO:0009057, GO:0044248, GO:0044260]</td>\n",
       "    </tr>\n",
       "    <tr>\n",
       "      <th>36</th>\n",
       "      <td>GO:BP</td>\n",
       "      <td>GO:0045898</td>\n",
       "      <td>regulation of RNA polymerase II transcription ...</td>\n",
       "      <td>1.337852e-02</td>\n",
       "      <td>True</td>\n",
       "      <td>\"Any process that modulates the frequency, rat...</td>\n",
       "      <td>14</td>\n",
       "      <td>81</td>\n",
       "      <td>4</td>\n",
       "      <td>6548</td>\n",
       "      <td>0.049383</td>\n",
       "      <td>0.285714</td>\n",
       "      <td>query_1</td>\n",
       "      <td>[GO:0043254, GO:0051123, GO:0060260]</td>\n",
       "    </tr>\n",
       "    <tr>\n",
       "      <th>37</th>\n",
       "      <td>GO:BP</td>\n",
       "      <td>GO:0045732</td>\n",
       "      <td>positive regulation of protein catabolic process</td>\n",
       "      <td>1.337852e-02</td>\n",
       "      <td>True</td>\n",
       "      <td>\"Any process that activates or increases the f...</td>\n",
       "      <td>14</td>\n",
       "      <td>81</td>\n",
       "      <td>4</td>\n",
       "      <td>6548</td>\n",
       "      <td>0.049383</td>\n",
       "      <td>0.285714</td>\n",
       "      <td>query_1</td>\n",
       "      <td>[GO:0009896, GO:0030163, GO:0042176, GO:0051247]</td>\n",
       "    </tr>\n",
       "    <tr>\n",
       "      <th>38</th>\n",
       "      <td>KEGG</td>\n",
       "      <td>KEGG:01200</td>\n",
       "      <td>Carbon metabolism</td>\n",
       "      <td>1.350159e-02</td>\n",
       "      <td>True</td>\n",
       "      <td>Carbon metabolism</td>\n",
       "      <td>112</td>\n",
       "      <td>36</td>\n",
       "      <td>8</td>\n",
       "      <td>2085</td>\n",
       "      <td>0.222222</td>\n",
       "      <td>0.071429</td>\n",
       "      <td>query_1</td>\n",
       "      <td>[KEGG:00000]</td>\n",
       "    </tr>\n",
       "    <tr>\n",
       "      <th>39</th>\n",
       "      <td>GO:CC</td>\n",
       "      <td>GO:1902494</td>\n",
       "      <td>catalytic complex</td>\n",
       "      <td>1.933045e-02</td>\n",
       "      <td>True</td>\n",
       "      <td>\"A protein complex which is capable of catalyt...</td>\n",
       "      <td>755</td>\n",
       "      <td>83</td>\n",
       "      <td>22</td>\n",
       "      <td>6569</td>\n",
       "      <td>0.265060</td>\n",
       "      <td>0.029139</td>\n",
       "      <td>query_1</td>\n",
       "      <td>[GO:0032991]</td>\n",
       "    </tr>\n",
       "    <tr>\n",
       "      <th>40</th>\n",
       "      <td>GO:BP</td>\n",
       "      <td>GO:0060261</td>\n",
       "      <td>positive regulation of transcription initiatio...</td>\n",
       "      <td>2.387010e-02</td>\n",
       "      <td>True</td>\n",
       "      <td>\"Any process that increases the rate, frequenc...</td>\n",
       "      <td>16</td>\n",
       "      <td>81</td>\n",
       "      <td>4</td>\n",
       "      <td>6548</td>\n",
       "      <td>0.049383</td>\n",
       "      <td>0.250000</td>\n",
       "      <td>query_1</td>\n",
       "      <td>[GO:0006367, GO:0045944, GO:0060260, GO:2000144]</td>\n",
       "    </tr>\n",
       "    <tr>\n",
       "      <th>41</th>\n",
       "      <td>GO:BP</td>\n",
       "      <td>GO:0009056</td>\n",
       "      <td>catabolic process</td>\n",
       "      <td>2.778060e-02</td>\n",
       "      <td>True</td>\n",
       "      <td>\"The chemical reactions and pathways resulting...</td>\n",
       "      <td>1006</td>\n",
       "      <td>81</td>\n",
       "      <td>27</td>\n",
       "      <td>6548</td>\n",
       "      <td>0.333333</td>\n",
       "      <td>0.026839</td>\n",
       "      <td>query_1</td>\n",
       "      <td>[GO:0008152]</td>\n",
       "    </tr>\n",
       "    <tr>\n",
       "      <th>42</th>\n",
       "      <td>GO:BP</td>\n",
       "      <td>GO:2000144</td>\n",
       "      <td>positive regulation of DNA-templated transcrip...</td>\n",
       "      <td>3.092189e-02</td>\n",
       "      <td>True</td>\n",
       "      <td>\"Any process that activates or increases the f...</td>\n",
       "      <td>17</td>\n",
       "      <td>81</td>\n",
       "      <td>4</td>\n",
       "      <td>6548</td>\n",
       "      <td>0.049383</td>\n",
       "      <td>0.235294</td>\n",
       "      <td>query_1</td>\n",
       "      <td>[GO:0006352, GO:0045893, GO:2000142]</td>\n",
       "    </tr>\n",
       "    <tr>\n",
       "      <th>43</th>\n",
       "      <td>GO:MF</td>\n",
       "      <td>GO:0017025</td>\n",
       "      <td>TBP-class protein binding</td>\n",
       "      <td>3.813236e-02</td>\n",
       "      <td>True</td>\n",
       "      <td>\"Binding to a member of the class of TATA-bind...</td>\n",
       "      <td>21</td>\n",
       "      <td>83</td>\n",
       "      <td>4</td>\n",
       "      <td>6557</td>\n",
       "      <td>0.048193</td>\n",
       "      <td>0.190476</td>\n",
       "      <td>query_1</td>\n",
       "      <td>[GO:0140296]</td>\n",
       "    </tr>\n",
       "    <tr>\n",
       "      <th>44</th>\n",
       "      <td>KEGG</td>\n",
       "      <td>KEGG:00630</td>\n",
       "      <td>Glyoxylate and dicarboxylate metabolism</td>\n",
       "      <td>3.825369e-02</td>\n",
       "      <td>True</td>\n",
       "      <td>Glyoxylate and dicarboxylate metabolism</td>\n",
       "      <td>29</td>\n",
       "      <td>36</td>\n",
       "      <td>4</td>\n",
       "      <td>2085</td>\n",
       "      <td>0.111111</td>\n",
       "      <td>0.137931</td>\n",
       "      <td>query_1</td>\n",
       "      <td>[KEGG:00000]</td>\n",
       "    </tr>\n",
       "    <tr>\n",
       "      <th>45</th>\n",
       "      <td>GO:BP</td>\n",
       "      <td>GO:0045862</td>\n",
       "      <td>positive regulation of proteolysis</td>\n",
       "      <td>4.941839e-02</td>\n",
       "      <td>True</td>\n",
       "      <td>\"Any process that activates or increases the f...</td>\n",
       "      <td>19</td>\n",
       "      <td>81</td>\n",
       "      <td>4</td>\n",
       "      <td>6548</td>\n",
       "      <td>0.049383</td>\n",
       "      <td>0.210526</td>\n",
       "      <td>query_1</td>\n",
       "      <td>[GO:0006508, GO:0030162, GO:0032270]</td>\n",
       "    </tr>\n",
       "  </tbody>\n",
       "</table>\n",
       "</div>"
      ],
      "text/plain": [
       "   source      native                                               name  \\\n",
       "0   GO:CC  GO:0005838                     proteasome regulatory particle   \n",
       "1   GO:CC  GO:0022624                       proteasome accessory complex   \n",
       "2   GO:CC  GO:0000502                                 proteasome complex   \n",
       "3    KEGG  KEGG:03050                                         Proteasome   \n",
       "4   GO:CC  GO:1905369                              endopeptidase complex   \n",
       "5      WP    WP:WP158                             Proteasome degradation   \n",
       "6   GO:CC  GO:1905368                                  peptidase complex   \n",
       "7   GO:CC  GO:0008541     proteasome regulatory particle, lid subcomplex   \n",
       "8   GO:CC  GO:0034515                         proteasome storage granule   \n",
       "9   GO:BP  GO:0043248                                proteasome assembly   \n",
       "10  GO:CC  GO:0008540    proteasome regulatory particle, base subcomplex   \n",
       "11  GO:BP  GO:0042176            regulation of protein catabolic process   \n",
       "12  GO:CC  GO:0031595                         nuclear proteasome complex   \n",
       "13  GO:BP  GO:1901565          organonitrogen compound catabolic process   \n",
       "14  GO:BP  GO:0044257                 cellular protein catabolic process   \n",
       "15  GO:MF  GO:0036402                     proteasome-activating activity   \n",
       "16  GO:BP  GO:0006511      ubiquitin-dependent protein catabolic process   \n",
       "17  GO:BP  GO:0030163                          protein catabolic process   \n",
       "18  GO:BP  GO:0019941   modification-dependent protein catabolic process   \n",
       "19  GO:BP  GO:0043161  proteasome-mediated ubiquitin-dependent protei...   \n",
       "20  GO:BP  GO:0043632  modification-dependent macromolecule catabolic...   \n",
       "21  GO:BP  GO:0061136  regulation of proteasomal protein catabolic pr...   \n",
       "22  GO:BP  GO:0051603  proteolysis involved in cellular protein catab...   \n",
       "23  GO:BP  GO:1901575                organic substance catabolic process   \n",
       "24  GO:BP  GO:0010498              proteasomal protein catabolic process   \n",
       "25  GO:BP  GO:1903362   regulation of cellular protein catabolic process   \n",
       "26  GO:BP  GO:1903050  regulation of proteolysis involved in cellular...   \n",
       "27  GO:CC  GO:0031597                       cytosolic proteasome complex   \n",
       "28  GO:BP  GO:0006508                                        proteolysis   \n",
       "29  GO:BP  GO:0070682            proteasome regulatory particle assembly   \n",
       "30  GO:BP  GO:0009057                    macromolecule catabolic process   \n",
       "31  GO:BP  GO:0045899  positive regulation of RNA polymerase II trans...   \n",
       "32  GO:BP  GO:1901800  positive regulation of proteasomal protein cat...   \n",
       "33  GO:BP  GO:1903052  positive regulation of proteolysis involved in...   \n",
       "34  GO:BP  GO:1903364  positive regulation of cellular protein catabo...   \n",
       "35  GO:BP  GO:0044265           cellular macromolecule catabolic process   \n",
       "36  GO:BP  GO:0045898  regulation of RNA polymerase II transcription ...   \n",
       "37  GO:BP  GO:0045732   positive regulation of protein catabolic process   \n",
       "38   KEGG  KEGG:01200                                  Carbon metabolism   \n",
       "39  GO:CC  GO:1902494                                  catalytic complex   \n",
       "40  GO:BP  GO:0060261  positive regulation of transcription initiatio...   \n",
       "41  GO:BP  GO:0009056                                  catabolic process   \n",
       "42  GO:BP  GO:2000144  positive regulation of DNA-templated transcrip...   \n",
       "43  GO:MF  GO:0017025                          TBP-class protein binding   \n",
       "44   KEGG  KEGG:00630            Glyoxylate and dicarboxylate metabolism   \n",
       "45  GO:BP  GO:0045862                 positive regulation of proteolysis   \n",
       "\n",
       "         p_value  significant  \\\n",
       "0   4.146200e-20         True   \n",
       "1   4.146200e-20         True   \n",
       "2   4.835471e-14         True   \n",
       "3   5.645811e-14         True   \n",
       "4   2.293605e-13         True   \n",
       "5   1.030702e-10         True   \n",
       "6   1.573096e-10         True   \n",
       "7   7.740747e-10         True   \n",
       "8   2.312965e-09         True   \n",
       "9   1.188348e-07         True   \n",
       "10  2.489898e-07         True   \n",
       "11  3.399551e-07         True   \n",
       "12  9.820503e-07         True   \n",
       "13  3.122987e-05         True   \n",
       "14  8.458066e-05         True   \n",
       "15  1.104819e-04         True   \n",
       "16  1.639310e-04         True   \n",
       "17  1.850763e-04         True   \n",
       "18  2.243072e-04         True   \n",
       "19  6.020038e-04         True   \n",
       "20  6.575870e-04         True   \n",
       "21  9.518034e-04         True   \n",
       "22  9.903333e-04         True   \n",
       "23  1.026373e-03         True   \n",
       "24  1.325901e-03         True   \n",
       "25  1.754162e-03         True   \n",
       "26  1.754162e-03         True   \n",
       "27  3.194513e-03         True   \n",
       "28  4.330926e-03         True   \n",
       "29  4.537153e-03         True   \n",
       "30  5.740449e-03         True   \n",
       "31  6.741788e-03         True   \n",
       "32  6.741788e-03         True   \n",
       "33  6.741788e-03         True   \n",
       "34  6.741788e-03         True   \n",
       "35  7.278614e-03         True   \n",
       "36  1.337852e-02         True   \n",
       "37  1.337852e-02         True   \n",
       "38  1.350159e-02         True   \n",
       "39  1.933045e-02         True   \n",
       "40  2.387010e-02         True   \n",
       "41  2.778060e-02         True   \n",
       "42  3.092189e-02         True   \n",
       "43  3.813236e-02         True   \n",
       "44  3.825369e-02         True   \n",
       "45  4.941839e-02         True   \n",
       "\n",
       "                                          description  term_size  query_size  \\\n",
       "0   \"A multisubunit complex, which caps one or bot...         22          83   \n",
       "1   \"A protein complex, that caps one or both ends...         22          83   \n",
       "2   \"A large multisubunit complex which catalyzes ...         48          83   \n",
       "3                                          Proteasome         36          36   \n",
       "4   \"A protein complex which is capable of endopep...         53          83   \n",
       "5                              Proteasome degradation         36          23   \n",
       "6   \"A protein complex which is capable of peptida...         82          83   \n",
       "7   \"The subcomplex of the proteasome regulatory p...         10          83   \n",
       "8   \"An aggregation of proteasome core protease (C...         26          83   \n",
       "9   \"The aggregation, arrangement and bonding toge...         34          81   \n",
       "10  \"The subcomplex of the proteasome regulatory p...         11          83   \n",
       "11  \"Any process that modulates the frequency, rat...         26          81   \n",
       "12  \"A proteasome found in the nucleus of a cell.\"...          7          83   \n",
       "13  \"The chemical reactions and pathways resulting...        440          81   \n",
       "14  \"The chemical reactions and pathways resulting...        305          81   \n",
       "15  \"Catalysis of the reaction: ATP + H2O = ADP + ...          6          83   \n",
       "16  \"The chemical reactions and pathways resulting...        246          81   \n",
       "17  \"The chemical reactions and pathways resulting...        322          81   \n",
       "18  \"The chemical reactions and pathways resulting...        252          81   \n",
       "19  \"The chemical reactions and pathways resulting...        169          81   \n",
       "20  \"The chemical reactions and pathways resulting...        274          81   \n",
       "21  \"Any process that modulates the rate, frequenc...         17          81   \n",
       "22  \"The hydrolysis of a peptide bond or bonds wit...        283          81   \n",
       "23  \"The chemical reactions and pathways resulting...        792          81   \n",
       "24  \"The chemical reactions and pathways resulting...        182          81   \n",
       "25  \"Any process that modulates the frequency, rat...         19          81   \n",
       "26  \"Any process that modulates the frequency, rat...         19          81   \n",
       "27  \"A proteasome complex found in the cytosol of ...          5          83   \n",
       "28  \"The hydrolysis of proteins into smaller polyp...        404          81   \n",
       "29  \"The aggregation, arrangement and bonding toge...         11          81   \n",
       "30  \"The chemical reactions and pathways resulting...        505          81   \n",
       "31  \"Any process that activates or increases the f...         12          81   \n",
       "32  \"Any process that activates or increases the f...         12          81   \n",
       "33  \"Any process that activates or increases the f...         12          81   \n",
       "34  \"Any process that activates or increases the f...         12          81   \n",
       "35  \"The chemical reactions and pathways resulting...        466          81   \n",
       "36  \"Any process that modulates the frequency, rat...         14          81   \n",
       "37  \"Any process that activates or increases the f...         14          81   \n",
       "38                                  Carbon metabolism        112          36   \n",
       "39  \"A protein complex which is capable of catalyt...        755          83   \n",
       "40  \"Any process that increases the rate, frequenc...         16          81   \n",
       "41  \"The chemical reactions and pathways resulting...       1006          81   \n",
       "42  \"Any process that activates or increases the f...         17          81   \n",
       "43  \"Binding to a member of the class of TATA-bind...         21          83   \n",
       "44            Glyoxylate and dicarboxylate metabolism         29          36   \n",
       "45  \"Any process that activates or increases the f...         19          81   \n",
       "\n",
       "    intersection_size  effective_domain_size  precision    recall    query  \\\n",
       "0                  14                   6569   0.168675  0.636364  query_1   \n",
       "1                  14                   6569   0.168675  0.636364  query_1   \n",
       "2                  14                   6569   0.168675  0.291667  query_1   \n",
       "3                  13                   2085   0.361111  0.361111  query_1   \n",
       "4                  14                   6569   0.168675  0.264151  query_1   \n",
       "5                  12                    834   0.521739  0.333333  query_1   \n",
       "6                  14                   6569   0.168675  0.170732  query_1   \n",
       "7                   7                   6569   0.084337  0.700000  query_1   \n",
       "8                   9                   6569   0.108434  0.346154  query_1   \n",
       "9                   9                   6548   0.111111  0.264706  query_1   \n",
       "10                  6                   6569   0.072289  0.545455  query_1   \n",
       "11                  8                   6548   0.098765  0.307692  query_1   \n",
       "12                  5                   6569   0.060241  0.714286  query_1   \n",
       "13                 21                   6548   0.259259  0.047727  query_1   \n",
       "14                 17                   6548   0.209877  0.055738  query_1   \n",
       "15                  4                   6557   0.048193  0.666667  query_1   \n",
       "16                 15                   6548   0.185185  0.060976  query_1   \n",
       "17                 17                   6548   0.209877  0.052795  query_1   \n",
       "18                 15                   6548   0.185185  0.059524  query_1   \n",
       "19                 12                   6548   0.148148  0.071006  query_1   \n",
       "20                 15                   6548   0.185185  0.054745  query_1   \n",
       "21                  5                   6548   0.061728  0.294118  query_1   \n",
       "22                 15                   6548   0.185185  0.053004  query_1   \n",
       "23                 26                   6548   0.320988  0.032828  query_1   \n",
       "24                 12                   6548   0.148148  0.065934  query_1   \n",
       "25                  5                   6548   0.061728  0.263158  query_1   \n",
       "26                  5                   6548   0.061728  0.263158  query_1   \n",
       "27                  3                   6569   0.036145  0.600000  query_1   \n",
       "28                 17                   6548   0.209877  0.042079  query_1   \n",
       "29                  4                   6548   0.049383  0.363636  query_1   \n",
       "30                 19                   6548   0.234568  0.037624  query_1   \n",
       "31                  4                   6548   0.049383  0.333333  query_1   \n",
       "32                  4                   6548   0.049383  0.333333  query_1   \n",
       "33                  4                   6548   0.049383  0.333333  query_1   \n",
       "34                  4                   6548   0.049383  0.333333  query_1   \n",
       "35                 18                   6548   0.222222  0.038627  query_1   \n",
       "36                  4                   6548   0.049383  0.285714  query_1   \n",
       "37                  4                   6548   0.049383  0.285714  query_1   \n",
       "38                  8                   2085   0.222222  0.071429  query_1   \n",
       "39                 22                   6569   0.265060  0.029139  query_1   \n",
       "40                  4                   6548   0.049383  0.250000  query_1   \n",
       "41                 27                   6548   0.333333  0.026839  query_1   \n",
       "42                  4                   6548   0.049383  0.235294  query_1   \n",
       "43                  4                   6557   0.048193  0.190476  query_1   \n",
       "44                  4                   2085   0.111111  0.137931  query_1   \n",
       "45                  4                   6548   0.049383  0.210526  query_1   \n",
       "\n",
       "                                              parents  \n",
       "0                            [GO:0022624, GO:0032991]  \n",
       "1                [GO:0000502, GO:0005622, GO:0032991]  \n",
       "2                            [GO:0140535, GO:1905369]  \n",
       "3                                        [KEGG:00000]  \n",
       "4                                        [GO:1905368]  \n",
       "5                                         [WP:000000]  \n",
       "6                                        [GO:1902494]  \n",
       "7                            [GO:0005838, GO:0032991]  \n",
       "8                            [GO:0005737, GO:0043232]  \n",
       "9                                        [GO:0065003]  \n",
       "10                           [GO:0005838, GO:0032991]  \n",
       "11               [GO:0009894, GO:0030163, GO:0051246]  \n",
       "12               [GO:0000502, GO:0031981, GO:0140513]  \n",
       "13                           [GO:1901564, GO:1901575]  \n",
       "14               [GO:0030163, GO:0044265, GO:0044267]  \n",
       "15                                       [GO:0140657]  \n",
       "16                                       [GO:0019941]  \n",
       "17               [GO:0009057, GO:0019538, GO:1901565]  \n",
       "18                           [GO:0043632, GO:0051603]  \n",
       "19                           [GO:0006511, GO:0010498]  \n",
       "20                                       [GO:0044265]  \n",
       "21                           [GO:0010498, GO:1903050]  \n",
       "22                           [GO:0006508, GO:0044257]  \n",
       "23                           [GO:0009056, GO:0071704]  \n",
       "24                           [GO:0030163, GO:0051603]  \n",
       "25   [GO:0031329, GO:0032268, GO:0042176, GO:0044257]  \n",
       "26               [GO:0030162, GO:0051603, GO:1903362]  \n",
       "27                           [GO:0000502, GO:0005829]  \n",
       "28                                       [GO:0019538]  \n",
       "29                                       [GO:0043248]  \n",
       "30                           [GO:0043170, GO:1901575]  \n",
       "31   [GO:0031334, GO:0045898, GO:0051123, GO:0060261]  \n",
       "32               [GO:0010498, GO:0061136, GO:1903052]  \n",
       "33   [GO:0045862, GO:0051603, GO:1903050, GO:1903364]  \n",
       "34  [GO:0031331, GO:0032270, GO:0044257, GO:004573...  \n",
       "35               [GO:0009057, GO:0044248, GO:0044260]  \n",
       "36               [GO:0043254, GO:0051123, GO:0060260]  \n",
       "37   [GO:0009896, GO:0030163, GO:0042176, GO:0051247]  \n",
       "38                                       [KEGG:00000]  \n",
       "39                                       [GO:0032991]  \n",
       "40   [GO:0006367, GO:0045944, GO:0060260, GO:2000144]  \n",
       "41                                       [GO:0008152]  \n",
       "42               [GO:0006352, GO:0045893, GO:2000142]  \n",
       "43                                       [GO:0140296]  \n",
       "44                                       [KEGG:00000]  \n",
       "45               [GO:0006508, GO:0030162, GO:0032270]  "
      ]
     },
     "execution_count": 92,
     "metadata": {},
     "output_type": "execute_result"
    }
   ],
   "source": [
    "gp = GProfiler(user_agent='py4cytoscape', return_dataframe=True)\n",
    "gp.profile(organism='scerevisiae', query=entrez_gene_query)"
   ]
  }
 ],
 "metadata": {
  "kernelspec": {
   "display_name": "Python 3 (ipykernel)",
   "language": "python",
   "name": "python3"
  },
  "language_info": {
   "codemirror_mode": {
    "name": "ipython",
    "version": 3
   },
   "file_extension": ".py",
   "mimetype": "text/x-python",
   "name": "python",
   "nbconvert_exporter": "python",
   "pygments_lexer": "ipython3",
   "version": "3.10.4"
  }
 },
 "nbformat": 4,
 "nbformat_minor": 1
}