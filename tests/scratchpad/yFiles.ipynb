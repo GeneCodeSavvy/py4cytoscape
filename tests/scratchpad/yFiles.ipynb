{
 "cells": [
  {
   "cell_type": "code",
   "execution_count": null,
   "outputs": [],
   "source": [
    "from yfiles_jupyter_graphs import GraphWidget\n",
    "w = GraphWidget()\n",
    "w.set_nodes([\n",
    "            {'id': 0, 'properties': {'label': 'Hello World'}},\n",
    "            {'id': 1, 'properties': {'label': 'This is a second node.'}}\n",
    "        ])\n",
    "w.set_edges([\n",
    "            {'id': 0, 'start': 0, 'end': 1, 'properties': {'label': 'edge between first and second node'}}\n",
    "        ])\n",
    "w.show()"
   ],
   "metadata": {
    "collapsed": false,
    "pycharm": {
     "name": "#%%\n"
    }
   }
  },
  {
   "cell_type": "code",
   "execution_count": null,
   "outputs": [],
   "source": [
    "\n",
    "\n",
    "from networkx import connected_caveman_graph\n",
    "\n",
    "w = GraphWidget()\n",
    "\n",
    "g = connected_caveman_graph(3, 4)\n",
    "\n",
    "w.import_graph(g)\n",
    "\n",
    "w\n",
    "\n",
    "w.set_neighborhood(3, [1])\n",
    "\n",
    "w\n",
    "\n",
    "\n"
   ],
   "metadata": {
    "collapsed": false,
    "pycharm": {
     "name": "#%%\n"
    }
   }
  },
  {
   "cell_type": "code",
   "execution_count": null,
   "outputs": [],
   "source": [
    "from random import seed, random\n",
    "\n",
    "from typing import Dict\n",
    "\n",
    "from networkx import erdos_renyi_graph\n",
    "\n",
    "from yfiles_jupyter_graphs import GraphWidget\n",
    "\n",
    "seed(0)\n",
    "\n",
    "w = GraphWidget()\n",
    "\n",
    "g = erdos_renyi_graph(10, 0.3, 2)\n",
    "\n",
    "w.import_graph(g)\n",
    "\n",
    "w\n",
    "\n",
    "print(w.directed_mapping.__doc__)\n",
    "\n",
    "w.get_directed_mapping()\n",
    "\n",
    "def custom_directed_mapping(index: int, edge: Dict):\n",
    "    \"\"\"choose randomly if edge is directed\"\"\"\n",
    "    return random() < 0.5\n",
    "\n",
    "w.set_directed_mapping(custom_directed_mapping)\n",
    "\n",
    "w.get_directed_mapping()\n",
    "\n",
    "w\n",
    "\n",
    "w.del_directed_mapping()\n",
    "\n",
    "w.get_directed_mapping()\n",
    "\n"
   ],
   "metadata": {
    "collapsed": false,
    "pycharm": {
     "name": "#%%\n"
    }
   }
  },
  {
   "cell_type": "code",
   "execution_count": null,
   "outputs": [],
   "source": [
    "from random import choice, seed\n",
    "\n",
    "from typing import Dict\n",
    "\n",
    "from networkx import erdos_renyi_graph\n",
    "\n",
    "from yfiles_jupyter_graphs import GraphWidget\n",
    "\n",
    "seed(0)\n",
    "\n",
    "w = GraphWidget()\n",
    "\n",
    "g = erdos_renyi_graph(10, 0.3, 2)\n",
    "\n",
    "w.import_graph(g)\n",
    "\n",
    "w\n",
    "\n",
    "def custom_color_mapping(index: int, node: Dict):\n",
    "    \"\"\"throw some hex numbers together\"\"\"\n",
    "    return \"#\"+''.join([choice('0123456789abcdef') for j in range(6)])\n",
    "\n",
    "#Node Color Mapping\n",
    "\n",
    "print(w.node_color_mapping.__doc__)\n",
    "\n",
    "w.get_node_color_mapping()\n",
    "\n",
    "w.set_node_color_mapping(custom_color_mapping)\n",
    "\n",
    "w.get_node_color_mapping()\n",
    "\n",
    "w\n",
    "\n",
    "w.del_node_color_mapping()\n",
    "\n",
    "w.get_node_color_mapping()\n",
    "\n",
    "#Edge Color Mapping\n",
    "\n",
    "print(w.edge_color_mapping.__doc__)\n",
    "\n",
    "w.get_edge_color_mapping()\n",
    "\n",
    "w.set_edge_color_mapping(custom_color_mapping)\n",
    "\n",
    "w.get_edge_color_mapping()\n",
    "\n",
    "w\n",
    "\n",
    "w.del_edge_color_mapping()\n",
    "\n",
    "w.get_edge_color_mapping()\n",
    "\n"
   ],
   "metadata": {
    "collapsed": false,
    "pycharm": {
     "name": "#%%\n"
    }
   }
  },
  {
   "cell_type": "code",
   "execution_count": null,
   "outputs": [],
   "source": [],
   "metadata": {
    "collapsed": false,
    "pycharm": {
     "name": "#%%\n"
    }
   }
  },
  {
   "cell_type": "code",
   "execution_count": 6,
   "metadata": {},
   "outputs": [
    {
     "data": {
      "application/vnd.jupyter.widget-view+json": {
       "model_id": "c8e9239a70fe4ae1bd7456c56ff30353",
       "version_major": 2,
       "version_minor": 0
      },
      "text/plain": [
       "GraphWidget(layout=Layout(height='500px', width='100%'))"
      ]
     },
     "metadata": {},
     "output_type": "display_data"
    }
   ],
   "source": [
    "\n",
    "\n",
    "from networkx import connected_caveman_graph\n",
    "\n",
    "w = GraphWidget()\n",
    "\n",
    "g = connected_caveman_graph(3, 4)\n",
    "\n",
    "w.import_graph(g)\n",
    "\n",
    "w\n",
    "\n",
    "w.set_neighborhood(3, [1])\n",
    "\n",
    "w\n",
    "\n",
    "\n"
   ]
  },
  {
   "cell_type": "code",
   "execution_count": 7,
   "metadata": {},
   "outputs": [
    {
     "name": "stdout",
     "output_type": "stream",
     "text": [
      "The default directed mapping for edges.\n",
      "\n",
      "        Uses the graph wide directed attribute for all edges.\n",
      "\n",
      "        Parameters\n",
      "        ----------\n",
      "        index: int\n",
      "        edge: typing.Dict\n",
      "\n",
      "        Notes\n",
      "        -----\n",
      "        This is the default value for the `directed_mapping` property.\n",
      "        Can be 'overwritten' by setting the property\n",
      "        with a function of the same signature.\n",
      "\n",
      "        Example\n",
      "        -------\n",
      "        .. code::\n",
      "\n",
      "           from yfiles_jupyter_graphs import GraphWidget\n",
      "           w = GraphWidget()\n",
      "           def custom_directed_mapping(index: int, edge: typing.Dict):\n",
      "           ...\n",
      "           w.set_directed_mapping(custom_directed_mapping)\n",
      "\n",
      "        Returns\n",
      "        -------\n",
      "        directed: bool\n",
      "\n",
      "        \n"
     ]
    },
    {
     "data": {
      "text/plain": [
       "<bound method GraphWidget.default_directed_mapping of GraphWidget(layout=Layout(height='500px', width='100%'))>"
      ]
     },
     "execution_count": 7,
     "metadata": {},
     "output_type": "execute_result"
    }
   ],
   "source": [
    "from random import seed, random\n",
    "\n",
    "from typing import Dict\n",
    "\n",
    "from networkx import erdos_renyi_graph\n",
    "\n",
    "from yfiles_jupyter_graphs import GraphWidget\n",
    "\n",
    "seed(0)\n",
    "\n",
    "w = GraphWidget()\n",
    "\n",
    "g = erdos_renyi_graph(10, 0.3, 2)\n",
    "\n",
    "w.import_graph(g)\n",
    "\n",
    "w\n",
    "\n",
    "print(w.directed_mapping.__doc__)\n",
    "\n",
    "w.get_directed_mapping()\n",
    "\n",
    "def custom_directed_mapping(index: int, edge: Dict):\n",
    "    \"\"\"choose randomly if edge is directed\"\"\"\n",
    "    return random() < 0.5\n",
    "\n",
    "w.set_directed_mapping(custom_directed_mapping)\n",
    "\n",
    "w.get_directed_mapping()\n",
    "\n",
    "w\n",
    "\n",
    "w.del_directed_mapping()\n",
    "\n",
    "w.get_directed_mapping()\n",
    "\n"
   ]
  },
  {
   "cell_type": "code",
   "execution_count": 8,
   "metadata": {},
   "outputs": [
    {
     "name": "stdout",
     "output_type": "stream",
     "text": [
      "The default color mapping for nodes.\n",
      "\n",
      "        Provides constant value of '#17bebb' for all nodes.\n",
      "\n",
      "        Parameters\n",
      "        ----------\n",
      "        index: int\n",
      "        node: typing.Dict\n",
      "\n",
      "        Notes\n",
      "        -----\n",
      "        This is the default value for the `node_color_mapping` property.\n",
      "        Can be 'overwritten' by setting the property\n",
      "        with a function of the same signature.\n",
      "\n",
      "        Example\n",
      "        -------\n",
      "        .. code::\n",
      "\n",
      "           from yfiles_jupyter_graphs import GraphWidget\n",
      "           w = GraphWidget()\n",
      "           def custom_node_color_mapping(index: int, node: typing.Dict):\n",
      "           ...\n",
      "           w.set_node_color_mapping(custom_node_color_mapping)\n",
      "\n",
      "        Returns\n",
      "        -------\n",
      "        color: str\n",
      "            css color value\n",
      "\n",
      "        References\n",
      "        ----------\n",
      "        `css color value <https://developer.mozilla.org/en-US/docs/Web/CSS/color_value>`_\n",
      "\n",
      "        `yFiles docs Fill api <https://docs.yworks.com/yfileshtml/#/api/Fill>`_\n",
      "\n",
      "        \n",
      "The default color mapping for edges.\n",
      "\n",
      "        Provides constant value of '#094c4b' for all edges.\n",
      "\n",
      "        Parameters\n",
      "        ----------\n",
      "        index: int\n",
      "        edge: typing.Dict\n",
      "\n",
      "        Notes\n",
      "        -----\n",
      "        This is the default value for the `edge_color_mapping` property.\n",
      "        Can be 'overwritten' by setting the property\n",
      "        with a function of the same signature.\n",
      "\n",
      "        Example\n",
      "        -------\n",
      "        .. code::\n",
      "\n",
      "           from yfiles_jupyter_graphs import GraphWidget\n",
      "           w = GraphWidget()\n",
      "           def custom_edge_color_mapping(index: int, edge: typing.Dict):\n",
      "           ...\n",
      "           w.set_edge_color_mapping(custom_edge_color_mapping)\n",
      "\n",
      "        Returns\n",
      "        -------\n",
      "        color: str\n",
      "            css color value\n",
      "\n",
      "        References\n",
      "        ----------\n",
      "        `css color value <https://developer.mozilla.org/en-US/docs/Web/CSS/color_value>`_\n",
      "\n",
      "        `yFiles docs Fill api <https://docs.yworks.com/yfileshtml/#/api/Fill>`_\n",
      "\n",
      "        \n"
     ]
    },
    {
     "data": {
      "text/plain": [
       "<function yfiles_jupyter_graphs.widget.GraphWidget.default_edge_color_mapping(index: int, edge: Dict)>"
      ]
     },
     "execution_count": 8,
     "metadata": {},
     "output_type": "execute_result"
    }
   ],
   "source": [
    "from random import choice, seed\n",
    "\n",
    "from typing import Dict\n",
    "\n",
    "from networkx import erdos_renyi_graph\n",
    "\n",
    "from yfiles_jupyter_graphs import GraphWidget\n",
    "\n",
    "seed(0)\n",
    "\n",
    "w = GraphWidget()\n",
    "\n",
    "g = erdos_renyi_graph(10, 0.3, 2)\n",
    "\n",
    "w.import_graph(g)\n",
    "\n",
    "w\n",
    "\n",
    "def custom_color_mapping(index: int, node: Dict):\n",
    "    \"\"\"throw some hex numbers together\"\"\"\n",
    "    return \"#\"+''.join([choice('0123456789abcdef') for j in range(6)])\n",
    "\n",
    "#Node Color Mapping\n",
    "\n",
    "print(w.node_color_mapping.__doc__)\n",
    "\n",
    "w.get_node_color_mapping()\n",
    "\n",
    "w.set_node_color_mapping(custom_color_mapping)\n",
    "\n",
    "w.get_node_color_mapping()\n",
    "\n",
    "w\n",
    "\n",
    "w.del_node_color_mapping()\n",
    "\n",
    "w.get_node_color_mapping()\n",
    "\n",
    "#Edge Color Mapping\n",
    "\n",
    "print(w.edge_color_mapping.__doc__)\n",
    "\n",
    "w.get_edge_color_mapping()\n",
    "\n",
    "w.set_edge_color_mapping(custom_color_mapping)\n",
    "\n",
    "w.get_edge_color_mapping()\n",
    "\n",
    "w\n",
    "\n",
    "w.del_edge_color_mapping()\n",
    "\n",
    "w.get_edge_color_mapping()\n",
    "\n"
   ]
  },
  {
   "cell_type": "code",
   "execution_count": null,
   "metadata": {},
   "outputs": [],
   "source": []
  }
 ],
 "metadata": {
  "kernelspec": {
   "display_name": "Python 3 (ipykernel)",
   "language": "python",
   "name": "python3"
  },
  "language_info": {
   "codemirror_mode": {
    "name": "ipython",
    "version": 3
   },
   "file_extension": ".py",
   "mimetype": "text/x-python",
   "name": "python",
   "nbconvert_exporter": "python",
   "pygments_lexer": "ipython3",
   "version": "3.10.4"
  }
 },
 "nbformat": 4,
 "nbformat_minor": 1
}