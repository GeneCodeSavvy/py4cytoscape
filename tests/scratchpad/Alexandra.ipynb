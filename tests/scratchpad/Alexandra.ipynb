{
 "cells": [
  {
   "cell_type": "code",
   "execution_count": 2,
   "metadata": {},
   "outputs": [],
   "source": [
    "import py4cytoscape as p4c\n"
   ]
  },
  {
   "cell_type": "code",
   "execution_count": null,
   "metadata": {},
   "outputs": [],
   "source": [
    "p4c.cytoscape_version_info()"
   ]
  },
  {
   "cell_type": "code",
   "execution_count": null,
   "metadata": {},
   "outputs": [],
   "source": [
    "import pandas as pd\n",
    "\n",
    "p4c.close_session(False)\n",
    "\n",
    "nodes = pd.read_csv('nodes_COAD.tsv', sep='\\t')\n",
    "edges = pd.read_csv('edges_COAD.tsv', sep='\\t')\n",
    "\n",
    "node_degree = pd.concat([edges['source'].value_counts(), edges['target'].value_counts()])\n",
    "node_degree.rename('degree', inplace=True)\n",
    "nodes = nodes.set_index('id').join(node_degree).reset_index()\n",
    "\n",
    "p4c.create_network_from_data_frames(nodes, edges, title=\"my project\", collection=\"DataFrame Example\")\n",
    "\n"
   ]
  },
  {
   "cell_type": "code",
   "execution_count": null,
   "metadata": {},
   "outputs": [],
   "source": [
    "p4c.set_node_size_mapping('id', nodes['id'].tolist(), nodes['degree'].tolist(), mapping_type='d')"
   ]
  },
  {
   "cell_type": "code",
   "execution_count": null,
   "metadata": {},
   "outputs": [],
   "source": [
    "p4c.notebook_export_show_image()"
   ]
  },
  {
   "cell_type": "code",
   "execution_count": null,
   "metadata": {},
   "outputs": [],
   "source": [
    "p4c.sandbox_set(None)\n",
    "\n",
    "# Download nodes_COAD.tsv to Cytoscape sandbox\n",
    "res_nodes = p4c.sandbox_url_to('https://drive.google.com/file/d/1twJQO9UR6LBuOPaGgjjxDsWZNEFHvl-O/view?usp=sharing', 'nodes_COAD.tsv')\n",
    "res_nodes\n",
    "# Download edges_COAD.tsv to Cytoscape sandbox\n",
    "res_edges = p4c.sandbox_url_to('https://drive.google.com/file/d/1CmM-TKqJ7RDe99U1e7xYWRG86GzClC3v/view?usp=sharing', 'edges_COAD.tsv')\n",
    "res_edges\n",
    "\n",
    "print(f'Network file nodes_COAD.tsv has {res_nodes[\"fileByteCount\"]} bytes')\n",
    "print(f'Network file edges_COAD.tsv has {res_edges[\"fileByteCount\"]} bytes')\n",
    "\n",
    "# Actually, these files are needed in the Python VM, so get them up there\n",
    "p4c.sandbox_get_from('nodes_COAD.tsv')\n",
    "p4c.sandbox_get_from('edges_COAD.tsv')"
   ]
  },
  {
   "cell_type": "code",
   "execution_count": 3,
   "metadata": {},
   "outputs": [
    {
     "name": "stdout",
     "output_type": "stream",
     "text": [
      "C:\\Users\\CyDeveloper\\PycharmProjects\\py4cytoscape\\tests\\scratchpad\n",
      "C:\\Users\\CyDeveloper\\PycharmProjects\\py4cytoscape\\tests\\scratchpad\\foo\n",
      "C:\\Users\\CyDeveloper\\PycharmProjects\\py4cytoscape\\tests\\scratchpad\\foo\n",
      "should go to scratchpad\n",
      "{'file': 'C:\\\\Users\\\\CyDeveloper\\\\PycharmProjects\\\\py4cytoscape\\\\tests\\\\scratchpad\\\\foo.sif'}\n",
      "should set up installation directory\n",
      "C:\\Users\\CyDeveloper\\PycharmProjects\\py4cytoscape\\tests\\scratchpad\n",
      "This file already exists. A Cytoscape popup will be generated to confirm overwrite.\n",
      "{'file': 'C:\\\\Users\\\\CyDeveloper\\\\PycharmProjects\\\\py4cytoscape\\\\tests\\\\scratchpad\\\\foo.sif'}\n",
      "should go to sandbox mine\n",
      "C:\\Users\\CyDeveloper\\CytoscapeConfiguration\\filetransfer\\mine\n",
      "{'file': 'C:\\\\Users\\\\CyDeveloper\\\\CytoscapeConfiguration\\\\filetransfer\\\\mine\\\\foo.sif'}\n"
     ]
    }
   ],
   "source": [
    "import os\n",
    "print(os.getcwd())\n",
    "print(os.path.abspath('foo'))\n",
    "print(os.path.abspath('C:\\\\Users\\\\CyDeveloper\\\\PycharmProjects\\\\py4cytoscape\\\\tests\\\\scratchpad\\\\foo'))\n",
    "\n",
    "print('should go to scratchpad')\n",
    "print(p4c.export_network('foo'))\n",
    "print('should set up installation directory')\n",
    "print(p4c.sandbox_set(None))\n",
    "print(p4c.export_network('foo'))\n",
    "print('should go to sandbox mine')\n",
    "print(p4c.sandbox_set('mine'))\n",
    "print(p4c.export_network('foo'))\n"
   ]
  }
 ],
 "metadata": {
  "kernelspec": {
   "display_name": "Python 3 (ipykernel)",
   "language": "python",
   "name": "python3"
  },
  "language_info": {
   "codemirror_mode": {
    "name": "ipython",
    "version": 3
   },
   "file_extension": ".py",
   "mimetype": "text/x-python",
   "name": "python",
   "nbconvert_exporter": "python",
   "pygments_lexer": "ipython3",
   "version": "3.9.7"
  }
 },
 "nbformat": 4,
 "nbformat_minor": 1
}
