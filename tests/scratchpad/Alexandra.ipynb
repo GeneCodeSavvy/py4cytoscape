{
 "cells": [
  {
   "cell_type": "code",
   "execution_count": 4,
   "metadata": {},
   "outputs": [],
   "source": [
    "import py4cytoscape as p4c\n"
   ]
  },
  {
   "cell_type": "code",
   "execution_count": 6,
   "metadata": {},
   "outputs": [
    {
     "name": "stdout",
     "output_type": "stream",
     "text": [
      "Wall time: 874 ms\n"
     ]
    },
    {
     "data": {
      "text/plain": [
       "['galFiltered.sif', 'yeastHighQuality.sif']"
      ]
     },
     "execution_count": 6,
     "metadata": {},
     "output_type": "execute_result"
    }
   ],
   "source": [
    "%%time\n",
    "p4c.get_network_list()"
   ]
  },
  {
   "cell_type": "code",
   "execution_count": 7,
   "metadata": {},
   "outputs": [
    {
     "name": "stdout",
     "output_type": "stream",
     "text": [
      "Wall time: 15 ms\n"
     ]
    },
    {
     "data": {
      "text/plain": [
       "{'apiVersion': 'v1',\n",
       " 'cytoscapeVersion': '3.9.1',\n",
       " 'automationAPIVersion': '1.4.0',\n",
       " 'py4cytoscapeVersion': '1.2.0'}"
      ]
     },
     "execution_count": 7,
     "metadata": {},
     "output_type": "execute_result"
    }
   ],
   "source": [
    "%%time\n",
    "p4c.cytoscape_version_info()"
   ]
  },
  {
   "cell_type": "code",
   "execution_count": 8,
   "metadata": {},
   "outputs": [
    {
     "name": "stdout",
     "output_type": "stream",
     "text": [
      "{}\n",
      "[{'appName': 'PSICQUIC Web Service Client', 'version': '3.5.0', 'description': None, 'status': 'Installed'}, {'appName': 'CyCL', 'version': '3.6.1', 'description': None, 'status': 'Installed'}, {'appName': 'FileTransfer', 'version': '1.2', 'description': None, 'status': 'Installed'}, {'appName': 'aMatReader', 'version': '1.2.0', 'description': None, 'status': 'Installed'}, {'appName': 'NetworkAnalyzer', 'version': '4.4.8', 'description': None, 'status': 'Installed'}, {'appName': 'Network Merge', 'version': '3.9.3', 'description': None, 'status': 'Installed'}, {'appName': 'SBML Reader', 'version': '3.4.1', 'description': None, 'status': 'Installed'}, {'appName': 'cyChart', 'version': '0.3.1', 'description': None, 'status': 'Installed'}, {'appName': 'Core Apps', 'version': '3.8.0', 'description': None, 'status': 'Installed'}, {'appName': 'Largest Subnetwork', 'version': '1.3', 'description': None, 'status': 'Installed'}, {'appName': 'BioPAX Reader', 'version': '3.4.0', 'description': None, 'status': 'Installed'}, {'appName': 'clusterMaker2', 'version': '2.2', 'description': None, 'status': 'Installed'}, {'appName': 'EnrichmentTable', 'version': '1.0.0', 'description': None, 'status': 'Installed'}, {'appName': 'CyNDEx-2', 'version': '3.6.1', 'description': None, 'status': 'Installed'}, {'appName': 'AutoAnnotate', 'version': '1.3.5', 'description': None, 'status': 'Installed'}, {'appName': 'ID Mapper', 'version': '3.9.0', 'description': None, 'status': 'Installed'}, {'appName': 'PSI-MI Reader', 'version': '3.4.0', 'description': None, 'status': 'Installed'}, {'appName': 'Biomart Web Service Client', 'version': '3.4.0', 'description': None, 'status': 'Installed'}, {'appName': 'Diffusion', 'version': '1.6.1', 'description': None, 'status': 'Installed'}, {'appName': 'OpenCL Prefuse Layout', 'version': '3.6.1', 'description': None, 'status': 'Installed'}, {'appName': 'yFiles Layout Algorithms', 'version': '1.1.1', 'description': None, 'status': 'Installed'}, {'appName': 'CX Support', 'version': '2.7.0', 'description': None, 'status': 'Installed'}, {'appName': 'cyBrowser', 'version': '1.3', 'description': None, 'status': 'Installed'}, {'appName': 'MCODE', 'version': '2.0.0', 'description': None, 'status': 'Installed'}, {'appName': 'cyREST', 'version': '3.12.3', 'description': None, 'status': 'Installed'}, {'appName': 'WordCloud', 'version': '3.1.4', 'description': None, 'status': 'Installed'}, {'appName': 'copycatLayout', 'version': '1.3.1', 'description': None, 'status': 'Installed'}, {'appName': 'JSON Support', 'version': '3.7.0', 'description': None, 'status': 'Installed'}]\n",
      "2.0.0\n"
     ]
    }
   ],
   "source": [
    "p4c.install_app('MCODE')\n",
    "iapps = p4c.get_installed_apps()\n",
    "print(iapps)\n",
    "for app in iapps:\n",
    "    if app['appName'] == 'MCODE':\n",
    "        print(app['version'])"
   ]
  },
  {
   "cell_type": "code",
   "execution_count": null,
   "metadata": {},
   "outputs": [],
   "source": [
    "import pandas as pd\n",
    "\n",
    "p4c.close_session(False)\n",
    "\n",
    "nodes = pd.read_csv('nodes_COAD.tsv', sep='\\t')\n",
    "edges = pd.read_csv('edges_COAD.tsv', sep='\\t')\n",
    "\n",
    "node_degree = pd.concat([edges['source'].value_counts(), edges['target'].value_counts()])\n",
    "node_degree.rename('degree', inplace=True)\n",
    "nodes = nodes.set_index('id').join(node_degree).reset_index()\n",
    "\n",
    "p4c.create_network_from_data_frames(nodes, edges, title=\"my project\", collection=\"DataFrame Example\")\n",
    "\n"
   ]
  },
  {
   "cell_type": "code",
   "execution_count": null,
   "metadata": {},
   "outputs": [],
   "source": [
    "p4c.set_node_size_mapping('id', nodes['id'].tolist(), nodes['degree'].tolist(), mapping_type='d')"
   ]
  },
  {
   "cell_type": "code",
   "execution_count": null,
   "metadata": {},
   "outputs": [],
   "source": [
    "p4c.notebook_export_show_image()"
   ]
  },
  {
   "cell_type": "code",
   "execution_count": null,
   "metadata": {},
   "outputs": [],
   "source": [
    "p4c.sandbox_set(None)\n",
    "\n",
    "# Download nodes_COAD.tsv to Cytoscape sandbox\n",
    "res_nodes = p4c.sandbox_url_to('https://drive.google.com/file/d/1twJQO9UR6LBuOPaGgjjxDsWZNEFHvl-O/view?usp=sharing', 'nodes_COAD.tsv')\n",
    "res_nodes\n",
    "# Download edges_COAD.tsv to Cytoscape sandbox\n",
    "res_edges = p4c.sandbox_url_to('https://drive.google.com/file/d/1CmM-TKqJ7RDe99U1e7xYWRG86GzClC3v/view?usp=sharing', 'edges_COAD.tsv')\n",
    "res_edges\n",
    "\n",
    "print(f'Network file nodes_COAD.tsv has {res_nodes[\"fileByteCount\"]} bytes')\n",
    "print(f'Network file edges_COAD.tsv has {res_edges[\"fileByteCount\"]} bytes')\n",
    "\n",
    "# Actually, these files are needed in the Python VM, so get them up there\n",
    "p4c.sandbox_get_from('nodes_COAD.tsv')\n",
    "p4c.sandbox_get_from('edges_COAD.tsv')"
   ]
  },
  {
   "cell_type": "code",
   "execution_count": 3,
   "metadata": {},
   "outputs": [
    {
     "name": "stdout",
     "output_type": "stream",
     "text": [
      "C:\\Users\\CyDeveloper\\PycharmProjects\\py4cytoscape\\tests\\scratchpad\n",
      "C:\\Users\\CyDeveloper\\PycharmProjects\\py4cytoscape\\tests\\scratchpad\\foo\n",
      "C:\\Users\\CyDeveloper\\PycharmProjects\\py4cytoscape\\tests\\scratchpad\\foo\n",
      "should go to scratchpad\n",
      "This file already exists. A Cytoscape popup will be generated to confirm overwrite.\n",
      "{'file': 'C:\\\\Users\\\\CyDeveloper\\\\PycharmProjects\\\\py4cytoscape\\\\tests\\\\scratchpad\\\\foo.sif'}\n",
      "should set up installation directory\n",
      "C:\\Users\\CyDeveloper\\PycharmProjects\\py4cytoscape\\tests\\scratchpad\n",
      "This file already exists. A Cytoscape popup will be generated to confirm overwrite.\n",
      "{'file': 'C:\\\\Users\\\\CyDeveloper\\\\PycharmProjects\\\\py4cytoscape\\\\tests\\\\scratchpad\\\\foo.sif'}\n",
      "should go to sandbox mine\n",
      "C:\\Users\\CyDeveloper\\CytoscapeConfiguration\\filetransfer\\mine\n",
      "{'file': 'C:\\\\Users\\\\CyDeveloper\\\\CytoscapeConfiguration\\\\filetransfer\\\\mine\\\\foo.sif'}\n"
     ]
    }
   ],
   "source": [
    "import os\n",
    "print(os.getcwd())\n",
    "print(os.path.abspath('foo'))\n",
    "print(os.path.abspath('C:\\\\Users\\\\CyDeveloper\\\\PycharmProjects\\\\py4cytoscape\\\\tests\\\\scratchpad\\\\foo'))\n",
    "\n",
    "print('should go to scratchpad')\n",
    "print(p4c.export_network('foo'))\n",
    "print('should set up installation directory')\n",
    "print(p4c.sandbox_set(None))\n",
    "print(p4c.export_network('foo'))\n",
    "print('should go to sandbox mine')\n",
    "print(p4c.sandbox_set('mine'))\n",
    "print(p4c.export_network('foo'))\n"
   ]
  }
 ],
 "metadata": {
  "kernelspec": {
   "display_name": "Python 3 (ipykernel)",
   "language": "python",
   "name": "python3"
  },
  "language_info": {
   "codemirror_mode": {
    "name": "ipython",
    "version": 3
   },
   "file_extension": ".py",
   "mimetype": "text/x-python",
   "name": "python",
   "nbconvert_exporter": "python",
   "pygments_lexer": "ipython3",
   "version": "3.9.7"
  }
 },
 "nbformat": 4,
 "nbformat_minor": 1
}